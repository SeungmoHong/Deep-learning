{
  "nbformat": 4,
  "nbformat_minor": 0,
  "metadata": {
    "colab": {
      "name": "04_TextGeneration.ipynb",
      "provenance": [],
      "collapsed_sections": [],
      "toc_visible": true
    },
    "kernelspec": {
      "name": "python3",
      "display_name": "Python 3"
    },
    "accelerator": "GPU"
  },
  "cells": [
    {
      "cell_type": "markdown",
      "metadata": {
        "id": "iIDTy79QhnSL"
      },
      "source": [
        "# LSTM을 이용한 텍스트 생성\r\n",
        "- 데이터 다운로드 : 캐글 [New York Times Comments](https://www.kaggle.com/aashita/nyt-comments)\r\n",
        "- ArticlesApril2018.csv\r\n"
      ]
    },
    {
      "cell_type": "code",
      "metadata": {
        "id": "lweYn8Gkn-aD"
      },
      "source": [
        "import numpy as np\r\n",
        "import tensorflow as tf\r\n",
        "from tensorflow.keras.preprocessing.text import Tokenizer\r\n",
        "from tensorflow.keras.preprocessing.sequence import pad_sequences\r\n",
        "from tensorflow.keras.utils import to_categorical\r\n",
        "\r\n",
        "seed = 2021\r\n",
        "np.random.seed(seed)\r\n",
        "tf.random.set_seed(seed)"
      ],
      "execution_count": 1,
      "outputs": []
    },
    {
      "cell_type": "markdown",
      "metadata": {
        "id": "ICL8xvPhjJ8q"
      },
      "source": [
        "### 파일 업로드"
      ]
    },
    {
      "cell_type": "code",
      "metadata": {
        "colab": {
          "resources": {
            "http://localhost:8080/nbextensions/google.colab/files.js": {
              "data": "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",
              "ok": true,
              "headers": [
                [
                  "content-type",
                  "application/javascript"
                ]
              ],
              "status": 200,
              "status_text": ""
            }
          },
          "base_uri": "https://localhost:8080/",
          "height": 72
        },
        "id": "ITAXtfLEhi2R",
        "outputId": "c4809190-6c2b-4b28-9057-cc5409df2b8b"
      },
      "source": [
        "from google.colab import files\r\n",
        "\r\n",
        "uploaded = files.upload()\r\n",
        "filename = list(uploaded.keys())[0]"
      ],
      "execution_count": 2,
      "outputs": [
        {
          "output_type": "display_data",
          "data": {
            "text/html": [
              "\n",
              "     <input type=\"file\" id=\"files-991aca7d-06b3-4a0e-b30d-845fd157fa88\" name=\"files[]\" multiple disabled\n",
              "        style=\"border:none\" />\n",
              "     <output id=\"result-991aca7d-06b3-4a0e-b30d-845fd157fa88\">\n",
              "      Upload widget is only available when the cell has been executed in the\n",
              "      current browser session. Please rerun this cell to enable.\n",
              "      </output>\n",
              "      <script src=\"/nbextensions/google.colab/files.js\"></script> "
            ],
            "text/plain": [
              "<IPython.core.display.HTML object>"
            ]
          },
          "metadata": {
            "tags": []
          }
        },
        {
          "output_type": "stream",
          "text": [
            "Saving ArticlesApril2018.csv to ArticlesApril2018.csv\n"
          ],
          "name": "stdout"
        }
      ]
    },
    {
      "cell_type": "code",
      "metadata": {
        "colab": {
          "base_uri": "https://localhost:8080/",
          "height": 400
        },
        "id": "H2NBo018ixfb",
        "outputId": "0f0834ed-8f74-4cba-a2ff-869c607a995f"
      },
      "source": [
        "import pandas as pd\r\n",
        "\r\n",
        "df = pd.read_csv(filename, encoding='latin1')\r\n",
        "df.head(3)"
      ],
      "execution_count": 3,
      "outputs": [
        {
          "output_type": "execute_result",
          "data": {
            "text/html": [
              "<div>\n",
              "<style scoped>\n",
              "    .dataframe tbody tr th:only-of-type {\n",
              "        vertical-align: middle;\n",
              "    }\n",
              "\n",
              "    .dataframe tbody tr th {\n",
              "        vertical-align: top;\n",
              "    }\n",
              "\n",
              "    .dataframe thead th {\n",
              "        text-align: right;\n",
              "    }\n",
              "</style>\n",
              "<table border=\"1\" class=\"dataframe\">\n",
              "  <thead>\n",
              "    <tr style=\"text-align: right;\">\n",
              "      <th></th>\n",
              "      <th>articleID</th>\n",
              "      <th>articleWordCount</th>\n",
              "      <th>byline</th>\n",
              "      <th>documentType</th>\n",
              "      <th>headline</th>\n",
              "      <th>keywords</th>\n",
              "      <th>multimedia</th>\n",
              "      <th>newDesk</th>\n",
              "      <th>printPage</th>\n",
              "      <th>pubDate</th>\n",
              "      <th>sectionName</th>\n",
              "      <th>snippet</th>\n",
              "      <th>source</th>\n",
              "      <th>typeOfMaterial</th>\n",
              "      <th>webURL</th>\n",
              "    </tr>\n",
              "  </thead>\n",
              "  <tbody>\n",
              "    <tr>\n",
              "      <th>0</th>\n",
              "      <td>5adf6684068401528a2aa69b</td>\n",
              "      <td>781</td>\n",
              "      <td>By JOHN BRANCH</td>\n",
              "      <td>article</td>\n",
              "      <td>Former N.F.L. Cheerleadersâ Settlement Offer...</td>\n",
              "      <td>['Workplace Hazards and Violations', 'Football...</td>\n",
              "      <td>68</td>\n",
              "      <td>Sports</td>\n",
              "      <td>0</td>\n",
              "      <td>2018-04-24 17:16:49</td>\n",
              "      <td>Pro Football</td>\n",
              "      <td>âI understand that they could meet with us, ...</td>\n",
              "      <td>The New York Times</td>\n",
              "      <td>News</td>\n",
              "      <td>https://www.nytimes.com/2018/04/24/sports/foot...</td>\n",
              "    </tr>\n",
              "    <tr>\n",
              "      <th>1</th>\n",
              "      <td>5adf653f068401528a2aa697</td>\n",
              "      <td>656</td>\n",
              "      <td>By LISA FRIEDMAN</td>\n",
              "      <td>article</td>\n",
              "      <td>E.P.A. to Unveil a New Rule. Its Effect: Less ...</td>\n",
              "      <td>['Environmental Protection Agency', 'Pruitt, S...</td>\n",
              "      <td>68</td>\n",
              "      <td>Climate</td>\n",
              "      <td>0</td>\n",
              "      <td>2018-04-24 17:11:21</td>\n",
              "      <td>Unknown</td>\n",
              "      <td>The agency plans to publish a new regulation T...</td>\n",
              "      <td>The New York Times</td>\n",
              "      <td>News</td>\n",
              "      <td>https://www.nytimes.com/2018/04/24/climate/epa...</td>\n",
              "    </tr>\n",
              "    <tr>\n",
              "      <th>2</th>\n",
              "      <td>5adf4626068401528a2aa628</td>\n",
              "      <td>2427</td>\n",
              "      <td>By PETE WELLS</td>\n",
              "      <td>article</td>\n",
              "      <td>The New Noma, Explained</td>\n",
              "      <td>['Restaurants', 'Noma (Copenhagen, Restaurant)...</td>\n",
              "      <td>66</td>\n",
              "      <td>Dining</td>\n",
              "      <td>0</td>\n",
              "      <td>2018-04-24 14:58:44</td>\n",
              "      <td>Unknown</td>\n",
              "      <td>Whatâs it like to eat at the second incarnat...</td>\n",
              "      <td>The New York Times</td>\n",
              "      <td>News</td>\n",
              "      <td>https://www.nytimes.com/2018/04/24/dining/noma...</td>\n",
              "    </tr>\n",
              "  </tbody>\n",
              "</table>\n",
              "</div>"
            ],
            "text/plain": [
              "                  articleID  ...                                             webURL\n",
              "0  5adf6684068401528a2aa69b  ...  https://www.nytimes.com/2018/04/24/sports/foot...\n",
              "1  5adf653f068401528a2aa697  ...  https://www.nytimes.com/2018/04/24/climate/epa...\n",
              "2  5adf4626068401528a2aa628  ...  https://www.nytimes.com/2018/04/24/dining/noma...\n",
              "\n",
              "[3 rows x 15 columns]"
            ]
          },
          "metadata": {
            "tags": []
          },
          "execution_count": 3
        }
      ]
    },
    {
      "cell_type": "markdown",
      "metadata": {
        "id": "3p6Np03-jMq6"
      },
      "source": [
        "### 데이터 전처리"
      ]
    },
    {
      "cell_type": "code",
      "metadata": {
        "colab": {
          "base_uri": "https://localhost:8080/"
        },
        "id": "aLl8stMji0TD",
        "outputId": "d599599e-5a09-437d-86c8-68a2d3e40ce3"
      },
      "source": [
        "print('열의 갯수: ', len(df.columns))\r\n",
        "print(df.columns)"
      ],
      "execution_count": 4,
      "outputs": [
        {
          "output_type": "stream",
          "text": [
            "열의 갯수:  15\n",
            "Index(['articleID', 'articleWordCount', 'byline', 'documentType', 'headline',\n",
            "       'keywords', 'multimedia', 'newDesk', 'printPage', 'pubDate',\n",
            "       'sectionName', 'snippet', 'source', 'typeOfMaterial', 'webURL'],\n",
            "      dtype='object')\n"
          ],
          "name": "stdout"
        }
      ]
    },
    {
      "cell_type": "code",
      "metadata": {
        "colab": {
          "base_uri": "https://localhost:8080/"
        },
        "id": "ojA-6MwijfuL",
        "outputId": "dcdce175-9ce3-4510-d62c-1a0890daacf3"
      },
      "source": [
        "# headline 열의 데이터만 사용, Null 검사\r\n",
        "df['headline'].isnull().values.any()"
      ],
      "execution_count": 5,
      "outputs": [
        {
          "output_type": "execute_result",
          "data": {
            "text/plain": [
              "False"
            ]
          },
          "metadata": {
            "tags": []
          },
          "execution_count": 5
        }
      ]
    },
    {
      "cell_type": "code",
      "metadata": {
        "colab": {
          "base_uri": "https://localhost:8080/"
        },
        "id": "yCq-z4eLj23a",
        "outputId": "92381527-99bf-468f-844f-bce9f34ee131"
      },
      "source": [
        "# headline 열의 데이터로 리스트 생성\r\n",
        "headline = [text for text in df.headline.values]\r\n",
        "headline[:5]"
      ],
      "execution_count": 6,
      "outputs": [
        {
          "output_type": "execute_result",
          "data": {
            "text/plain": [
              "['Former N.F.L. Cheerleadersâ\\x80\\x99 Settlement Offer: $1 and a Meeting With Goodell',\n",
              " 'E.P.A. to Unveil a New Rule. Its Effect: Less Science in Policymaking.',\n",
              " 'The New Noma, Explained',\n",
              " 'Unknown',\n",
              " 'Unknown']"
            ]
          },
          "metadata": {
            "tags": []
          },
          "execution_count": 6
        }
      ]
    },
    {
      "cell_type": "code",
      "metadata": {
        "colab": {
          "base_uri": "https://localhost:8080/"
        },
        "id": "CeEQ64Zcj75b",
        "outputId": "3850e094-b083-4f50-fc01-cffbda30e340"
      },
      "source": [
        "len(headline)"
      ],
      "execution_count": 7,
      "outputs": [
        {
          "output_type": "execute_result",
          "data": {
            "text/plain": [
              "1324"
            ]
          },
          "metadata": {
            "tags": []
          },
          "execution_count": 7
        }
      ]
    },
    {
      "cell_type": "code",
      "metadata": {
        "colab": {
          "base_uri": "https://localhost:8080/"
        },
        "id": "vy---FyGkI9a",
        "outputId": "73d44c23-cd5e-4a31-a6a8-1f1671d2893c"
      },
      "source": [
        "# 노이즈 데이터 ('Unknown') 제거\r\n",
        "headline = [text for text in headline if text != 'Unknown']\r\n",
        "len(headline)"
      ],
      "execution_count": 8,
      "outputs": [
        {
          "output_type": "execute_result",
          "data": {
            "text/plain": [
              "1214"
            ]
          },
          "metadata": {
            "tags": []
          },
          "execution_count": 8
        }
      ]
    },
    {
      "cell_type": "code",
      "metadata": {
        "colab": {
          "base_uri": "https://localhost:8080/",
          "height": 35
        },
        "id": "qfGrHaVZkUbT",
        "outputId": "7cda4847-281f-4403-bef3-1826956065fe"
      },
      "source": [
        "from string import punctuation\r\n",
        "punctuation"
      ],
      "execution_count": 9,
      "outputs": [
        {
          "output_type": "execute_result",
          "data": {
            "application/vnd.google.colaboratory.intrinsic+json": {
              "type": "string"
            },
            "text/plain": [
              "'!\"#$%&\\'()*+,-./:;<=>?@[\\\\]^_`{|}~'"
            ]
          },
          "metadata": {
            "tags": []
          },
          "execution_count": 9
        }
      ]
    },
    {
      "cell_type": "code",
      "metadata": {
        "id": "cSQ6ceywkyIE"
      },
      "source": [
        "# 구두점 제거와 소문자화를 위한 함수\r\n",
        "def preprocessing(s):\r\n",
        "  s=s.encode(\"utf8\").decode(\"ascii\", \"ignore\")\r\n",
        "  return ''.join(c for c in s if c not in punctuation).lower()"
      ],
      "execution_count": 10,
      "outputs": []
    },
    {
      "cell_type": "code",
      "metadata": {
        "colab": {
          "base_uri": "https://localhost:8080/"
        },
        "id": "o1ro0YYslD7U",
        "outputId": "ccdd2f30-0e04-483a-f4d9-aebe2afecde6"
      },
      "source": [
        "headlines = [preprocessing(x) for x in headline]\r\n",
        "headlines[:5]"
      ],
      "execution_count": 11,
      "outputs": [
        {
          "output_type": "execute_result",
          "data": {
            "text/plain": [
              "['former nfl cheerleaders settlement offer 1 and a meeting with goodell',\n",
              " 'epa to unveil a new rule its effect less science in policymaking',\n",
              " 'the new noma explained',\n",
              " 'how a bag of texas dirt  became a times tradition',\n",
              " 'is school a place for selfexpression']"
            ]
          },
          "metadata": {
            "tags": []
          },
          "execution_count": 11
        }
      ]
    },
    {
      "cell_type": "code",
      "metadata": {
        "colab": {
          "base_uri": "https://localhost:8080/"
        },
        "id": "V5LBkezllMAb",
        "outputId": "318c5313-84c2-45df-c5a4-f853101a8e07"
      },
      "source": [
        "# 단어 집합(vocabulary)을 만들고 크기를 확인\r\n",
        "t = Tokenizer()\r\n",
        "t.fit_on_texts(headlines)\r\n",
        "vocab_size = len(t.word_index)+1\r\n",
        "print('단어 집합의 크기 : %d' % vocab_size)"
      ],
      "execution_count": 12,
      "outputs": [
        {
          "output_type": "stream",
          "text": [
            "단어 집합의 크기 : 3494\n"
          ],
          "name": "stdout"
        }
      ]
    },
    {
      "cell_type": "code",
      "metadata": {
        "colab": {
          "base_uri": "https://localhost:8080/"
        },
        "id": "F-7InyYxojum",
        "outputId": "2343c7ae-61ce-46e4-c883-bc2a42bb7507"
      },
      "source": [
        "t.word_index.keys()"
      ],
      "execution_count": 13,
      "outputs": [
        {
          "output_type": "execute_result",
          "data": {
            "text/plain": [
              "dict_keys(['the', 'a', 'to', 'of', 'in', 'for', 'and', 'is', 'on', 'with', 'trump', 'as', 'at', 'new', 'how', 'from', 'it', 'an', 'that', 'be', 'season', 'us', 'you', 'its', 'what', 'episode', 'can', 'your', 'not', 'he', 'now', 'his', 'are', 'teaching', 'war', 'out', 'no', 'was', 'by', 'trumps', 'has', 'over', 'may', 'into', 'why', 'more', 'we', 'who', 'about', 'recap', 'activities', '1', 'just', 'do', 'women', 'when', 'syria', 'trade', 'i', '2', 'or', 'will', 'this', 'have', 'president', 'but', 'home', 'up', 'long', 'one', 'off', 'facebook', 'house', 'gop', 'our', 'case', 'they', 'life', 'end', 'right', 'some', 'big', 'dead', 'power', 'say', 'white', 'after', 'still', 'north', 'my', 'dont', 'need', 'race', 'own', 'against', 'here', 'should', 'border', 'former', 'epa', 'battle', 'mr', 'too', 'their', 'plan', '3', 'china', 'real', 'were', 'her', 'russia', 'art', 'good', 'then', 'like', 'pay', 'back', 'get', 'love', 'says', 'officials', 'fight', 'tariffs', 'pruitt', 'democrats', 'black', 'man', 'men', 'help', 'never', 'york', 'comey', 'chief', 'metoo', 'work', 'place', 'could', 'past', 'years', 'rights', 'first', 'money', 'save', 'going', 'all', 'way', 'political', 'fear', 'next', 'fire', 'party', 'me', 'becomes', '8', 'better', 'old', 'dr', 'king', 'homes', 'ryan', 'tax', 'if', 'than', 'americans', 'rules', 'police', 'school', 'leaders', 'korea', 'there', 'top', 'court', 'state', '10', 'lower', 'states', 'whats', 'use', 'cancer', 'britain', 'wont', 'time', 'america', 'history', 'where', 'lead', 'left', 'plans', 'talk', 'crisis', 'two', 'tells', 'trust', 'nuclear', 'children', 'million', 'make', 'leader', 'others', 'attack', 'people', 'another', '6', 'world', 'day', 'car', 'young', 'little', 'california', 'crash', 'last', 'book', 'death', 'gun', 'texas', 'hes', 'sex', 'abuse', 'find', 'truth', 'arizona', 'american', 'pompeo', 'change', 'city', 'kim', 'so', 'music', 'risks', 'being', 'billions', '5', 'family', 'missing', 'gaza', 'vs', 'senate', 'heart', 'justice', 'killing', 'cia', 'come', 'shows', 'turning', 'schools', 'parents', 'law', 'legal', 'economy', 'strike', 'him', 'threat', 'before', 'takes', 'night', 'mueller', 'close', 'cut', 'dream', 'face', 'friends', 'does', 'game', 'dear', 'boss', 'baby', 'kings', 'jail', 'nfl', 'jimmy', 'word', 'hot', 'turns', 'gap', 'got', 'hope', 'making', 'overlooked', 'push', 'high', 'deal', 'heck', 'live', 'families', 'wrong', '2018', 'fix', 'lawyers', 'koreas', 'choose', 'public', 'cuomo', 'steel', 'open', 'scott', 'beyond', 'variety', 'ethics', 'files', 'dept', 'let', 'inside', 'director', 'far', 'side', 'rupauls', 'drag', 'fence', 'sanctions', 'want', 'global', 'great', 'fish', 'market', 'team', 'eat', 'problem', 'miracle', 'tied', 'hours', 'working', 'other', 'yet', 'call', 'allies', 'privacy', 'data', 'experts', 'go', 'met', 'brooklyn', 'didnt', 'russian', 'trial', 'apply', 'college', 'many', '4', 'security', 'year', 'tale', 'social', 'control', 'been', 'hit', 'early', 'behind', 'match', 'ok', 'fears', 'isis', 'walking', 'national', 'presidency', 'student', 'second', 'limits', 'care', 'era', 'south', 'guard', 'rise', 'edge', 'hero', 'tech', 'secret', 'storm', 'gets', 'watch', 'weapons', 'cheerleaders', 'meeting', 'less', 'science', 'dirt', 'times', 'looking', 'win', 'pope', 'stuff', 'wants', 'ruling', 'town', 'cold', 'behavior', 'guns', 'stand', 'human', 'economic', 'tragedy', 'paul', 'them', 'key', 'down', 'given', 'urge', 'kids', 'westworld', 'picture', 'april', '23', 'subway', 'lets', 'impeachment', 'feel', 'told', 'smile', 'meet', 'wild', 'guide', 'business', 'republicans', 'starbucks', 'door', 'heres', 'punch', 'air', 'caution', 'democratic', 'seen', 'west', 'once', 'marriage', 'politics', 'mission', 'support', 'extra', 'stephen', 'colbert', 'doesnt', 'marijuana', 'reading', 'flight', 'navy', 'veteran', 'ban', 'atlanta', 'finally', 'ready', 'todays', 'puzzle', 'deputy', 'gave', 'teenagers', 'training', 'cant', 'remember', '36', 'found', 'look', 'scientists', 'drug', 'start', 'fit', 'syrian', 'israel', 'bush', 'tweets', 'calling', 'genius', 'acrostic', 'strikes', 'americas', 'pregnancy', 'step', 'washington', 'body', 'supreme', 'best', 'run', 'late', 'force', 'france', 'said', 'raid', 'report', 'aide', 'try', 'line', 'loss', 'risk', 'ask', 'trevor', 'noah', 'become', 'affair', 'died', 'travel', 'pollution', 'building', 'details', 'mike', 'immigration', 'much', 'words', 'press', 'energy', 'think', 'kitchen', 'teams', 'roseanne', 'matter', 'warm', 'cohen', 'eye', 'wait', 'seized', 'civil', 'brain', 'die', 'bad', 'island', 'target', 'michael', 'complicated', 'under', 'test', 'did', 'talks', 'put', 'questions', 'dies', 'moves', '15', 'lives', 'james', 'gives', 'warriors', 'mainstream', 'saudi', 'loan', 'puts', 'star', 'broken', 'glass', 'moments', 'sick', 'beat', 'god', 'mean', 'spy', 'immigrants', 'kill', 'shame', 'maybe', 'even', 'land', '14', 'policy', 'agent', 'smart', 'martin', 'luther', 'mind', 'earth', 'action', 'iraq', 'feeling', 'nature', 'church', 'beware', 'away', 'point', 'army', 'va', 'girls', 'play', 'made', 'marathon', 'lies', 'turn', 'fiction', 'terror', 'accept', 'dying', 'victims', 'golden', 'common', 'near', 'cosby', 'revolt', 'offer', 'rule', 'bag', 'tradition', 'failed', 'utah', 'few', 'believe', 'forced', 'artists', 'carter', 'jersey', 'quiz', 'lifethreatening', 'food', 'choosing', 'future', 'gone', 'panel', 'bucks', 'sidewalk', 'van', 'cuts', 'apologies', 'europes', 'iran', 'themselves', 'avengers', 'most', 'movie', 'taking', 'mirror', 'chancellor', 'debate', 'foods', 'citys', 'favorite', 'cruelty', 'robots', 'coffee', 'prince', 'share', 'tolerance', 'stop', 'migrants', 'path', 'aiding', 'europe', 'magic', 'kind', 'losing', 'middle', 'class', 'youll', 'sorry', 'swamp', 'columbia', 'wages', 'painfully', 'wonkish', 'forgotten', 'survival', 'decline', 'mess', 'fake', 'set', 'himself', 'barely', 'quit', '70', 'conspiracy', 'pick', 'wells', 'fargo', 'mayhem', 'fields', '50', 'lack', 'cynthia', 'nixon', 'along', 'promise', 'testing', 'candidates', 'pruitts', 'reforms', 'selling', 'know', 'runners', 'tarot', 'card', 'dress', 'pilot', 'nerves', 'letting', 'al', 'equal', 'returns', 'snake', 'oil', 'betrayed', 'nation', 'fashion', 'lay', 'fine', 'fraud', 'again', 'exfbi', 'sent', 'name', 'sea', 'stands', 'spur', 'means', 'progressive', 'standardized', 'tests', 'antibias', 'goal', 'gentrification', 'shine', 'road', 'deportation', 'voice', 'crazy', 'warming', 'interview', 'launches', 'allout', 'barbara', 'ill', 'treatment', 'blasts', 'slippery', 'around', 'office', 'todo', 'list', 'housing', 'leaves', 'pinch', 'took', 'assad', 'library', 'payment', 'snarl', 'makes', '87', 'comedy', 'rising', 'stars', 'alike', 'coal', 'lobbyist', 'crossword', 'animals', 'whos', 'pentagon', 'signs', 'childhood', 'courts', 'shift', 'saying', 'scandal', 'sticker', 'shock', 'teacher', 'walkouts', 'grip', 'red', 'speaker', 'leave', 'british', 'mexico', 'wish', 'alive', 'longer', 'moscow', 'believes', 'beef', 'stew', 'chinese', 'partner', 'tabloid', 'catches', 'facebooks', 'lot', 'health', 'putin', 'india', 'these', 'begin', 'protest', 'florida', 'colorado', 'thats', 'hopes', 'access', 'hollywood', 'tape', 'focus', 'fbi', 'general', 'leak', 'spring', 'gut', 'advice', 'risotto', 'simple', 'during', 'week', 'ball', 'gluten', 'free', 'seattle', 'exhusband', 'dilemma', 'betting', 'governors', 'collector', 'thriving', 'modern', 'count', 'thousands', 'interest', 'alaska', 'republican', 'midterm', 'elections', 'pose', 'worry', 'view', 'fascism', 'without', 'spending', 'signals', 'boys', 'learning', 'move', 'fast', 'governor', 'those', 'aging', 'warns', 'media', 'exercise', 'allergic', 'signatures', 'military', 'disaster', 'embrace', 'youre', 'defying', 'toll', 'humans', 'store', 'dogs', 'client', 'reports', 'fired', 'coming', 'lavish', 'zone', 'called', 'options', 'paid', 'ice', 'adviser', 'calls', 'polar', 'bears', 'online', 'bust', 'bars', 'private', 'fans', 'remains', 'funny', 'daughter', 'offered', 'massacre', 'prison', 'votes', 'very', 'outsiders', 'gender', 'scrutiny', 'trail', 'nightmare', 'species', 'fuels', 'jacket', 'hair', '81', 'foreign', '9', 'arabian', 'official', 'afghan', 'enters', 'journalism', 'later', 'cry', 'vows', 'price', 'raising', 'song', 'gallery', 'hockey', 'fox', 'fiery', 'chemical', 'hasty', 'viral', 'voters', 'arlee', 'arent', 'friday', 'something', 'every', 'buying', 'ad', 'asparagus', 'blame', 'democracy', 'bracing', 'blood', 'estate', 'jobs', 'raised', 'islam', 'yorks', 'give', 'blast', 'small', 'forces', 'tight', 'labor', 'manhattan', 'intellectual', 'tiny', 'haunting', 'thoughts', 'misconduct', 'usual', 'lisa', 'evil', 'springs', 'stress', 'monkeys', 'gay', 'safety', 'crashes', 'queen', 'indexes', 'indian', 'dreams', 'role', 'macrons', 'locals', 'shot', 'whims', 'sees', 'makers', 'pipe', 'slow', 'quiet', 'ohio', 'primary', 'readers', 'universe', 'older', 'well', 'rents', 'saving', 'worship', 'detail', 'project', 'dissent', 'kennedy', 'assassination', 'edges', 'brazil', 'sports', 'dad', 'amazon', 'trauma', 'anxiety', '100', 'endless', 'video', 'legacy', 'candidate', 'shooting', 'silicon', 'valley', 'light', 'chose', 'heated', 'leads', 'israelis', 'lone', 'journalist', 'sexual', 'assault', 'joke', 'bronx', 'necessary', 'search', 'nights', 'giants', 'streets', 'stocks', 'see', 'teachers', 'spreads', 'african', 'only', 'hard', 'reality', 'fallout', 'stories', 'needs', 'plot', 'uk', 'answer', 'blunt', 'dog', 'george', 'decades', 'furor', 'fall', 'movement', 'claims', 'saturday', 'outrage', 'outbreak', 'struck', 'vietnam', 'actually', 'puerto', 'rico', 'quite', 'tune', 'los', 'protests', 'wary', 'camera', 'baseball', 'mogul', 'country', 'tv', 'ronny', 'gen', 'kremlin', 'crackdown', 'memory', 'parenting', 'loses', 'racist', 'duo', 'bueller', 'midterms', 'defense', 'generation', 'students', 'genre', 'instagram', 'survey', 'wouldnt', 'phone', 'standing', 'act', 'would', 'pulitzer', 'prize', 'treat', 'tea', 'mother', 'peace', 'virtual', 'currency', 'journalists', 'finds', 'lawman', 'wins', 'itself', 'abroad', 'mercy', 'suspects', 'doctors', 'letter', 'comeys', 'spoil', 'child', 'inch', 'site', 'finale', 'immune', 'therapy', 'japanese', 'conquering', 'graft', 'really', 'immigrant', 'spf', 'overdue', 'presidential', 'dreamers', 'officer', 'judge', 'water', 'im', 'workers', 'n0', 'guilty', 'killer', 'pain', 'same', 'led', 'wave', 'inquiry', 'least', 'jury', 'bill', 'street', 'reckoning', 'birthday', 'ride', 'board', 'meddling', 'sets', 'telecom', 'settlement', 'goodell', 'unveil', 'effect', 'policymaking', 'noma', 'explained', 'became', 'selfexpression', 'commuter', 'reprogramming', 'ford', 'changed', 'lift', 'romney', 'convention', 'doomed', 'chain', 'reaction', 'vatican', 'investigate', 'francis', 'berlin', 'knows', 'reignite', 'churchstate', 'separation', 'procrastinating', 'dilatory', 'bout', 'e', 'coli', 'poisoning', 'brexit', 'yearned', 'seafaring', 'muddied', 'quote', 'disproved', 'bizarre', 'groups', 'equality', 'nashville', 'education', 'relents', 'approved', 'buses', 'turnaround', 'dinner', 'nods', 'traditions', 'pouring', 'wisconsin', 'stakes', 'mismatched', 'motives', 'toronto', 'nothing', 'indigenous', 'canada', 'craft', 'distillers', 'facing', 'taxes', 'invest', 'lucrative', 'franchise', 'ever', 'wrapping', 'genital', 'reconstruction', 'utne', 'frontier', 'denial', 'patron', 'wrested', 'rifle', 'trying', 'richard', 'carranza', 'ultimately', 'everything', 'helping', 'adhd', 'thrive', 'persists', 'gmo', 'soap', 'opera', 'odds', 'shopping', 'multilevel', 'tables', 'whisky', 'chronicles', 'unproven', 'technology', 'label', 'special', 'delivery', 'setting', 'tone', 'postpresidency', 'obama', 'message', 'politicians', 'scraping', 'bottom', 'scarce', 'resource', 'referee', 'sudan', 'blocks', 'peaceful', 'mood', 'premiere', 'consequences', 'majesty', 'rhyme', '1738', 'servants', 'foothold', 'ideas', 'thank', 'muellers', 'abhors', 'buried', 'graveyard', 'played', 'rescue', 'de', 'blasio', 'countrys', 'ugliest', 'feuds', 'dodging', 'handy', 'detour', 'foes', 'tribute', 'uwe', 'reinhardt', 'revisiting', 'eras', 'wet', 'pluses', 'minuses', 'bid', 'rosenstein', 'costly', 'opioid', 'foretold', 'deals', 'imperil', 'adapting', 'doing', 'pearls', 'puns', 'anagrams', 'chiefs', 'woes', 'echoes', 'bow', 'rumors', 'fuel', 'thirst', 'revenge', 'airbnb', 'babies', 'voting', 'childbirths', 'dangers', 'noticed', 'jewish', 'phrasing', 'deserts', 'curtains', 'gypsy', 'punching', 'clout', 'provocateur', 'blooddripping', 'appearance', 'lawsuit', 'alleging', 'trumprussia', 'divided', 'garner', 'fullon', 'propaganda', 'twisting', 'towers', 'penalty', 'known', 'east', 'familiar', 'getting', 'nobody', 'egos', 'repetitive', 'insanity', 'happen', 'korean', 'hault', 'four', 'space', 'embracing', 's', 'cracks', 'inquiries', 'widen', 'code', 'strict', 'southwest', '1380', 'hailed', 'trackandfield', 'sign', 'paper', 'boi', 'redacted', 'memos', 'delivered', 'lawmakers', 'elizas', 'charge', 'amendment', 'slump', 'sponsoring', 'terrorism', 'dawn', 'fulton', 'deceived', 'slain', 'rsum', 'giuliani', 'lend', 'firepower', 'adds', 'parallels', 'jake', 'tappers', 'novel', 'olivia', 'popes', 'pantsuit', 'billion', 'armstrong', 'agrees', 'safe', 'salad', 'possible', 'prosecution', 'cures', 'ho', 'noodle', 'soup', 'nourishes', 'transports', 'pediatrician', 'asperger', 'syndrome', 'nazi', 'bodies', 'remodeled', 'restaurant', 'frenchette', 'natural', 'wines', 'arrested', 'rent', 'slide', 'cubas', 'hardliner', 'enigma', 'surplus', 'frowns', 'olive', 'branch', 'viewed', 'warily', 'san', 'franciscos', 'seismic', 'gamble', 'companies', 'require', 'employees', 'sowing', 'literature', 'imaginative', 'caregiving', 'patient', 'lighting', 'landscapes', 'aliens', 'worse', 'things', 'citizenship', 'lisbon', 'janelle', 'mone', 'tolls', 'closer', 'damage', 'barrier', 'reef', 'irreversible', 'dislike', 'despise', 'fiscal', 'conservatives', 'tales', 'persia', 'unfolding', 'addiction', 'creative', 'leash', 'attracts', 'changes', 'gravely', 'opts', 'halt', 'punish', 'barrage', 'sold', '600000', 'youtuber', 'brings', 'preposition', 'proposition', 'jump', 'ship', 'mom', 'running', 'warrior', 'mall', 'scrap', 'exorcist', 'strange', 'pension', 'math', 'profiteers', 'coax', 'surgery', 'accomplished', 'window', 'ledge', 'nest', 'pigeons', 'salute', 'signature', 'signing', 'expressions', 'affection', 'republic', 'targets', 'pull', 'yourself', 'together', 'henry', 'higgins', 'pictures', 'viewing', 'through', 'resignation', 'ahead', 'spurn', 'endorse', 'rival', 'burgundy', 'iconoclast', 'laurent', 'ponsot', 'looks', 'projects', 'trading', 'mitzi', 'shore', 'club', 'owner', 'fostered', 'university', 'rice', 'balls', 'subtle', 'showy', 'omusubi', 'gonbei', 'insider', 'addressing', 'areas', 'punched', 'clock', 'issue', 'rises', 'fore', 'vindicating', 'zoo', 'performer', 'staring', 'urges', 'greater', 'pill', 'sarms', 'armageddon', 'revert', 'queens', 'appointing', 'male', 'missed', 'opportunity', 'dissenting', 'rightward', 'lots', 'screen', 'stalwart', 'heads', 'phoenix', 'transplant', 'threaten', 'upended', 'calmly', 'victoria', 'kidnapped', 'schoolgirls', 'boko', 'haram', 'portraits', 'mestiza', 'comebacks', 'morning', 'owls', 'lin', 'huiyin', 'liang', 'sicheng', 'chroniclers', 'architecture', 'silent', 'headline', 'investigators', 'eyes', 'begins', 'charm', 'offensive', 'questioning', 'lethal', 'export', 'triumph', 'contradiction', 'riddance', 'objects', 'fell', 'sky', 'shouts', 'chemicals', 'track', 'methane', 'leaks', 'above', 'fires', 'tugging', 'reins', 'she', 'alternative', 'fewer', 'oligarchs', 'brutal', 'rape', 'murder', 'girl', 'divides', 'balaboosta', 'doors', 'portals', 'chelsea', 'hotels', 'clearing', 'airport', 'camp', 'treehouse', 'grid', 'feather', 'cap', 'albatross', 'neck', 'retire', 'scattering', 'faulted', 'scathing', 'inspector', 'cheney', 'pardoned', 'billionaires', 'ambition', 'meets', 'riffing', 'worlds', 'sandwiches', 'clinical', 'elderly', 'craving', 'taste', 'turtles', 'magnetic', 'birthplace', 'beach', 'feels', 'chefs', 'relaxation', 'stir', 'vision', 'aids', 'watching', 'weekend', 'untruthful', 'slime', 'lash', 'bigger', 'oats', 'which', 'contain', 'labeled', 'homeless', 'wed', 'beneath', 'overpass', 'cograndparent', 'am', 'paying', 'nap', 'tethered', 'raging', 'buffoon', 'hammers', 'congress', 'dependence', 'cash', 'berkshires', 'solved', 'dorm', 'mans', 'obsession', 'uncertainty', 'missouri', 'maze', 'lost', 'syrias', 'sustainable', 'environment', 'bank', 'account', 'paltry', 'neighbor', 'chasing', 'thief', 'spideys', 'creator', 'web', 'strife', 'upends', 'flower', 'shop', 'ecclesiastic', 'serious', 'rupocalypse', '7', 'drake', 'points', 'inevitable', 'pardon', 'convicted', 'visceral', 'grim', 'memoir', 'works', 'hill', 'cheer', 'favors', 'flimflam', 'renaissance', 'perfume', 'mincing', 'sheriff', 'indulged', 'mounted', 'overdose', 'accessible', 'falters', 'shifting', 'baffle', 'chinas', 'masculinity', 'age', 'photo', 'twice', 'major', 'lifts', 'renewable', 'sources', 'historians', 'versus', 'genealogists', 'weighs', 'rejoining', 'accord', 'pacific', 'rim', 'aboutface', 'brisbane', 'gauge', 'apart', 'imitators', 'medallion', 'builtin', 'advantage', 'majority', 'receding', 'camdens', 'improve', 'stateappointed', 'superintendent', 'steps', 'aside', 'abortion', 'roe', 'unwanted', 'advances', 'missouris', 'italy', 'deleted', 'ago', 'musicians', 'concert', 'promises', 'promote', 'alone', 'weight', 'fictional', 'pence', 'plane', 'algerias', 'worst', '257', 'giant', 'collects', 'uses', 'except', 'pedestrian', 'reddest', 'rural', 'districts', 'nra', 'hidden', 'answering', 'seth', 'meyers', 'wonders', 'spells', 'doom', 'animal', 'welfare', 'suffering', 'brassai', 'paris', 'python', 'pet', 'snatched', 'smells', 'memories', 'classic', 'else', 'bite', 'ignored', 'clown', 'bleached', 'angry', 'subpoenas', 'nearly', 'december', 'traumatic', 'injuries', 'dementia', 'salt', 'pepper', 'already', 'gory', 'el', 'chapo', 'draining', 'three', 'investigates', 'admissions', 'tiki', 'bar', 'lessthantropical', 'raids', 'hush', 'fumes', 'trembling', 'screaming', 'cream', 'homeland', 'bolton', 'settles', 'filipinos', 'tatters', 'trip', 'latin', 'citing', 'climate', 'skeptics', 'beg', 'differ', 'speak', 'accountable', 'misunderstands', 'imagines', 'went', 'diving', 'renovation', 'gusto', 'rhodesias', 'supremacists', 'cambridge', 'analytica', 'course', 'escapes', 'riots', 'beatings', 'prisons', 'soups', 'beautiful', 'bogot', 'travelers', 'starter', 'kit', 'groped', 'pro', 'bosses', 'disapprove', 'vouchers', 'mayors', 'streetcar', 'markdowns', 'poem', 'cure', 'pages', 'exspy', 'hospital', 'popup', 'classes', 'reporters', 'recorded', 'myanmar', 'authority', 'months', 'resigning', 'event', 'revulsion', 'eroded', 'obamacares', 'stable', 'failures', 'antitrumpism', 'bannon', 'beliefs', 'parent', 'allay', '911', 'born', 'zuckerberg', 'center', 'reshape', 'tokens', 'please', 'widens', 'onenight', 'temptation', 'handlers', 'leeches', 'trackers', 'poised', 'balloon', 'trillion', 'deficit', 'grilling', 'tie', 'shirt', 'mets', 'excited', 'authentic', 'retaliation', 'abou', 'sizzle', 'grill', 'tense', 'fossilized', 'finger', 'bone', 'earliest', 'peninsula', 'advisers', 'head', 'actions', 'commander', 'returning', 'battleground', '20', 'rallying', 'reactions', 'shingles', 'vaccine', 'reasons', 'masked', 'wrestling', 'priest', 'prospect', 'missile', 'hub', 'contemplation', 'challenge', 'books', 'teach', 'management', 'cleaning', 'wit', 'tina', 'fey', 'splintered', 'hearts', 'horror', 'governed', 'amp', 'powderkeg', 'bon', 'vivant', 'tower', 'couldnt', 'sell', 'affected', 'users', 'carnage', 'muddles', 'exit', 'sweeping', 'election', 'victory', 'hungarys', 'ruler', 'constitution', 'antioch', 'initials', 'stroller', 'scrawls', 'credit', 'trusts', 'complain', 'triple', 'spoonerisms', 'murky', 'perils', 'quitting', 'antidepressants', 'landlord', 'refund', 'fee', 'amenities', 'available', 'renegades', 'sri', 'lanka', 'bombast', 'samantha', 'germs', 'diet', 'soda', 'dvd', 'staff', 'advised', 'resistant', 'epas', 'current', 'tb', 'insufficient', 'princes', 'tour', 'murdoch', 'gates', 'oprah', 'anonymous', 'earned', 'divine', 'status', 'frustrated', 'yorkers', 'catering', 'fliers', '30000', 'feet', 'enemy', 'cecil', 'taylor', 'pianist', 'defied', 'jazz', 'orthodoxy', '89', 'pressure', 'miscarriage', 'dynasty', 'passing', 'torch', 'disappointing', 'alarms', 'nominees', 'views', '80s', 'kors', 'dismantle', 'obamas', 'hatewatching', 'hgtv', 'putins', 'inner', 'circle', 'gendered', 'emasculator', 'until', 'arrived', 'chappaquiddick', 'theory', 'march', 'structure', 'denies', 'knowledge', 'porn', 'flail', 'concerns', 'ousted', 'script', 'restaurateur', 'starr', 'keith', 'mcnally', 'reopen', 'pastis', 'liberal', 'nirvana', 'sometimes', 'room', 'protecting', 'outposts', 'pulling', 'lawn', 'chairs', 'someones', 'prom', 'include', 'squeezes', 'restaurants', 'growing', 'threatens', 'aides', 'exits', 'confident', 'buzz', 'v', 'sale', 'harder', 'disabilities', 'contract', 'authoritarianism', 'driven', 'elevator', 'oh', 'accuse', 'architect', 'finding', 'decent', 'wades', 'deeper', 'detainee', 'operations', 'kurds', 'recovery', 'weakness', 'strength', 'commerce', 'murkowski', 'mastered', 'myerss', 'fallon', 'homework', 'therapist', 'japans', 'popular', 'bathing', 'temple', 'elephants', 'retreat', 'sheep', 'dylan', 'st', 'vincent', 'sing', 'fatal', 'bessie', 'b', 'stringfield', 'motorcycle', 'miami', 'causing', 'walkoff', 'youtube', 'complaints', 'attacker', 'echoed', 'dollars', 'flawed', 'trapping', 'manufacturers', 'crossfire', 'uschina', 'tensions', 'send', 'homestead', 'architectures', 'forensic', 'gaze', 'womens', 'jeopardy', 'producer', 'supplied', 'dough', 'souvenirs', 'ive', 'forget', 'logo', 'quirks', 'garry', 'winogrand', 'photograph', 'museum', 'deception', 'campus', 'expresident', 'sentenced', '24', 'corruption', 'radical', 'exile', 'vocal', 'imam', 'fifty', 'shades', 'slice', 'pizza', 'knew', 'mentally', 'officers', 'keep', 'crossing', 'undeterred', 'washingtons', 'agreement', 'nafta', 'must', '45000', 'bribes', 'luxuries', 'prosecutors', 'escalates', 'tariff', 'mistake', 'worries', 'sending', 'pointing', 'believed', 'infrastructure', 'fund', 'hype', 'shhhh', 'silence', 'mostly', 'enchanted', 'aims', 'transparency', 'defeated', 'circus', 'deploy', 'condoning', 'illiteracy', 'footprints', 'scottish', 'isle', 'playground', 'dinosaurs', 'lovely', 'tempts', 'kasich', 'hearing', 'multiple', 'channels', 'balancing', 'chaos', 'mighty', 'yes', 'wiser', 'homelessness', 'follows', 'minnesota', 'miners', 'houses', 'astounding', 'pulls', 'total', 'withdrawal', 'google', 'internal', 'robert', 'f', 'indianapolis', 'crowd', 'profile', 'breach', 'brink', 'officially', 'guy', 'cue', 'jitters', 'wars', 'stranded', 'assets', 'stock', 'googoosha', 'cherished', 'uzbek', 'between', 'grows', 'stained', 'cathedral', '700000', 'pennsylvania', 'michigan', '7year', 'schism', 'bananas', 'outwork', 'drinks', 'mysterious', 'illness', 'avoid', 'boomers', 'kimmel', 'understand', 'attacks', 'historic', 'questionable', 'moniker', 'playing', 'remembered', 'rest', 'plants', 'baffled', 'guiding', 'hand', 'algebra', 'anne', 'wojcicki', 'healthy', 'mines', 'balkans', '12', 'had', 'rude', 'hungary', 'mirage', 'cheesy', 'crime', 'punishment', 'firms', 'shudder', 'reverts', 'spotlight', 'shines', 'rollbacks', 'argument', 'inclusion', 'riders', 'perversion', 'leadership', 'upstairs', 'youtubes', 'offices', 'rattles', 'honor', 'churches', 'mourning', 'beacon', 'harlem', 'five', 'attorneys', 'sisters', 'norway', 'lived', 'sidewalks', 'included', 'turf', 'interprets', 'pushed', 'johnny', 'cashs', 'poems', 'songs', 'oaxaca', 'gowanus', 'jrs', 'according', 'politically', 'faith', 'scene', 'uncovers', 'casual', 'horrors', 'foresees', 'securing', 'championship', 'hooked', 'vitamins', 'standin', 'standout', 'villanova', 'proclaims', 'awareness', 'month', 'thinks', 'bedford', 'son', 'pairs', 'mixing', 'pleasure', 'hurricanedamaged', 'islands', 'ancient', 'cloud', 'girlfriend', 'awful', 'warned', 'booksellers', 'doctor', 'grapple', 'epidemic', 'cost', 'siege', 'comfort', 'write', 'vape', 'supermans', 'alien', 'influential', 'voter', 'suppressions', 'reliving', 'button', 'industry', 'register', 'autocrats', 'playbook', 'trumpland', 'bruising', 'battles', 'condo', 'green', 'unclog', '2001', 'patrol', 'ear', 'matzo', 'birds', 'super', 'nova', 'antibiotics', 'antacids', 'allergies', 'escort', 'coach', 'held', 'thailand', 'secrets', 'divisive', 'oratory', 'daily', 'spellbound', 'efforts', 'reduce', 'standards', 'peak', 'picasso', 'sink', 'bump', 'bear', 'sweatpants', 'cheerleader', 'sends', 'rsvp', 'invitation', 'changing', 'residents', 'backward', 'disgrace', 'walk', 'fervor', 'niobe', 'treats', 'absurdist', 'winnie', 'madikizelamandela', 'fought', 'apartheid', 'dolphin', 'dieoff', 'tip', 'iceberg', 'glee', 'satisfaction', 'weeping', 'reacted', 'value', 'limitations', 'calcium', 'scan', 'roommate', 'ground', 'serve', 'deranged', 'tyrant', 'stoically', 'cracking', 'aspiring', 'developer', 'chooses', 'construction', 'checkpoints', 'armed', 'crossroads', 'tvs', 'hopeless', 'romantic', 'charities', 'showdown', 'borrowers', 'fighting', 'chores', 'spend', 'telling', 'defectors', 'puff', 'vaping', 'floods', 'stomach', 'duties', '128', 'products', 'resurrection', 'eager', 'refugees', 'courted', 'rhythms', 'melting', 'dismantling', 'lastsecond', 'subject', 'refuses', 'poisoned', 'knob', 'hints', 'highlevel', 'farm', 'techs', 'blockchain', 'intertwined', 'services', 'boycotts', 'wallace', 'tapped', 'racial', 'potent', 'capital', 'hollywoods', 'envoy', 'schooled', 'diplomacy', 'muppets', 'turk', 'caught', 'moment', 'backfired', 'kushners', 'spiro', 'agnew', 'father', 'disdain', 'javanka', 'klossy', 'posse', 'jordan', 'peterson', 'gods', 'spokeswomen', 'harassment', 'fussy', 'eater', '50000', 'rabbits', 'bellow', 'extortion', 'freedom', 'propelled', 'theyre', 'rekindle', 'activist', 'spirit', 'kevin', 'williamson', 'pale', 'smoke', 'trumpers', 'smarter', 'bologna', 'blamed', 'vast', 'listeria', 'bullets', 'sacramento', 'faced', 'cake', 'helped', 'create', 'legend', '22', 'female', 'senators', 'enough', 'hallowed', 'thy', 'government', 'lambs', 'shanks', 'sweetly', 'spiced', 'orlando', 'gunmans', 'wife', 'acquitted', 'shootings', 'conflama', 'while', 'guitars', 'gently', 'weep', 'selfdriving', 'industrys', 'biggest', 'confrontations', 'megamansions', 'megaproblems', 'story', 'hour', 'base', 'reflections', 'stupid', 'memphis', 'affirmative', 'reactionaries', 'detects', 'whiff', 'cronyism', 'appointment', 'hurricanes', 'ruin', 'return', 'contractor', 'retirement', 'broad', 'bills', 'stay', 'congressional', 'dysfunction', 'reigns', 'pitting', 'anatomy', 'angeles', 'teenager', 'grief', 'warms', 'sleep', 'innocents', 'prodigy', 'redeemed', 'complex', 'relationship', 'loves', 'moviethemed', 'vacation', 'greeces', 'despair', 'till', 'lear', 'visited', 'woo', 'saudis', 'longtime', 'whisperer', 'packs', 'leaving', 'void', 'integration', 'forever', 'network', 'rediscovers', 'reboot', 'shakeup', 'privatized', 'tesla', 'recharge', 'series', 'setbacks', 'scary', 'jacksons', 'disturbing', 'independence', 'praise', 'suggests', 'might', 'delay', 'coup', 'veterans', 'affairs', 'martha', 'automakers', 'x', 'activism', 'oral', 'streaming', 'frog', 'rebound', 'southern', 'exposure', 'quick', 'divorce', '60', 'denmark', 'deepens', 'caribbean', 'savor', 'australian', 'bounty', 'ideal', 'opinion', '68', 'bereaved', 'topics', 'using', 'column', 'tackle', 'toward', 'dirty', 'grandfathers', 'passes', 'freerange', 'luster', 'await', 'labour', 'wrestles', 'antisemitism', 'prevent', 'hoodie', 'stage', 'sweating', 'birth', 'honey', 'pot', 'satan', 'type', 'disappeared', 'statues', 'banished', 'attitudes', 'fury', 'germany', 'rap', 'antijewish', 'lyrics', 'award', 'farmers', 'anger', 'goldleaf', 'full', 'metal', 'seduced', 'coat', 'sudden', 'plunge', 'playboy', 'model', 'discuss', 'alleged', 'bowie', 'scam', 'amnt', 'injury', 'parkinsons', 'parkland', 'broadways', 'regards', 'married', 'beating', 'cuba', 'prepares', 'castro', 'messes', 'entire', 'paroled', 'felons', 'regain', 'vote', 'reader', 'idea', 'fon', 'faiin', 'fiim', 'classroom', 'literary', 'fixing', 'involuntary', 'housewife', 'visa', 'depart', 'pyongyang', 'seoul', 'confirms', 'treaty', 'fishing', 'via', '27', 'massachusetts', 'idaho', 'breeds', 'doggie', 'japan', 'sidelined', 'sam', 'trabucco', 'modernism', 'came', 'slash', 'forrest', 'mrs', 'nononsense', 'suburban', 'urban', 'touches', 'disrupter', 'lump', 'patients', 'jaw', 'inhaled', 'mustard', 'denied', 'purple', 'reinterpreted', 'break', 'planning', 'musical', 'piece', 'nominate', 'jonathan', 'ness', 'tried', 'hide', 'learn', 'confronts', 'desk', 'covered', 'everyday', 'wheres', 'lady', '92', 'celebration', 'complete', 'rancor', 'bickering', 'expectations', 'nuts', 'nurse', 'boston', 'fun', 'finishes', 'respond', 'diagnosis', 'airplane', 'engine', 'explodes', 'passenger', 'midair', 'ages', 'hangover', 'diamonds', 'obtaining', 'personal', 'firm', 'explores', '8000', 'stores', 'criminals', 'confused', 'haley', 'retorts', 'dawdling', 'filers', 'disgruntled', 'irs', 'website', 'final', 'muted', 'hunt', 'calm', 'amid', 'protesting', 'amateur', 'sleuths', 'bring', 'grunt', 'holocaust', 'fading', 'vegetables', 'dessert', 'menu', 'politician', 'usually', 'introducing', 'form', '1040el', 'emotional', 'carmakers', 'frozen', 'needed', 'chill', 'sentences', 'la', 'paz', 'empowerment', 'also', 'inspiring', 'group', 'billiondollar', 'blessings', 'relative', 'evaluating', 'cops', 'both', 'sides', 'badge', 'pashtuns', 'pakistani', 'wonder', 'beginners', 'declines', 'add', 'russians', 'carefully', 'cultivated', 'image', 'wind', 'liars', 'opening', 'lands', 'gas', 'lordy', 'sims', 'statue', 'central', 'park', 'moved', 'blindness', 'wealth', 'unspeakably', 'miserable', 'tell', '1978', 'debasement', 'forewarn', 'cyberthreat', 'gasps', 'courtroom', 'hannity', 'named', 'cohens', 'yorker', 'coverage', 'feral', 'bully', 'unleashes', 'comic', 'operatic', 'jewel', 'polished', 'cousin', 'martini', 'gold', 'rubles', 'renminbi', 'perus', 'potato', 'babas', 'pair', 'breakthroughs', 'blocked', 'memorial', 'divide', 'babys', 'lung', 'study', 'trove', 'glimpse', 'guards', 'waited', 'deadly', 'riot', 'hunger', 'pros', 'cons', 'statin', 'aloud', 'benefits', 'attention', '16', 'medieval', 'derby', 'idle', 'kansas', 'hinges', 'wired', 'besties', 'wartime', 'internment', 'looms', 'leaky', 'roofs', 'laptops', 'mobile', 'classrooms', 'snapshots', 'putting', 'budget', 'secretary', 'offense', 'photos', 'gynecological', 'tools', 'centuries', 'english', 'vice', 'versa', 'enriches', 'mandelas', 'heirs', 'catwalk', 'arabia', 'sealed', 'kiss', 'notable', 'abcs', 'tusks', 'ivory', 'stalking', 'apologized', 'hometown', 'arms', 'drugresistant', 'typhoid', 'monologues', 'ourselves', 'hundreds', 'taken', 'beaches', 'generosity', 'abound', 'cabos', 'colleges', 'fraying', 'seams', 'warplanes', 'tactics', 'pockets', 'eastern', 'killed', 'empathy', 'goes', 'brushing', 'scandals', 'christian', 'marshals', 'concludes', 'systemic', 'wnyc', 'hudson', 'bay', 'longing', 'trans', 'flattery', 'jackson', 'tammy', 'duckworth', 'moms', 'mine', 'sunscreens', 'thanks', 'marvels', 'bristle', 'grab', 'spaces', 'migrant', 'caravan', 'reaches', 'journey', 'isnt', 'macron', 'bromance', 'israels', 'refugee', 'breaks', 'postwar', 'recalls', 'suspect', 'doubtful', 'daca', 'applications', 'breathing', 'program', 'take', 'numerical', 'stronghold', 'buoying', 'nervous', 'ncaato', 'done', 'furniturebuilding', 'windmills', 'wide', 'jumbo', 'jets', 'clean', 'conforming', 'rebelling', 'wishes', 'tracy', 'k', 'smiths', 'wade', '73yearold', 'survivor', 'kidney', 'exp3r13nc3', 'pr0bl3m', 'lynchings', 'shadow', 'buy', 'ticket', 'provoked', 'giving', 'liberalisms', 'strong', 'stressed', 'woman', 'mornings', 'strenuous', 'affects', 'system', 'diabetes', 'selfcare', 'courses', 'danish', 'inventor', 'gruesome', '25', 'georgia', 'hunting', 'lucia', 'seems', 'trusting', 'jokes', 'theres', 'adults', 'souths', 'candid', 'audio', 'rapidly', 'disappearing', 'inheritance', 'hello', 'higher', 'kisses', 'french', 'critiques', 'policies', 'tracks', 'hormone', 'hurdle', 'deny', 'dignity', 'citizens', 'relievers', 'opioids', 'dental', 'relief', 'swindled', 'marks', 'sheryls', 'handmaids', 'episodes', 'motherinlaws', 'mink', 'cruelly', 'because', 'malaysia', 'israelipalestinian', 'intrigue', 'mitt', 'weenie', 'martyr', 'sane', 'sensible', 'respect', 'answers', 'location', 'maria', 'bochkareva', 'wwi', 'breakdancing', 'artist', 'intimidated', 'classical', 'low', 'inflation', 'rates', 'copenhagen', 'surges', 'fed', 'karate', 'kid', 'grudge', 'rematch', 'lifes', 'chance', 'revolution', 'uprising', 'different', '41', 'lgbt', 'reject', 'names', 'mommy', 'daddy', 'isolated', 'hid', 'buyers', 'terraces', 'linger', 'merkel', 'visit', 'welcome', 'mat', 'distances', 'savory', 'salty', 'carricantes', 'sicily', 'lesson', 'fiano', 'dumplings', 'nod', 'signal', 'genealogy', 'front', 'pop', 'rebellion', 'siberia', 'unlikely', 'greenpeace', 'tots', 'heavy', 'weights', 'unreserved', 'hawk', 'confirmed', 'diplomat', 'spare', 'italian', 'subs', 'australia', 'games', 'squash', 'ceiling', 'spider', 'tree', 'tries', 'untangle', 'evolution', 'webs', 'codes', 'smiles', 'comments', 'rift', 'braindamaged', 'review', 'searches', 'misogynists', 'terrorists', 'abby', 'caffeine', 'overweight', 'offspring', 'modernday', 'myth', 'verge', 'shares', 'prosecutor', 'seeking', 'smarts', 'poor', 'wrongdoing', 'killers', 'barflies', 'clinging', 'ends', 'comics', 'mona', 'short', 'theater', 'square', 'unite', 'banish', 'jabs', 'melania', 'gift', 'members', 'airconditioning', 'learned', 'corporate', 'diary', 'coop', 'slowed', 'growth', 'blip', 'driving', 'cliff', 'hart', 'stepping', 'outside', 'dollhouse', 'alkaline', 'owes', 'build', 'biden', 'disease', 'lawyer', 'clinton', 'surefire', 'winner', 'certain', 'debates', 'verdict', 'financial', 'fresh', 'bright', 'stirfry', 'happening', 'bloody', 'preview', 'deluxe', 'frittata', 'topped', 'burrata', 'merger', 'tmobile', 'sprint', 'popcorn', 'bosss', 'youtoo', 'nicaraguan', 'daunting', 'task', 'tracking', 'bootlegger', 'mayor', 'sells', 'bridge', 'yipes', 'canned', 'chaplain', 'scoffs', 'clues', 'placed', 'serial', 'nike', 'forcing', 'populist', 'tide', 'remaking', 'supporters', 'cartoon', 'nobel', 'laureate', 'alfie', 'evans', 'rich', 'extinction', 'identity', 'intelligence', 'misunabbreviated', 'hed', 'pursuit', 'truce', 'dinners', 'merging', 'tappan', 'zee', 'among', 'fluke', 'porgies', '150', 'reach', 'brace', 'deadline', 'draws', 'lessons', 'trueblue', 'liberals', '2020', 'proxy', 'underwear', 'potatoes', 'doug', 'jones', 'tennessee', 'gazan', 'living', 'thing', 'sense', 'transgender', 'bans', 'facts', 'apu', 'disarmament', 'deterrents', 'libya', 'always', 'uphill', 'laws', 'passed', 'judgment', 'eaten', 'focuses', 'snowladen', 'flights', 'jfk', 'minutes', 'deadliest', 'afghanistan', 'since', '2002', 'fearing', 'photographing', 'rituals', 'surround', 'emails', 'hate', 'opaque', 'ownership', 'llc', 'worried', 'risky', 'teenage', 'tougher', 'survived', 'started', '30', 'happy', 'karl', 'marx', 'incels', 'jihadists', 'orphan', 'frequently', 'supports', 'gamify', 'prepared', 'cede', 'pledges', 'invade', 'demands', 'ditch', 'wheelchair', 'tokyo', 'distinctive', 'austin', 'crew', 'gardens', 'ending', 'infinity', 'documenter', 'fortnite', 'addict', 'philosophy', 'pays', 'disappearances', 'highlight', 'militarys', 'mexicos', 'documents', 'irans', 'atomic', 'subterfuge', 'investment', 'holds', 'steady', 'q', 'hows', 'standoff', 'eases', 'allow', 'eight', 'seek', 'asylum', 'assumes', 'beauty', 'megamerger', 'tightens', 'app', 'investigation', 'couple', 'dividing', 'delaying', 'limit', 'researchers', 'sheldon', 'silver', 'retrial', 'revisits', 'gig', 'dealt', 'blow', 'cardinal', 'faces', 'charges', 'context', 'show', 'depth', 'obstacles', 'competitive', 'sport', 'rootslush', 'historical', 'rooted', 'naturenovels', 'steeped', 'historyancient', 'reimaginedjurassic', 'classics', 'question', 'reinforces', 'anna', 'llama', 'hayden', 'regret', 'nothin'])"
            ]
          },
          "metadata": {
            "tags": []
          },
          "execution_count": 13
        }
      ]
    },
    {
      "cell_type": "code",
      "metadata": {
        "colab": {
          "base_uri": "https://localhost:8080/"
        },
        "id": "IPk425nNomFr",
        "outputId": "b8bd2e81-4e6f-44aa-b9ca-d3689e8aa22a"
      },
      "source": [
        "sequences = []\r\n",
        "for line in headlines:\r\n",
        "  encoded = t.texts_to_sequences([line])[0]\r\n",
        "  for i in range(1, len(encoded)):\r\n",
        "    sequence = encoded[:i+1]\r\n",
        "    sequences.append(sequence)\r\n",
        "\r\n",
        "sequences[:11]"
      ],
      "execution_count": 14,
      "outputs": [
        {
          "output_type": "execute_result",
          "data": {
            "text/plain": [
              "[[99, 269],\n",
              " [99, 269, 371],\n",
              " [99, 269, 371, 1115],\n",
              " [99, 269, 371, 1115, 582],\n",
              " [99, 269, 371, 1115, 582, 52],\n",
              " [99, 269, 371, 1115, 582, 52, 7],\n",
              " [99, 269, 371, 1115, 582, 52, 7, 2],\n",
              " [99, 269, 371, 1115, 582, 52, 7, 2, 372],\n",
              " [99, 269, 371, 1115, 582, 52, 7, 2, 372, 10],\n",
              " [99, 269, 371, 1115, 582, 52, 7, 2, 372, 10, 1116],\n",
              " [100, 3]]"
            ]
          },
          "metadata": {
            "tags": []
          },
          "execution_count": 14
        }
      ]
    },
    {
      "cell_type": "code",
      "metadata": {
        "colab": {
          "base_uri": "https://localhost:8080/"
        },
        "id": "i_q_uidBp-rV",
        "outputId": "f15ad20c-a3af-4145-a37a-bdc73eaa967f"
      },
      "source": [
        "index_to_word = {}\r\n",
        "for key, value in t.word_index.items():\r\n",
        "  index_to_word[value] = key\r\n",
        "\r\n",
        "print('빈도수 상위 1번 단어 : ', index_to_word[1])\r\n",
        "print('빈도수 상위 582번 단어 : ', index_to_word[582])"
      ],
      "execution_count": 15,
      "outputs": [
        {
          "output_type": "stream",
          "text": [
            "빈도수 상위 1번 단어 :  the\n",
            "빈도수 상위 582번 단어 :  offer\n"
          ],
          "name": "stdout"
        }
      ]
    },
    {
      "cell_type": "code",
      "metadata": {
        "colab": {
          "base_uri": "https://localhost:8080/"
        },
        "id": "kC7sde2tqY0M",
        "outputId": "e6469033-a303-4313-80d6-20bda8dc1446"
      },
      "source": [
        "max_len = max(len(s) for s in sequences)\r\n",
        "print('샘플의 최대 길이: ', max_len)"
      ],
      "execution_count": 16,
      "outputs": [
        {
          "output_type": "stream",
          "text": [
            "샘플의 최대 길이:  24\n"
          ],
          "name": "stdout"
        }
      ]
    },
    {
      "cell_type": "code",
      "metadata": {
        "colab": {
          "base_uri": "https://localhost:8080/"
        },
        "id": "395wgoPzqpl1",
        "outputId": "1f6d0f05-45d3-4298-d30e-a3e5b4b96347"
      },
      "source": [
        "# 전체 샘플의 길이를 24(가장 긴 샘플의 길이)로 패딩\r\n",
        "# 'pre' 옵션을 주면 앞을 0으로 패딩\r\n",
        "sequences = pad_sequences(sequences, maxlen=max_len, padding='pre')\r\n",
        "print(sequences[:3])"
      ],
      "execution_count": 17,
      "outputs": [
        {
          "output_type": "stream",
          "text": [
            "[[   0    0    0    0    0    0    0    0    0    0    0    0    0    0\n",
            "     0    0    0    0    0    0    0    0   99  269]\n",
            " [   0    0    0    0    0    0    0    0    0    0    0    0    0    0\n",
            "     0    0    0    0    0    0    0   99  269  371]\n",
            " [   0    0    0    0    0    0    0    0    0    0    0    0    0    0\n",
            "     0    0    0    0    0    0   99  269  371 1115]]\n"
          ],
          "name": "stdout"
        }
      ]
    },
    {
      "cell_type": "code",
      "metadata": {
        "id": "VitcAVg_qxc9"
      },
      "source": [
        "X = sequences[:,:-1]\r\n",
        "y = sequences[:,-1]"
      ],
      "execution_count": 18,
      "outputs": []
    },
    {
      "cell_type": "code",
      "metadata": {
        "id": "-t3QnRG0q0XS"
      },
      "source": [
        "Y = to_categorical(y, num_classes=vocab_size)"
      ],
      "execution_count": 19,
      "outputs": []
    },
    {
      "cell_type": "code",
      "metadata": {
        "colab": {
          "base_uri": "https://localhost:8080/"
        },
        "id": "S1mgIDcHq4Zj",
        "outputId": "9e2ec7ba-90f8-4e30-fc5b-9974285ce073"
      },
      "source": [
        "X.shape, Y.shape"
      ],
      "execution_count": 20,
      "outputs": [
        {
          "output_type": "execute_result",
          "data": {
            "text/plain": [
              "((7803, 23), (7803, 3494))"
            ]
          },
          "metadata": {
            "tags": []
          },
          "execution_count": 20
        }
      ]
    },
    {
      "cell_type": "markdown",
      "metadata": {
        "id": "kkO80NHdrP40"
      },
      "source": [
        "### 모델 정의 / 설정 / 학습"
      ]
    },
    {
      "cell_type": "code",
      "metadata": {
        "id": "LK5QgNX0rZHT"
      },
      "source": [
        "\r\n",
        "from tensorflow import keras\r\n",
        "from keras.models import Sequential\r\n",
        "from keras.layers import Embedding, Dense, LSTM"
      ],
      "execution_count": 21,
      "outputs": []
    },
    {
      "cell_type": "code",
      "metadata": {
        "colab": {
          "base_uri": "https://localhost:8080/"
        },
        "id": "O6R3P-SBq5xM",
        "outputId": "58f8edd5-39fe-4770-f4f5-17d262a42671"
      },
      "source": [
        "# 임베딩 벡터는 10차원, 은닉 상태 크기는 128\r\n",
        "model = Sequential()\r\n",
        "model.add(Embedding(vocab_size, 10, input_length=max_len-1, \r\n",
        "                    name=\"Embedding_Layer\"))\r\n",
        "model.add(LSTM(128, name=\"LSTM_Layer\"))\r\n",
        "model.add(Dense(vocab_size, activation='softmax', name=\"Output_Layer\"))\r\n",
        "model.summary()"
      ],
      "execution_count": 22,
      "outputs": [
        {
          "output_type": "stream",
          "text": [
            "Model: \"sequential\"\n",
            "_________________________________________________________________\n",
            "Layer (type)                 Output Shape              Param #   \n",
            "=================================================================\n",
            "Embedding_Layer (Embedding)  (None, 23, 10)            34940     \n",
            "_________________________________________________________________\n",
            "LSTM_Layer (LSTM)            (None, 128)               71168     \n",
            "_________________________________________________________________\n",
            "Output_Layer (Dense)         (None, 3494)              450726    \n",
            "=================================================================\n",
            "Total params: 556,834\n",
            "Trainable params: 556,834\n",
            "Non-trainable params: 0\n",
            "_________________________________________________________________\n"
          ],
          "name": "stdout"
        }
      ]
    },
    {
      "cell_type": "code",
      "metadata": {
        "id": "0pbWWJtNrXZn"
      },
      "source": [
        " model.compile(loss='categorical_crossentropy',\r\n",
        "               optimizer='adam', metrics=['accuracy'])"
      ],
      "execution_count": 23,
      "outputs": []
    },
    {
      "cell_type": "code",
      "metadata": {
        "colab": {
          "base_uri": "https://localhost:8080/"
        },
        "id": "XgtVsej5r4wr",
        "outputId": "9a017555-716a-4d69-8ca3-aede3de7cd3c"
      },
      "source": [
        "history = model.fit(X, Y, epochs=200, verbose=2)"
      ],
      "execution_count": 24,
      "outputs": [
        {
          "output_type": "stream",
          "text": [
            "Epoch 1/200\n",
            "244/244 - 8s - loss: 7.6493 - accuracy: 0.0300\n",
            "Epoch 2/200\n",
            "244/244 - 1s - loss: 7.1262 - accuracy: 0.0302\n",
            "Epoch 3/200\n",
            "244/244 - 1s - loss: 6.9862 - accuracy: 0.0313\n",
            "Epoch 4/200\n",
            "244/244 - 1s - loss: 6.8683 - accuracy: 0.0414\n",
            "Epoch 5/200\n",
            "244/244 - 1s - loss: 6.7320 - accuracy: 0.0437\n",
            "Epoch 6/200\n",
            "244/244 - 1s - loss: 6.5834 - accuracy: 0.0473\n",
            "Epoch 7/200\n",
            "244/244 - 1s - loss: 6.4172 - accuracy: 0.0470\n",
            "Epoch 8/200\n",
            "244/244 - 1s - loss: 6.2377 - accuracy: 0.0536\n",
            "Epoch 9/200\n",
            "244/244 - 1s - loss: 6.0490 - accuracy: 0.0578\n",
            "Epoch 10/200\n",
            "244/244 - 1s - loss: 5.8634 - accuracy: 0.0633\n",
            "Epoch 11/200\n",
            "244/244 - 1s - loss: 5.6900 - accuracy: 0.0686\n",
            "Epoch 12/200\n",
            "244/244 - 1s - loss: 5.5270 - accuracy: 0.0730\n",
            "Epoch 13/200\n",
            "244/244 - 1s - loss: 5.3665 - accuracy: 0.0787\n",
            "Epoch 14/200\n",
            "244/244 - 1s - loss: 5.2182 - accuracy: 0.0848\n",
            "Epoch 15/200\n",
            "244/244 - 1s - loss: 5.0705 - accuracy: 0.0947\n",
            "Epoch 16/200\n",
            "244/244 - 1s - loss: 4.9297 - accuracy: 0.1030\n",
            "Epoch 17/200\n",
            "244/244 - 1s - loss: 4.7957 - accuracy: 0.1118\n",
            "Epoch 18/200\n",
            "244/244 - 1s - loss: 4.6633 - accuracy: 0.1271\n",
            "Epoch 19/200\n",
            "244/244 - 1s - loss: 4.5391 - accuracy: 0.1335\n",
            "Epoch 20/200\n",
            "244/244 - 1s - loss: 4.4172 - accuracy: 0.1522\n",
            "Epoch 21/200\n",
            "244/244 - 1s - loss: 4.2994 - accuracy: 0.1643\n",
            "Epoch 22/200\n",
            "244/244 - 1s - loss: 4.1833 - accuracy: 0.1874\n",
            "Epoch 23/200\n",
            "244/244 - 1s - loss: 4.0759 - accuracy: 0.1988\n",
            "Epoch 24/200\n",
            "244/244 - 1s - loss: 3.9694 - accuracy: 0.2191\n",
            "Epoch 25/200\n",
            "244/244 - 1s - loss: 3.8607 - accuracy: 0.2353\n",
            "Epoch 26/200\n",
            "244/244 - 1s - loss: 3.7577 - accuracy: 0.2520\n",
            "Epoch 27/200\n",
            "244/244 - 1s - loss: 3.6595 - accuracy: 0.2725\n",
            "Epoch 28/200\n",
            "244/244 - 1s - loss: 3.5643 - accuracy: 0.2866\n",
            "Epoch 29/200\n",
            "244/244 - 1s - loss: 3.4714 - accuracy: 0.3030\n",
            "Epoch 30/200\n",
            "244/244 - 1s - loss: 3.3828 - accuracy: 0.3195\n",
            "Epoch 31/200\n",
            "244/244 - 1s - loss: 3.2953 - accuracy: 0.3338\n",
            "Epoch 32/200\n",
            "244/244 - 1s - loss: 3.2133 - accuracy: 0.3492\n",
            "Epoch 33/200\n",
            "244/244 - 1s - loss: 3.1303 - accuracy: 0.3691\n",
            "Epoch 34/200\n",
            "244/244 - 1s - loss: 3.0521 - accuracy: 0.3778\n",
            "Epoch 35/200\n",
            "244/244 - 1s - loss: 2.9768 - accuracy: 0.3974\n",
            "Epoch 36/200\n",
            "244/244 - 1s - loss: 2.9018 - accuracy: 0.4079\n",
            "Epoch 37/200\n",
            "244/244 - 1s - loss: 2.8320 - accuracy: 0.4201\n",
            "Epoch 38/200\n",
            "244/244 - 1s - loss: 2.7625 - accuracy: 0.4356\n",
            "Epoch 39/200\n",
            "244/244 - 1s - loss: 2.6978 - accuracy: 0.4437\n",
            "Epoch 40/200\n",
            "244/244 - 1s - loss: 2.6329 - accuracy: 0.4580\n",
            "Epoch 41/200\n",
            "244/244 - 1s - loss: 2.5667 - accuracy: 0.4729\n",
            "Epoch 42/200\n",
            "244/244 - 1s - loss: 2.5067 - accuracy: 0.4783\n",
            "Epoch 43/200\n",
            "244/244 - 1s - loss: 2.4489 - accuracy: 0.4962\n",
            "Epoch 44/200\n",
            "244/244 - 1s - loss: 2.3892 - accuracy: 0.5048\n",
            "Epoch 45/200\n",
            "244/244 - 1s - loss: 2.3344 - accuracy: 0.5184\n",
            "Epoch 46/200\n",
            "244/244 - 1s - loss: 2.2782 - accuracy: 0.5301\n",
            "Epoch 47/200\n",
            "244/244 - 1s - loss: 2.2229 - accuracy: 0.5418\n",
            "Epoch 48/200\n",
            "244/244 - 1s - loss: 2.1708 - accuracy: 0.5518\n",
            "Epoch 49/200\n",
            "244/244 - 1s - loss: 2.1196 - accuracy: 0.5645\n",
            "Epoch 50/200\n",
            "244/244 - 1s - loss: 2.0720 - accuracy: 0.5705\n",
            "Epoch 51/200\n",
            "244/244 - 1s - loss: 2.0214 - accuracy: 0.5839\n",
            "Epoch 52/200\n",
            "244/244 - 1s - loss: 1.9771 - accuracy: 0.5935\n",
            "Epoch 53/200\n",
            "244/244 - 1s - loss: 1.9284 - accuracy: 0.6027\n",
            "Epoch 54/200\n",
            "244/244 - 1s - loss: 1.8852 - accuracy: 0.6118\n",
            "Epoch 55/200\n",
            "244/244 - 1s - loss: 1.8415 - accuracy: 0.6226\n",
            "Epoch 56/200\n",
            "244/244 - 1s - loss: 1.7977 - accuracy: 0.6321\n",
            "Epoch 57/200\n",
            "244/244 - 1s - loss: 1.7540 - accuracy: 0.6396\n",
            "Epoch 58/200\n",
            "244/244 - 1s - loss: 1.7120 - accuracy: 0.6491\n",
            "Epoch 59/200\n",
            "244/244 - 1s - loss: 1.6718 - accuracy: 0.6576\n",
            "Epoch 60/200\n",
            "244/244 - 1s - loss: 1.6320 - accuracy: 0.6671\n",
            "Epoch 61/200\n",
            "244/244 - 1s - loss: 1.5955 - accuracy: 0.6772\n",
            "Epoch 62/200\n",
            "244/244 - 1s - loss: 1.5554 - accuracy: 0.6861\n",
            "Epoch 63/200\n",
            "244/244 - 1s - loss: 1.5197 - accuracy: 0.6917\n",
            "Epoch 64/200\n",
            "244/244 - 1s - loss: 1.4850 - accuracy: 0.6981\n",
            "Epoch 65/200\n",
            "244/244 - 1s - loss: 1.4490 - accuracy: 0.7070\n",
            "Epoch 66/200\n",
            "244/244 - 1s - loss: 1.4137 - accuracy: 0.7183\n",
            "Epoch 67/200\n",
            "244/244 - 1s - loss: 1.3784 - accuracy: 0.7229\n",
            "Epoch 68/200\n",
            "244/244 - 1s - loss: 1.3494 - accuracy: 0.7273\n",
            "Epoch 69/200\n",
            "244/244 - 1s - loss: 1.3172 - accuracy: 0.7369\n",
            "Epoch 70/200\n",
            "244/244 - 1s - loss: 1.2843 - accuracy: 0.7433\n",
            "Epoch 71/200\n",
            "244/244 - 1s - loss: 1.2549 - accuracy: 0.7530\n",
            "Epoch 72/200\n",
            "244/244 - 1s - loss: 1.2230 - accuracy: 0.7584\n",
            "Epoch 73/200\n",
            "244/244 - 1s - loss: 1.1973 - accuracy: 0.7632\n",
            "Epoch 74/200\n",
            "244/244 - 1s - loss: 1.1694 - accuracy: 0.7662\n",
            "Epoch 75/200\n",
            "244/244 - 1s - loss: 1.1390 - accuracy: 0.7768\n",
            "Epoch 76/200\n",
            "244/244 - 1s - loss: 1.1151 - accuracy: 0.7809\n",
            "Epoch 77/200\n",
            "244/244 - 1s - loss: 1.0889 - accuracy: 0.7846\n",
            "Epoch 78/200\n",
            "244/244 - 1s - loss: 1.0640 - accuracy: 0.7908\n",
            "Epoch 79/200\n",
            "244/244 - 1s - loss: 1.0376 - accuracy: 0.7957\n",
            "Epoch 80/200\n",
            "244/244 - 1s - loss: 1.0124 - accuracy: 0.7994\n",
            "Epoch 81/200\n",
            "244/244 - 1s - loss: 0.9887 - accuracy: 0.8052\n",
            "Epoch 82/200\n",
            "244/244 - 1s - loss: 0.9653 - accuracy: 0.8111\n",
            "Epoch 83/200\n",
            "244/244 - 1s - loss: 0.9409 - accuracy: 0.8137\n",
            "Epoch 84/200\n",
            "244/244 - 1s - loss: 0.9240 - accuracy: 0.8161\n",
            "Epoch 85/200\n",
            "244/244 - 1s - loss: 0.9013 - accuracy: 0.8233\n",
            "Epoch 86/200\n",
            "244/244 - 1s - loss: 0.8790 - accuracy: 0.8258\n",
            "Epoch 87/200\n",
            "244/244 - 1s - loss: 0.8591 - accuracy: 0.8302\n",
            "Epoch 88/200\n",
            "244/244 - 1s - loss: 0.8383 - accuracy: 0.8313\n",
            "Epoch 89/200\n",
            "244/244 - 1s - loss: 0.8197 - accuracy: 0.8360\n",
            "Epoch 90/200\n",
            "244/244 - 1s - loss: 0.8013 - accuracy: 0.8421\n",
            "Epoch 91/200\n",
            "244/244 - 1s - loss: 0.7833 - accuracy: 0.8458\n",
            "Epoch 92/200\n",
            "244/244 - 1s - loss: 0.7651 - accuracy: 0.8495\n",
            "Epoch 93/200\n",
            "244/244 - 1s - loss: 0.7484 - accuracy: 0.8498\n",
            "Epoch 94/200\n",
            "244/244 - 1s - loss: 0.7316 - accuracy: 0.8540\n",
            "Epoch 95/200\n",
            "244/244 - 1s - loss: 0.7141 - accuracy: 0.8581\n",
            "Epoch 96/200\n",
            "244/244 - 1s - loss: 0.6979 - accuracy: 0.8615\n",
            "Epoch 97/200\n",
            "244/244 - 1s - loss: 0.6829 - accuracy: 0.8639\n",
            "Epoch 98/200\n",
            "244/244 - 1s - loss: 0.6745 - accuracy: 0.8653\n",
            "Epoch 99/200\n",
            "244/244 - 1s - loss: 0.6554 - accuracy: 0.8712\n",
            "Epoch 100/200\n",
            "244/244 - 1s - loss: 0.6383 - accuracy: 0.8733\n",
            "Epoch 101/200\n",
            "244/244 - 1s - loss: 0.6253 - accuracy: 0.8779\n",
            "Epoch 102/200\n",
            "244/244 - 1s - loss: 0.6110 - accuracy: 0.8781\n",
            "Epoch 103/200\n",
            "244/244 - 1s - loss: 0.5986 - accuracy: 0.8835\n",
            "Epoch 104/200\n",
            "244/244 - 1s - loss: 0.5873 - accuracy: 0.8834\n",
            "Epoch 105/200\n",
            "244/244 - 1s - loss: 0.5775 - accuracy: 0.8839\n",
            "Epoch 106/200\n",
            "244/244 - 1s - loss: 0.5640 - accuracy: 0.8877\n",
            "Epoch 107/200\n",
            "244/244 - 1s - loss: 0.5500 - accuracy: 0.8898\n",
            "Epoch 108/200\n",
            "244/244 - 1s - loss: 0.5406 - accuracy: 0.8900\n",
            "Epoch 109/200\n",
            "244/244 - 1s - loss: 0.5368 - accuracy: 0.8921\n",
            "Epoch 110/200\n",
            "244/244 - 1s - loss: 0.5195 - accuracy: 0.8945\n",
            "Epoch 111/200\n",
            "244/244 - 1s - loss: 0.5119 - accuracy: 0.8980\n",
            "Epoch 112/200\n",
            "244/244 - 1s - loss: 0.4983 - accuracy: 0.8971\n",
            "Epoch 113/200\n",
            "244/244 - 1s - loss: 0.4883 - accuracy: 0.8997\n",
            "Epoch 114/200\n",
            "244/244 - 1s - loss: 0.4825 - accuracy: 0.9012\n",
            "Epoch 115/200\n",
            "244/244 - 1s - loss: 0.4703 - accuracy: 0.9043\n",
            "Epoch 116/200\n",
            "244/244 - 1s - loss: 0.4611 - accuracy: 0.9036\n",
            "Epoch 117/200\n",
            "244/244 - 1s - loss: 0.4549 - accuracy: 0.9048\n",
            "Epoch 118/200\n",
            "244/244 - 1s - loss: 0.4463 - accuracy: 0.9036\n",
            "Epoch 119/200\n",
            "244/244 - 1s - loss: 0.4390 - accuracy: 0.9059\n",
            "Epoch 120/200\n",
            "244/244 - 1s - loss: 0.4337 - accuracy: 0.9050\n",
            "Epoch 121/200\n",
            "244/244 - 1s - loss: 0.4270 - accuracy: 0.9079\n",
            "Epoch 122/200\n",
            "244/244 - 1s - loss: 0.4229 - accuracy: 0.9080\n",
            "Epoch 123/200\n",
            "244/244 - 1s - loss: 0.4116 - accuracy: 0.9098\n",
            "Epoch 124/200\n",
            "244/244 - 1s - loss: 0.4029 - accuracy: 0.9109\n",
            "Epoch 125/200\n",
            "244/244 - 1s - loss: 0.3972 - accuracy: 0.9099\n",
            "Epoch 126/200\n",
            "244/244 - 1s - loss: 0.3916 - accuracy: 0.9123\n",
            "Epoch 127/200\n",
            "244/244 - 1s - loss: 0.3856 - accuracy: 0.9116\n",
            "Epoch 128/200\n",
            "244/244 - 1s - loss: 0.3820 - accuracy: 0.9126\n",
            "Epoch 129/200\n",
            "244/244 - 1s - loss: 0.3779 - accuracy: 0.9132\n",
            "Epoch 130/200\n",
            "244/244 - 1s - loss: 0.3704 - accuracy: 0.9149\n",
            "Epoch 131/200\n",
            "244/244 - 1s - loss: 0.3641 - accuracy: 0.9148\n",
            "Epoch 132/200\n",
            "244/244 - 1s - loss: 0.3603 - accuracy: 0.9139\n",
            "Epoch 133/200\n",
            "244/244 - 1s - loss: 0.3559 - accuracy: 0.9148\n",
            "Epoch 134/200\n",
            "244/244 - 1s - loss: 0.3510 - accuracy: 0.9155\n",
            "Epoch 135/200\n",
            "244/244 - 1s - loss: 0.3492 - accuracy: 0.9149\n",
            "Epoch 136/200\n",
            "244/244 - 1s - loss: 0.3478 - accuracy: 0.9150\n",
            "Epoch 137/200\n",
            "244/244 - 1s - loss: 0.3454 - accuracy: 0.9146\n",
            "Epoch 138/200\n",
            "244/244 - 1s - loss: 0.3384 - accuracy: 0.9161\n",
            "Epoch 139/200\n",
            "244/244 - 1s - loss: 0.3316 - accuracy: 0.9158\n",
            "Epoch 140/200\n",
            "244/244 - 1s - loss: 0.3288 - accuracy: 0.9168\n",
            "Epoch 141/200\n",
            "244/244 - 1s - loss: 0.3257 - accuracy: 0.9166\n",
            "Epoch 142/200\n",
            "244/244 - 1s - loss: 0.3237 - accuracy: 0.9170\n",
            "Epoch 143/200\n",
            "244/244 - 1s - loss: 0.3201 - accuracy: 0.9163\n",
            "Epoch 144/200\n",
            "244/244 - 1s - loss: 0.3179 - accuracy: 0.9163\n",
            "Epoch 145/200\n",
            "244/244 - 1s - loss: 0.3487 - accuracy: 0.9125\n",
            "Epoch 146/200\n",
            "244/244 - 1s - loss: 0.3268 - accuracy: 0.9152\n",
            "Epoch 147/200\n",
            "244/244 - 1s - loss: 0.3110 - accuracy: 0.9163\n",
            "Epoch 148/200\n",
            "244/244 - 1s - loss: 0.3064 - accuracy: 0.9172\n",
            "Epoch 149/200\n",
            "244/244 - 1s - loss: 0.3046 - accuracy: 0.9158\n",
            "Epoch 150/200\n",
            "244/244 - 1s - loss: 0.3027 - accuracy: 0.9170\n",
            "Epoch 151/200\n",
            "244/244 - 1s - loss: 0.3005 - accuracy: 0.9176\n",
            "Epoch 152/200\n",
            "244/244 - 1s - loss: 0.2983 - accuracy: 0.9154\n",
            "Epoch 153/200\n",
            "244/244 - 1s - loss: 0.2980 - accuracy: 0.9187\n",
            "Epoch 154/200\n",
            "244/244 - 1s - loss: 0.2967 - accuracy: 0.9166\n",
            "Epoch 155/200\n",
            "244/244 - 1s - loss: 0.2945 - accuracy: 0.9173\n",
            "Epoch 156/200\n",
            "244/244 - 1s - loss: 0.2948 - accuracy: 0.9161\n",
            "Epoch 157/200\n",
            "244/244 - 1s - loss: 0.2921 - accuracy: 0.9176\n",
            "Epoch 158/200\n",
            "244/244 - 1s - loss: 0.2917 - accuracy: 0.9170\n",
            "Epoch 159/200\n",
            "244/244 - 1s - loss: 0.2921 - accuracy: 0.9168\n",
            "Epoch 160/200\n",
            "244/244 - 1s - loss: 0.2891 - accuracy: 0.9180\n",
            "Epoch 161/200\n",
            "244/244 - 1s - loss: 0.2871 - accuracy: 0.9157\n",
            "Epoch 162/200\n",
            "244/244 - 1s - loss: 0.2862 - accuracy: 0.9167\n",
            "Epoch 163/200\n",
            "244/244 - 1s - loss: 0.2841 - accuracy: 0.9155\n",
            "Epoch 164/200\n",
            "244/244 - 1s - loss: 0.2829 - accuracy: 0.9175\n",
            "Epoch 165/200\n",
            "244/244 - 1s - loss: 0.2822 - accuracy: 0.9159\n",
            "Epoch 166/200\n",
            "244/244 - 1s - loss: 0.2807 - accuracy: 0.9168\n",
            "Epoch 167/200\n",
            "244/244 - 1s - loss: 0.2805 - accuracy: 0.9159\n",
            "Epoch 168/200\n",
            "244/244 - 1s - loss: 0.2795 - accuracy: 0.9173\n",
            "Epoch 169/200\n",
            "244/244 - 1s - loss: 0.3039 - accuracy: 0.9125\n",
            "Epoch 170/200\n",
            "244/244 - 1s - loss: 0.2976 - accuracy: 0.9125\n",
            "Epoch 171/200\n",
            "244/244 - 1s - loss: 0.2823 - accuracy: 0.9175\n",
            "Epoch 172/200\n",
            "244/244 - 1s - loss: 0.2762 - accuracy: 0.9166\n",
            "Epoch 173/200\n",
            "244/244 - 1s - loss: 0.2746 - accuracy: 0.9180\n",
            "Epoch 174/200\n",
            "244/244 - 1s - loss: 0.2733 - accuracy: 0.9158\n",
            "Epoch 175/200\n",
            "244/244 - 1s - loss: 0.2724 - accuracy: 0.9168\n",
            "Epoch 176/200\n",
            "244/244 - 1s - loss: 0.2738 - accuracy: 0.9157\n",
            "Epoch 177/200\n",
            "244/244 - 1s - loss: 0.2713 - accuracy: 0.9170\n",
            "Epoch 178/200\n",
            "244/244 - 1s - loss: 0.2725 - accuracy: 0.9173\n",
            "Epoch 179/200\n",
            "244/244 - 1s - loss: 0.2709 - accuracy: 0.9164\n",
            "Epoch 180/200\n",
            "244/244 - 1s - loss: 0.2710 - accuracy: 0.9161\n",
            "Epoch 181/200\n",
            "244/244 - 1s - loss: 0.2747 - accuracy: 0.9152\n",
            "Epoch 182/200\n",
            "244/244 - 1s - loss: 0.2745 - accuracy: 0.9171\n",
            "Epoch 183/200\n",
            "244/244 - 1s - loss: 0.2695 - accuracy: 0.9164\n",
            "Epoch 184/200\n",
            "244/244 - 1s - loss: 0.2688 - accuracy: 0.9170\n",
            "Epoch 185/200\n",
            "244/244 - 1s - loss: 0.2675 - accuracy: 0.9154\n",
            "Epoch 186/200\n",
            "244/244 - 1s - loss: 0.2693 - accuracy: 0.9162\n",
            "Epoch 187/200\n",
            "244/244 - 1s - loss: 0.2677 - accuracy: 0.9161\n",
            "Epoch 188/200\n",
            "244/244 - 1s - loss: 0.2676 - accuracy: 0.9172\n",
            "Epoch 189/200\n",
            "244/244 - 1s - loss: 0.2679 - accuracy: 0.9159\n",
            "Epoch 190/200\n",
            "244/244 - 1s - loss: 0.2661 - accuracy: 0.9170\n",
            "Epoch 191/200\n",
            "244/244 - 1s - loss: 0.2659 - accuracy: 0.9173\n",
            "Epoch 192/200\n",
            "244/244 - 1s - loss: 0.2660 - accuracy: 0.9157\n",
            "Epoch 193/200\n",
            "244/244 - 1s - loss: 0.2674 - accuracy: 0.9145\n",
            "Epoch 194/200\n",
            "244/244 - 1s - loss: 0.3148 - accuracy: 0.9085\n",
            "Epoch 195/200\n",
            "244/244 - 1s - loss: 0.2814 - accuracy: 0.9143\n",
            "Epoch 196/200\n",
            "244/244 - 1s - loss: 0.2713 - accuracy: 0.9162\n",
            "Epoch 197/200\n",
            "244/244 - 1s - loss: 0.2648 - accuracy: 0.9158\n",
            "Epoch 198/200\n",
            "244/244 - 1s - loss: 0.2632 - accuracy: 0.9180\n",
            "Epoch 199/200\n",
            "244/244 - 1s - loss: 0.2625 - accuracy: 0.9157\n",
            "Epoch 200/200\n",
            "244/244 - 1s - loss: 0.2623 - accuracy: 0.9173\n"
          ],
          "name": "stdout"
        }
      ]
    },
    {
      "cell_type": "code",
      "metadata": {
        "id": "ck26Fb0UsBT9"
      },
      "source": [
        "def sentence_generation(model, t, current_word, n): # 모델, 토크나이저, 현재 단어, 반복할 횟수\r\n",
        "    init_word = current_word # 처음 들어온 단어도 마지막에 같이 출력하기위해 저장\r\n",
        "    sentence = ''\r\n",
        "    for _ in range(n): # n번 반복\r\n",
        "        encoded = t.texts_to_sequences([current_word])[0] # 현재 단어에 대한 정수 인코딩\r\n",
        "        encoded = pad_sequences([encoded], maxlen=23, padding='pre') # 데이터에 대한 패딩\r\n",
        "        result = model.predict_classes(encoded, verbose=0)\r\n",
        "          # 입력한 X(현재 단어)에 대해서 y를 예측하고 y(예측한 단어)를 result에 저장.\r\n",
        "        for word, index in t.word_index.items(): \r\n",
        "            if index == result: # 만약 예측한 단어와 인덱스와 동일한 단어가 있다면\r\n",
        "                break # 해당 단어가 예측 단어이므로 break\r\n",
        "        current_word = current_word + ' '  + word # 현재 단어 + ' ' + 예측 단어를 현재 단어로 변경\r\n",
        "        sentence = sentence + ' ' + word # 예측 단어를 문장에 저장\r\n",
        "\r\n",
        "    sentence = init_word + sentence\r\n",
        "    return sentence"
      ],
      "execution_count": 25,
      "outputs": []
    },
    {
      "cell_type": "code",
      "metadata": {
        "colab": {
          "base_uri": "https://localhost:8080/"
        },
        "id": "IXrzoPscthc3",
        "outputId": "3a6bd549-ddf7-41c0-b6ac-0d38f5427a3a"
      },
      "source": [
        "print(sentence_generation(model, t, 'i', 10))\r\n",
        "print(sentence_generation(model, t, 'how', 10))\r\n",
        "print(sentence_generation(model, t, 'former', 10))"
      ],
      "execution_count": 32,
      "outputs": [
        {
          "output_type": "stream",
          "text": [
            "/usr/local/lib/python3.6/dist-packages/tensorflow/python/keras/engine/sequential.py:450: UserWarning: `model.predict_classes()` is deprecated and will be removed after 2021-01-01. Please use instead:* `np.argmax(model.predict(x), axis=-1)`,   if your model does multi-class classification   (e.g. if it uses a `softmax` last-layer activation).* `(model.predict(x) > 0.5).astype(\"int32\")`,   if your model does binary classification   (e.g. if it uses a `sigmoid` last-layer activation).\n",
            "  warnings.warn('`model.predict_classes()` is deprecated and '\n"
          ],
          "name": "stderr"
        },
        {
          "output_type": "stream",
          "text": [
            "i want to be rich and im not sorry case as\n",
            "how to make facebook more accountable man marshals forces for midterms\n",
            "former nfl cheerleaders settlement offer 1 and a meeting with goodell\n"
          ],
          "name": "stdout"
        }
      ]
    },
    {
      "cell_type": "code",
      "metadata": {
        "id": "aFk95PDuuFgE"
      },
      "source": [
        ""
      ],
      "execution_count": null,
      "outputs": []
    }
  ]
}