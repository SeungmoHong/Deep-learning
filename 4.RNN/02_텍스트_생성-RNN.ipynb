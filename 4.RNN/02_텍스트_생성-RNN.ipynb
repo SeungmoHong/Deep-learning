{
  "nbformat": 4,
  "nbformat_minor": 0,
  "metadata": {
    "colab": {
      "name": "02_텍스트 생성.ipynb",
      "provenance": []
    },
    "kernelspec": {
      "name": "python3",
      "display_name": "Python 3"
    }
  },
  "cells": [
    {
      "cell_type": "markdown",
      "metadata": {
        "id": "_wEWd6xL5m4t"
      },
      "source": [
        "# RNN을 이용한 텍스트 생성\r\n",
        "- '경마장에 있는 말이 뛰고 있다.'\r\n",
        "- '그의 말이 법이다.'\r\n",
        "- '가는 말이 고와야 오는 말이 곱다.'"
      ]
    },
    {
      "cell_type": "code",
      "metadata": {
        "id": "K9VE68Bj5eCN"
      },
      "source": [
        "import numpy as np\r\n",
        "import matplotlib.pyplot as plt\r\n",
        "%matplotlib inline"
      ],
      "execution_count": 42,
      "outputs": []
    },
    {
      "cell_type": "code",
      "metadata": {
        "id": "7oLZutvM541d"
      },
      "source": [
        "import tensorflow as tf\r\n",
        "from tensorflow.keras.preprocessing.text import Tokenizer\r\n",
        "from tensorflow.keras.preprocessing.sequence import pad_sequences\r\n",
        "from tensorflow.keras.utils import to_categorical\r\n",
        "\r\n",
        "seed = 2021\r\n",
        "np.random.seed(seed)\r\n",
        "tf.random.set_seed(seed)"
      ],
      "execution_count": 43,
      "outputs": []
    },
    {
      "cell_type": "code",
      "metadata": {
        "id": "v0CLAFLl6tWd"
      },
      "source": [
        "text = '''경마장에 있는 말이 뛰고 있다\\n\r\n",
        "그의 말이 법이다\\n\r\n",
        "가는 말이 고와야 오는 말이 곱다\\n'''"
      ],
      "execution_count": 44,
      "outputs": []
    },
    {
      "cell_type": "code",
      "metadata": {
        "id": "NyPSK-6d651F"
      },
      "source": [
        "# 단어 집합 생성\r\n",
        "t = Tokenizer()\r\n",
        "t.fit_on_texts([text])"
      ],
      "execution_count": 45,
      "outputs": []
    },
    {
      "cell_type": "code",
      "metadata": {
        "colab": {
          "base_uri": "https://localhost:8080/"
        },
        "id": "mbj4T-RI69je",
        "outputId": "9961f38d-47a2-431a-f852-e45fa1817d67"
      },
      "source": [
        "t.word_index"
      ],
      "execution_count": 46,
      "outputs": [
        {
          "output_type": "execute_result",
          "data": {
            "text/plain": [
              "{'가는': 8,\n",
              " '경마장에': 2,\n",
              " '고와야': 9,\n",
              " '곱다': 11,\n",
              " '그의': 6,\n",
              " '뛰고': 4,\n",
              " '말이': 1,\n",
              " '법이다': 7,\n",
              " '오는': 10,\n",
              " '있는': 3,\n",
              " '있다': 5}"
            ]
          },
          "metadata": {
            "tags": []
          },
          "execution_count": 46
        }
      ]
    },
    {
      "cell_type": "code",
      "metadata": {
        "colab": {
          "base_uri": "https://localhost:8080/"
        },
        "id": "yrK3wPks7S8O",
        "outputId": "af4e917a-59b8-4c7e-bf43-1556fba15854"
      },
      "source": [
        "# 단어 집합 크기 설정\r\n",
        "vocab_size = len(t.word_index) + 1\r\n",
        "# 케라스 토크나이저의 정수 인코딩은 인덱스가 1부터 시작하지만,\r\n",
        "# 케라스 원-핫 인코딩에서 배열의 인덱스가 0부터 시작하기 때문에\r\n",
        "# 배열의 크기를 실제 단어 집합의 크기보다 +1로 생성해야함 \r\n",
        "print('단어 집합의 크기 : %d' % vocab_size)"
      ],
      "execution_count": 47,
      "outputs": [
        {
          "output_type": "stream",
          "text": [
            "단어 집합의 크기 : 12\n"
          ],
          "name": "stdout"
        }
      ]
    },
    {
      "cell_type": "code",
      "metadata": {
        "colab": {
          "base_uri": "https://localhost:8080/"
        },
        "id": "KSN-wNvi76J_",
        "outputId": "cff60f62-02c1-4bf1-8b2d-9609b619ac2f"
      },
      "source": [
        "t.texts_to_sequences(['그의 말이 법이다'])"
      ],
      "execution_count": 48,
      "outputs": [
        {
          "output_type": "execute_result",
          "data": {
            "text/plain": [
              "[[6, 1, 7]]"
            ]
          },
          "metadata": {
            "tags": []
          },
          "execution_count": 48
        }
      ]
    },
    {
      "cell_type": "code",
      "metadata": {
        "colab": {
          "base_uri": "https://localhost:8080/"
        },
        "id": "hGI0qynD7-Pf",
        "outputId": "4137d5e9-bd31-4d7a-ad9b-4a0d7f2fb441"
      },
      "source": [
        "sequences = []\r\n",
        "for line in text.split('\\n'): # \\n을 기준으로 문장 토큰화\r\n",
        "    encoded = t.texts_to_sequences([line])[0]\r\n",
        "    for i in range(1, len(encoded)):\r\n",
        "        sequence = encoded[:i+1]\r\n",
        "        sequences.append(sequence)\r\n",
        "\r\n",
        "print('학습에 사용할 샘플의 개수: %d' % len(sequences))"
      ],
      "execution_count": 49,
      "outputs": [
        {
          "output_type": "stream",
          "text": [
            "학습에 사용할 샘플의 개수: 11\n"
          ],
          "name": "stdout"
        }
      ]
    },
    {
      "cell_type": "code",
      "metadata": {
        "colab": {
          "base_uri": "https://localhost:8080/"
        },
        "id": "G-V2nBN-8R8A",
        "outputId": "64083d72-0982-4210-ddfe-f309733f72ff"
      },
      "source": [
        "sequences"
      ],
      "execution_count": 50,
      "outputs": [
        {
          "output_type": "execute_result",
          "data": {
            "text/plain": [
              "[[2, 3],\n",
              " [2, 3, 1],\n",
              " [2, 3, 1, 4],\n",
              " [2, 3, 1, 4, 5],\n",
              " [6, 1],\n",
              " [6, 1, 7],\n",
              " [8, 1],\n",
              " [8, 1, 9],\n",
              " [8, 1, 9, 10],\n",
              " [8, 1, 9, 10, 1],\n",
              " [8, 1, 9, 10, 1, 11]]"
            ]
          },
          "metadata": {
            "tags": []
          },
          "execution_count": 50
        }
      ]
    },
    {
      "cell_type": "code",
      "metadata": {
        "colab": {
          "base_uri": "https://localhost:8080/"
        },
        "id": "fOYW7jm38XuX",
        "outputId": "1eb13f7b-2897-4809-b627-8991e60ca40a"
      },
      "source": [
        "# 모든 샘플에서 길이가 가장 긴 샘플의 길이 출력\r\n",
        "max_len = max(len(s) for s in sequences) \r\n",
        "print('샘플의 최대 길이 :', max_len)"
      ],
      "execution_count": 51,
      "outputs": [
        {
          "output_type": "stream",
          "text": [
            "샘플의 최대 길이 : 6\n"
          ],
          "name": "stdout"
        }
      ]
    },
    {
      "cell_type": "code",
      "metadata": {
        "id": "YsSmsmuVAVgL"
      },
      "source": [
        "# 전체 샘플의 길이를 6(가장 긴 샘플의 길이)으로 패딩\r\n",
        "# 'pre' 옵션을 주면 앞을 0으로 패딩\r\n",
        "sequences = pad_sequences(sequences, maxlen=max_len, padding='pre')"
      ],
      "execution_count": 52,
      "outputs": []
    },
    {
      "cell_type": "code",
      "metadata": {
        "colab": {
          "base_uri": "https://localhost:8080/"
        },
        "id": "98YgRJ42AYPi",
        "outputId": "40bc1b69-9e9f-4659-e433-e7437b6c05b3"
      },
      "source": [
        "sequences[:5]"
      ],
      "execution_count": 53,
      "outputs": [
        {
          "output_type": "execute_result",
          "data": {
            "text/plain": [
              "array([[0, 0, 0, 0, 2, 3],\n",
              "       [0, 0, 0, 2, 3, 1],\n",
              "       [0, 0, 2, 3, 1, 4],\n",
              "       [0, 2, 3, 1, 4, 5],\n",
              "       [0, 0, 0, 0, 6, 1]], dtype=int32)"
            ]
          },
          "metadata": {
            "tags": []
          },
          "execution_count": 53
        }
      ]
    },
    {
      "cell_type": "code",
      "metadata": {
        "id": "5q0PWiebA3ub"
      },
      "source": [
        "# 각 샘플의 마지막 단어를 레이블로 분리\r\n",
        "X = sequences[:,:-1]\r\n",
        "y = sequences[:,-1]\r\n",
        "# 리스트의 마지막 값을 제외하고 저장한 것은 X\r\n",
        "# 리스트의 마지막 값만 저장한 것은 y. 이는 레이블에 해당됨."
      ],
      "execution_count": 54,
      "outputs": []
    },
    {
      "cell_type": "code",
      "metadata": {
        "colab": {
          "base_uri": "https://localhost:8080/"
        },
        "id": "BQdYCngkA679",
        "outputId": "ccf2e09a-1461-454b-b3c6-1f85107a8666"
      },
      "source": [
        "X[:3]"
      ],
      "execution_count": 55,
      "outputs": [
        {
          "output_type": "execute_result",
          "data": {
            "text/plain": [
              "array([[0, 0, 0, 0, 2],\n",
              "       [0, 0, 0, 2, 3],\n",
              "       [0, 0, 2, 3, 1]], dtype=int32)"
            ]
          },
          "metadata": {
            "tags": []
          },
          "execution_count": 55
        }
      ]
    },
    {
      "cell_type": "code",
      "metadata": {
        "id": "uVZBM8RgA8Vq"
      },
      "source": [
        "# 레이블 데이터 y에 대해서 원핫 인코딩\r\n",
        "Y = to_categorical(y, num_classes=vocab_size)"
      ],
      "execution_count": 56,
      "outputs": []
    },
    {
      "cell_type": "code",
      "metadata": {
        "colab": {
          "base_uri": "https://localhost:8080/"
        },
        "id": "HpbH3INSBTqN",
        "outputId": "652c72fd-9780-4c8a-8104-4011acd73e2b"
      },
      "source": [
        "Y[:3]"
      ],
      "execution_count": 57,
      "outputs": [
        {
          "output_type": "execute_result",
          "data": {
            "text/plain": [
              "array([[0., 0., 0., 1., 0., 0., 0., 0., 0., 0., 0., 0.],\n",
              "       [0., 1., 0., 0., 0., 0., 0., 0., 0., 0., 0., 0.],\n",
              "       [0., 0., 0., 0., 1., 0., 0., 0., 0., 0., 0., 0.]], dtype=float32)"
            ]
          },
          "metadata": {
            "tags": []
          },
          "execution_count": 57
        }
      ]
    },
    {
      "cell_type": "markdown",
      "metadata": {
        "id": "GDd6A6blB89s"
      },
      "source": [
        "### 모델 정의\r\n",
        "- Embedding\r\n",
        "- SimpleRNN"
      ]
    },
    {
      "cell_type": "code",
      "metadata": {
        "id": "xvvoTpz5BU4D"
      },
      "source": [
        "from tensorflow.keras.models import Sequential\r\n",
        "from tensorflow.keras.layers import Embedding,SimpleRNN, Dense"
      ],
      "execution_count": 58,
      "outputs": []
    },
    {
      "cell_type": "code",
      "metadata": {
        "colab": {
          "base_uri": "https://localhost:8080/"
        },
        "id": "YqTPvsbdEDY-",
        "outputId": "ea6e9a16-59c4-4f06-84b7-1de9a7236333"
      },
      "source": [
        "model = Sequential()\r\n",
        "model.add(Embedding(vocab_size, 5, input_length=max_len-1))\r\n",
        "model.add(SimpleRNN(32))\r\n",
        "model.add(Dense(vocab_size, activation='softmax'))\r\n",
        "model.summary()"
      ],
      "execution_count": 59,
      "outputs": [
        {
          "output_type": "stream",
          "text": [
            "Model: \"sequential_1\"\n",
            "_________________________________________________________________\n",
            "Layer (type)                 Output Shape              Param #   \n",
            "=================================================================\n",
            "embedding_1 (Embedding)      (None, 5, 5)              60        \n",
            "_________________________________________________________________\n",
            "simple_rnn_1 (SimpleRNN)     (None, 32)                1216      \n",
            "_________________________________________________________________\n",
            "dense_1 (Dense)              (None, 12)                396       \n",
            "=================================================================\n",
            "Total params: 1,672\n",
            "Trainable params: 1,672\n",
            "Non-trainable params: 0\n",
            "_________________________________________________________________\n"
          ],
          "name": "stdout"
        }
      ]
    },
    {
      "cell_type": "code",
      "metadata": {
        "id": "Ort9i8_zFN-Q"
      },
      "source": [
        "model.compile(loss='categorical_crossentropy', \r\n",
        "              optimizer='adam', metrics=['accuracy'])"
      ],
      "execution_count": 60,
      "outputs": []
    },
    {
      "cell_type": "code",
      "metadata": {
        "id": "jG9ayrvHFr9F"
      },
      "source": [
        "history = model.fit(X, Y, epochs=200, verbose=0)"
      ],
      "execution_count": 61,
      "outputs": []
    },
    {
      "cell_type": "code",
      "metadata": {
        "colab": {
          "base_uri": "https://localhost:8080/"
        },
        "id": "eaFTYo5QGJDX",
        "outputId": "9a839b49-36af-4831-cf3e-e47a9fa3afa6"
      },
      "source": [
        "history.history['accuracy'][-1]"
      ],
      "execution_count": 62,
      "outputs": [
        {
          "output_type": "execute_result",
          "data": {
            "text/plain": [
              "0.9090909361839294"
            ]
          },
          "metadata": {
            "tags": []
          },
          "execution_count": 62
        }
      ]
    },
    {
      "cell_type": "markdown",
      "metadata": {
        "id": "rdWvBkhiGF59"
      },
      "source": [
        "### 모델 검증"
      ]
    },
    {
      "cell_type": "code",
      "metadata": {
        "id": "6SQE2674GCkn"
      },
      "source": [
        "# 모델 검증용 문장을 생성하는 함수\r\n",
        "def sentence_generation(model, t, current_word, n): # 모델, 토크나이저, 현재 단어, 반복할 횟수\r\n",
        "    init_word = current_word # 처음 들어온 단어도 마지막에 같이 출력하기위해 저장\r\n",
        "    sentence = ''\r\n",
        "    for _ in range(n): # n번 반복\r\n",
        "        encoded = t.texts_to_sequences([current_word])[0] # 현재 단어에 대한 정수 인코딩\r\n",
        "        encoded = pad_sequences([encoded], maxlen=5, padding='pre') # 데이터에 대한 패딩\r\n",
        "        result = model.predict_classes(encoded, verbose=0)\r\n",
        "    # 입력한 X(현재 단어)에 대해서 Y를 예측하고 Y(예측한 단어)를 result에 저장.\r\n",
        "        for word, index in t.word_index.items(): \r\n",
        "            if index == result: # 만약 예측한 단어와 인덱스와 동일한 단어가 있다면\r\n",
        "                break # 해당 단어가 예측 단어이므로 break\r\n",
        "        current_word = current_word + ' '  + word # 현재 단어 + ' ' + 예측 단어를 현재 단어로 변경\r\n",
        "        sentence = sentence + ' ' + word # 예측 단어를 문장에 저장\r\n",
        "        \r\n",
        "    # for문이므로 이 행동을 다시 반복\r\n",
        "    sentence = init_word + sentence\r\n",
        "    return sentence"
      ],
      "execution_count": 63,
      "outputs": []
    },
    {
      "cell_type": "code",
      "metadata": {
        "colab": {
          "base_uri": "https://localhost:8080/"
        },
        "id": "9hRkpILMHiIZ",
        "outputId": "088541d0-b11d-473d-c84f-f5694697a808"
      },
      "source": [
        "print(sentence_generation(model, t, '경마장에', 4))"
      ],
      "execution_count": 64,
      "outputs": [
        {
          "output_type": "stream",
          "text": [
            "/usr/local/lib/python3.6/dist-packages/tensorflow/python/keras/engine/sequential.py:450: UserWarning: `model.predict_classes()` is deprecated and will be removed after 2021-01-01. Please use instead:* `np.argmax(model.predict(x), axis=-1)`,   if your model does multi-class classification   (e.g. if it uses a `softmax` last-layer activation).* `(model.predict(x) > 0.5).astype(\"int32\")`,   if your model does binary classification   (e.g. if it uses a `sigmoid` last-layer activation).\n",
            "  warnings.warn('`model.predict_classes()` is deprecated and '\n"
          ],
          "name": "stderr"
        },
        {
          "output_type": "stream",
          "text": [
            "경마장에 말이 말이 뛰고 있다\n"
          ],
          "name": "stdout"
        }
      ]
    },
    {
      "cell_type": "code",
      "metadata": {
        "colab": {
          "base_uri": "https://localhost:8080/"
        },
        "id": "Dh57oW-zHrC-",
        "outputId": "dbf1e876-d260-4bee-bd2e-fe88059da1ff"
      },
      "source": [
        "print(sentence_generation(model, t, '그의', 2))"
      ],
      "execution_count": 65,
      "outputs": [
        {
          "output_type": "stream",
          "text": [
            "그의 말이 법이다\n"
          ],
          "name": "stdout"
        },
        {
          "output_type": "stream",
          "text": [
            "/usr/local/lib/python3.6/dist-packages/tensorflow/python/keras/engine/sequential.py:450: UserWarning: `model.predict_classes()` is deprecated and will be removed after 2021-01-01. Please use instead:* `np.argmax(model.predict(x), axis=-1)`,   if your model does multi-class classification   (e.g. if it uses a `softmax` last-layer activation).* `(model.predict(x) > 0.5).astype(\"int32\")`,   if your model does binary classification   (e.g. if it uses a `sigmoid` last-layer activation).\n",
            "  warnings.warn('`model.predict_classes()` is deprecated and '\n"
          ],
          "name": "stderr"
        }
      ]
    },
    {
      "cell_type": "code",
      "metadata": {
        "colab": {
          "base_uri": "https://localhost:8080/"
        },
        "id": "vt-mUKa3IGxW",
        "outputId": "97d788d4-a878-4d45-cd8c-345fd71d296d"
      },
      "source": [
        "print(sentence_generation(model, t, '가는', 5))"
      ],
      "execution_count": 66,
      "outputs": [
        {
          "output_type": "stream",
          "text": [
            "/usr/local/lib/python3.6/dist-packages/tensorflow/python/keras/engine/sequential.py:450: UserWarning: `model.predict_classes()` is deprecated and will be removed after 2021-01-01. Please use instead:* `np.argmax(model.predict(x), axis=-1)`,   if your model does multi-class classification   (e.g. if it uses a `softmax` last-layer activation).* `(model.predict(x) > 0.5).astype(\"int32\")`,   if your model does binary classification   (e.g. if it uses a `sigmoid` last-layer activation).\n",
            "  warnings.warn('`model.predict_classes()` is deprecated and '\n"
          ],
          "name": "stderr"
        },
        {
          "output_type": "stream",
          "text": [
            "가는 말이 고와야 오는 말이 곱다\n"
          ],
          "name": "stdout"
        }
      ]
    },
    {
      "cell_type": "code",
      "metadata": {
        "colab": {
          "base_uri": "https://localhost:8080/"
        },
        "id": "fSbfb5pkIKPv",
        "outputId": "acdc78ab-9700-4005-8451-d24d6d796866"
      },
      "source": [
        "enc = t.texts_to_sequences(['경마장에'])[0]\r\n",
        "enc = pad_sequences([enc], maxlen=5, padding='pre')\r\n",
        "enc"
      ],
      "execution_count": 67,
      "outputs": [
        {
          "output_type": "execute_result",
          "data": {
            "text/plain": [
              "array([[0, 0, 0, 0, 2]], dtype=int32)"
            ]
          },
          "metadata": {
            "tags": []
          },
          "execution_count": 67
        }
      ]
    },
    {
      "cell_type": "code",
      "metadata": {
        "colab": {
          "base_uri": "https://localhost:8080/"
        },
        "id": "HvE5uJKuJTkp",
        "outputId": "6e2dcf95-d814-4754-df27-0beef67cb2c2"
      },
      "source": [
        "result = np.argmax(model.predict(enc), axis=1)\r\n",
        "result"
      ],
      "execution_count": 68,
      "outputs": [
        {
          "output_type": "execute_result",
          "data": {
            "text/plain": [
              "array([1])"
            ]
          },
          "metadata": {
            "tags": []
          },
          "execution_count": 68
        }
      ]
    },
    {
      "cell_type": "code",
      "metadata": {
        "colab": {
          "base_uri": "https://localhost:8080/"
        },
        "id": "LB4IGaCbJfY2",
        "outputId": "595358f8-b70f-42a0-ca88-f873c11b0d03"
      },
      "source": [
        "for word, index in t.word_index.items(): \r\n",
        "    if index == result: \r\n",
        "        break \r\n",
        "print(word)"
      ],
      "execution_count": 69,
      "outputs": [
        {
          "output_type": "stream",
          "text": [
            "말이\n"
          ],
          "name": "stdout"
        }
      ]
    },
    {
      "cell_type": "markdown",
      "metadata": {
        "id": "b_JVEgjVaS3y"
      },
      "source": [
        "### 모델 변화\r\n",
        "- Embedding Vector 갯수 : [2, 4, 6, 8]\r\n",
        "- RNN 노드 갯수 : [24, 32]"
      ]
    },
    {
      "cell_type": "code",
      "metadata": {
        "id": "Xv2se01HbAq7"
      },
      "source": [
        "def excute_model(n_embed, n_rnn):\r\n",
        "  model = Sequential()\r\n",
        "  model.add(Embedding(vocab_size, n_embed, input_length=max_len-1))\r\n",
        "  model.add(SimpleRNN(n_rnn))\r\n",
        "  model.add(Dense(vocab_size, activation='softmax'))\r\n",
        "  model.compile(loss='categorical_crossentropy', \r\n",
        "              optimizer='adam', metrics=['accuracy'])\r\n",
        "  history = model.fit(X, Y, epochs=200, verbose=0)\r\n",
        "  print(f\"Accuracy: {history.history['accuracy'][-1]:.4f}\")\r\n",
        "  print(sentence_generation(model, t, '경마장에', 4))\r\n",
        "  print(sentence_generation(model, t, '그의', 2))\r\n",
        "  print(sentence_generation(model, t, '가는', 5))"
      ],
      "execution_count": 73,
      "outputs": []
    },
    {
      "cell_type": "code",
      "metadata": {
        "colab": {
          "base_uri": "https://localhost:8080/"
        },
        "id": "BJylHqzVJl-Y",
        "outputId": "e46e712c-6fc3-4e9f-bbc1-17df7b5f3c6a"
      },
      "source": [
        "for n_embed in [2, 4, 6, 8]:\r\n",
        "  for n_rnn in [24, 32]:\r\n",
        "    print('=========')\r\n",
        "    print(f'n_embed={n_embed}, n_rnn={n_rnn}')\r\n",
        "    excute_model(n_embed, n_rnn)\r\n",
        "    print()\r\n",
        "    "
      ],
      "execution_count": 74,
      "outputs": [
        {
          "output_type": "stream",
          "text": [
            "=========\n",
            "n_embed=2, n_rnn=24\n",
            "Accuracy: 0.9091\n"
          ],
          "name": "stdout"
        },
        {
          "output_type": "stream",
          "text": [
            "/usr/local/lib/python3.6/dist-packages/tensorflow/python/keras/engine/sequential.py:450: UserWarning: `model.predict_classes()` is deprecated and will be removed after 2021-01-01. Please use instead:* `np.argmax(model.predict(x), axis=-1)`,   if your model does multi-class classification   (e.g. if it uses a `softmax` last-layer activation).* `(model.predict(x) > 0.5).astype(\"int32\")`,   if your model does binary classification   (e.g. if it uses a `sigmoid` last-layer activation).\n",
            "  warnings.warn('`model.predict_classes()` is deprecated and '\n"
          ],
          "name": "stderr"
        },
        {
          "output_type": "stream",
          "text": [
            "경마장에 말이 말이 뛰고 있다\n",
            "그의 말이 법이다\n",
            "가는 말이 고와야 오는 말이 곱다\n",
            "\n",
            "=========\n",
            "n_embed=2, n_rnn=32\n",
            "Accuracy: 0.9091\n",
            "경마장에 말이 고와야 오는 말이\n",
            "그의 말이 법이다\n",
            "가는 말이 고와야 오는 말이 곱다\n",
            "\n",
            "=========\n",
            "n_embed=4, n_rnn=24\n",
            "Accuracy: 0.9091\n",
            "경마장에 말이 말이 뛰고 있다\n",
            "그의 말이 법이다\n",
            "가는 말이 고와야 오는 말이 곱다\n",
            "\n",
            "=========\n",
            "n_embed=4, n_rnn=32\n",
            "Accuracy: 0.9091\n",
            "경마장에 있는 말이 뛰고 있다\n",
            "그의 말이 법이다\n",
            "가는 말이 고와야 오는 말이 곱다\n",
            "\n",
            "=========\n",
            "n_embed=6, n_rnn=24\n",
            "Accuracy: 0.9091\n",
            "경마장에 있는 말이 뛰고 있다\n",
            "그의 말이 법이다\n",
            "가는 말이 법이다 오는 말이 곱다\n",
            "\n",
            "=========\n",
            "n_embed=6, n_rnn=32\n",
            "Accuracy: 1.0000\n",
            "경마장에 있는 말이 뛰고 있다\n",
            "그의 말이 법이다\n",
            "가는 말이 고와야 오는 말이 곱다\n",
            "\n",
            "=========\n",
            "n_embed=8, n_rnn=24\n",
            "Accuracy: 0.9091\n",
            "경마장에 말이 말이 뛰고 있다\n",
            "그의 말이 법이다\n",
            "가는 말이 고와야 오는 말이 곱다\n",
            "\n",
            "=========\n",
            "n_embed=8, n_rnn=32\n",
            "Accuracy: 1.0000\n",
            "경마장에 있는 말이 뛰고 있다\n",
            "그의 말이 법이다\n",
            "가는 말이 고와야 오는 말이 곱다\n",
            "\n"
          ],
          "name": "stdout"
        }
      ]
    },
    {
      "cell_type": "code",
      "metadata": {
        "id": "eP7onj4scRZs"
      },
      "source": [
        ""
      ],
      "execution_count": null,
      "outputs": []
    }
  ]
}