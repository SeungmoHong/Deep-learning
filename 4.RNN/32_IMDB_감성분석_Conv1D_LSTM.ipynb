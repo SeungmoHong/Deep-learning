{
  "nbformat": 4,
  "nbformat_minor": 0,
  "metadata": {
    "colab": {
      "name": "32_IMDB_감성분석_Conv1D_LSTM.ipynb",
      "provenance": [],
      "collapsed_sections": []
    },
    "kernelspec": {
      "name": "python3",
      "display_name": "Python 3"
    },
    "accelerator": "GPU"
  },
  "cells": [
    {
      "cell_type": "markdown",
      "metadata": {
        "id": "8QBkQEseotJr"
      },
      "source": [
        "# RNN을 이용한 IMDB 영화평 분류"
      ]
    },
    {
      "cell_type": "code",
      "metadata": {
        "id": "s5NKGT9wosh6"
      },
      "source": [
        "import numpy as np\r\n",
        "import tensorflow as tf\r\n",
        "from tensorflow.keras.preprocessing.sequence import pad_sequences\r\n",
        "from tensorflow.keras.utils import to_categorical\r\n",
        "\r\n",
        "seed = 2021\r\n",
        "np.random.seed(seed)\r\n",
        "tf.random.set_seed(seed)"
      ],
      "execution_count": 1,
      "outputs": []
    },
    {
      "cell_type": "code",
      "metadata": {
        "colab": {
          "base_uri": "https://localhost:8080/"
        },
        "id": "qkvSrlvVpV64",
        "outputId": "bf99155c-044c-42bf-a6d4-ee778c8099e9"
      },
      "source": [
        "from tensorflow.keras.datasets import imdb\r\n",
        "(X_train, y_train), (X_test, y_test) = imdb.load_data()"
      ],
      "execution_count": 2,
      "outputs": [
        {
          "output_type": "stream",
          "text": [
            "<string>:6: VisibleDeprecationWarning: Creating an ndarray from ragged nested sequences (which is a list-or-tuple of lists-or-tuples-or ndarrays with different lengths or shapes) is deprecated. If you meant to do this, you must specify 'dtype=object' when creating the ndarray\n",
            "/usr/local/lib/python3.6/dist-packages/tensorflow/python/keras/datasets/imdb.py:159: VisibleDeprecationWarning: Creating an ndarray from ragged nested sequences (which is a list-or-tuple of lists-or-tuples-or ndarrays with different lengths or shapes) is deprecated. If you meant to do this, you must specify 'dtype=object' when creating the ndarray\n",
            "  x_train, y_train = np.array(xs[:idx]), np.array(labels[:idx])\n",
            "/usr/local/lib/python3.6/dist-packages/tensorflow/python/keras/datasets/imdb.py:160: VisibleDeprecationWarning: Creating an ndarray from ragged nested sequences (which is a list-or-tuple of lists-or-tuples-or ndarrays with different lengths or shapes) is deprecated. If you meant to do this, you must specify 'dtype=object' when creating the ndarray\n",
            "  x_test, y_test = np.array(xs[idx:]), np.array(labels[idx:])\n"
          ],
          "name": "stderr"
        }
      ]
    },
    {
      "cell_type": "code",
      "metadata": {
        "colab": {
          "base_uri": "https://localhost:8080/"
        },
        "id": "b2l6OHHvpZ9A",
        "outputId": "8595901b-b6ed-4b53-dd6a-303c641bb971"
      },
      "source": [
        "X_train.shape, X_test.shape"
      ],
      "execution_count": 3,
      "outputs": [
        {
          "output_type": "execute_result",
          "data": {
            "text/plain": [
              "((25000,), (25000,))"
            ]
          },
          "metadata": {
            "tags": []
          },
          "execution_count": 3
        }
      ]
    },
    {
      "cell_type": "code",
      "metadata": {
        "colab": {
          "base_uri": "https://localhost:8080/"
        },
        "id": "bEhWmtn2p80h",
        "outputId": "3ba96f8b-3b29-4560-f8ac-deebda117535"
      },
      "source": [
        "X_train[:3]"
      ],
      "execution_count": 4,
      "outputs": [
        {
          "output_type": "execute_result",
          "data": {
            "text/plain": [
              "array([list([1, 14, 22, 16, 43, 530, 973, 1622, 1385, 65, 458, 4468, 66, 3941, 4, 173, 36, 256, 5, 25, 100, 43, 838, 112, 50, 670, 22665, 9, 35, 480, 284, 5, 150, 4, 172, 112, 167, 21631, 336, 385, 39, 4, 172, 4536, 1111, 17, 546, 38, 13, 447, 4, 192, 50, 16, 6, 147, 2025, 19, 14, 22, 4, 1920, 4613, 469, 4, 22, 71, 87, 12, 16, 43, 530, 38, 76, 15, 13, 1247, 4, 22, 17, 515, 17, 12, 16, 626, 18, 19193, 5, 62, 386, 12, 8, 316, 8, 106, 5, 4, 2223, 5244, 16, 480, 66, 3785, 33, 4, 130, 12, 16, 38, 619, 5, 25, 124, 51, 36, 135, 48, 25, 1415, 33, 6, 22, 12, 215, 28, 77, 52, 5, 14, 407, 16, 82, 10311, 8, 4, 107, 117, 5952, 15, 256, 4, 31050, 7, 3766, 5, 723, 36, 71, 43, 530, 476, 26, 400, 317, 46, 7, 4, 12118, 1029, 13, 104, 88, 4, 381, 15, 297, 98, 32, 2071, 56, 26, 141, 6, 194, 7486, 18, 4, 226, 22, 21, 134, 476, 26, 480, 5, 144, 30, 5535, 18, 51, 36, 28, 224, 92, 25, 104, 4, 226, 65, 16, 38, 1334, 88, 12, 16, 283, 5, 16, 4472, 113, 103, 32, 15, 16, 5345, 19, 178, 32]),\n",
              "       list([1, 194, 1153, 194, 8255, 78, 228, 5, 6, 1463, 4369, 5012, 134, 26, 4, 715, 8, 118, 1634, 14, 394, 20, 13, 119, 954, 189, 102, 5, 207, 110, 3103, 21, 14, 69, 188, 8, 30, 23, 7, 4, 249, 126, 93, 4, 114, 9, 2300, 1523, 5, 647, 4, 116, 9, 35, 8163, 4, 229, 9, 340, 1322, 4, 118, 9, 4, 130, 4901, 19, 4, 1002, 5, 89, 29, 952, 46, 37, 4, 455, 9, 45, 43, 38, 1543, 1905, 398, 4, 1649, 26, 6853, 5, 163, 11, 3215, 10156, 4, 1153, 9, 194, 775, 7, 8255, 11596, 349, 2637, 148, 605, 15358, 8003, 15, 123, 125, 68, 23141, 6853, 15, 349, 165, 4362, 98, 5, 4, 228, 9, 43, 36893, 1157, 15, 299, 120, 5, 120, 174, 11, 220, 175, 136, 50, 9, 4373, 228, 8255, 5, 25249, 656, 245, 2350, 5, 4, 9837, 131, 152, 491, 18, 46151, 32, 7464, 1212, 14, 9, 6, 371, 78, 22, 625, 64, 1382, 9, 8, 168, 145, 23, 4, 1690, 15, 16, 4, 1355, 5, 28, 6, 52, 154, 462, 33, 89, 78, 285, 16, 145, 95]),\n",
              "       list([1, 14, 47, 8, 30, 31, 7, 4, 249, 108, 7, 4, 5974, 54, 61, 369, 13, 71, 149, 14, 22, 112, 4, 2401, 311, 12, 16, 3711, 33, 75, 43, 1829, 296, 4, 86, 320, 35, 534, 19, 263, 4821, 1301, 4, 1873, 33, 89, 78, 12, 66, 16, 4, 360, 7, 4, 58, 316, 334, 11, 4, 1716, 43, 645, 662, 8, 257, 85, 1200, 42, 1228, 2578, 83, 68, 3912, 15, 36, 165, 1539, 278, 36, 69, 44076, 780, 8, 106, 14, 6905, 1338, 18, 6, 22, 12, 215, 28, 610, 40, 6, 87, 326, 23, 2300, 21, 23, 22, 12, 272, 40, 57, 31, 11, 4, 22, 47, 6, 2307, 51, 9, 170, 23, 595, 116, 595, 1352, 13, 191, 79, 638, 89, 51428, 14, 9, 8, 106, 607, 624, 35, 534, 6, 227, 7, 129, 113])],\n",
              "      dtype=object)"
            ]
          },
          "metadata": {
            "tags": []
          },
          "execution_count": 4
        }
      ]
    },
    {
      "cell_type": "code",
      "metadata": {
        "colab": {
          "base_uri": "https://localhost:8080/"
        },
        "id": "yieaf7ySsJQJ",
        "outputId": "8893f523-963f-42fb-e780-040f354121aa"
      },
      "source": [
        "index_dict = {}\r\n",
        "for key, value in imdb.get_word_index().items():\r\n",
        "  index_dict[value] = key\r\n",
        "len(index_dict)"
      ],
      "execution_count": 5,
      "outputs": [
        {
          "output_type": "execute_result",
          "data": {
            "text/plain": [
              "88584"
            ]
          },
          "metadata": {
            "tags": []
          },
          "execution_count": 5
        }
      ]
    },
    {
      "cell_type": "code",
      "metadata": {
        "colab": {
          "base_uri": "https://localhost:8080/",
          "height": 171
        },
        "id": "ZudR9tr-sQ_h",
        "outputId": "763ef661-175b-43b9-cf1e-7b2868788d73"
      },
      "source": [
        "# 첫번째 영화평\r\n",
        "' '.join(index_dict[s] for s in X_train[0])"
      ],
      "execution_count": 6,
      "outputs": [
        {
          "output_type": "execute_result",
          "data": {
            "application/vnd.google.colaboratory.intrinsic+json": {
              "type": "string"
            },
            "text/plain": [
              "\"the as you with out themselves powerful lets loves their becomes reaching had journalist of lot from anyone to have after out atmosphere never more room titillate it so heart shows to years of every never going villaronga help moments or of every chest visual movie except her was several of enough more with is now current film as you of mine potentially unfortunately of you than him that with out themselves her get for was camp of you movie sometimes movie that with scary but pratfalls to story wonderful that in seeing in character to of 70s musicians with heart had shadows they of here that with her serious to have does when from why what have critics they is you that isn't one will very to as itself with other tricky in of seen over landed for anyone of gilmore's br show's to whether from than out themselves history he name half some br of 'n odd was two most of mean for 1 any an boat she he should is thought frog but of script you not while history he heart to real at barrel but when from one bit then have two of script their with her nobody most that with wasn't to with armed acting watch an for with heartfelt film want an\""
            ]
          },
          "metadata": {
            "tags": []
          },
          "execution_count": 6
        }
      ]
    },
    {
      "cell_type": "code",
      "metadata": {
        "colab": {
          "base_uri": "https://localhost:8080/"
        },
        "id": "AatYlUKdqdFR",
        "outputId": "adbaf666-1b79-4582-9ce1-bae58265a3b9"
      },
      "source": [
        "# 영화평의 길이\r\n",
        "print('영화평의 최대 길이 :', max(len(l) for l in X_train))\r\n",
        "print('영화평의 평균 길이 :', sum(map(len, X_train))/len(X_train))"
      ],
      "execution_count": 7,
      "outputs": [
        {
          "output_type": "stream",
          "text": [
            "영화평의 최대 길이 : 2494\n",
            "영화평의 평균 길이 : 238.71364\n"
          ],
          "name": "stdout"
        }
      ]
    },
    {
      "cell_type": "code",
      "metadata": {
        "colab": {
          "base_uri": "https://localhost:8080/"
        },
        "id": "QHPXEWOxrkY4",
        "outputId": "49221d9f-8c0b-4184-9ccf-425ef35de7f8"
      },
      "source": [
        "unique_elements, counts_elements = \\\r\n",
        "    np.unique(y_train, return_counts=True)\r\n",
        "print(\"각 레이블에 대한 빈도수:\")\r\n",
        "label_cnt=dict(zip(unique_elements, counts_elements))\r\n",
        "print(label_cnt)"
      ],
      "execution_count": 8,
      "outputs": [
        {
          "output_type": "stream",
          "text": [
            "각 레이블에 대한 빈도수:\n",
            "{0: 12500, 1: 12500}\n"
          ],
          "name": "stdout"
        }
      ]
    },
    {
      "cell_type": "markdown",
      "metadata": {
        "id": "_f0tXmHFsX4h"
      },
      "source": [
        "### Conv1D , LSTM으로 로이터 뉴스 분류\r\n",
        "- 모든 단어가 아닌 빈도수 5000까지 (총 단어수 : 88,584)\r\n",
        "- 모든 문장이아니라 500단어 까지 (최대 2,494 단어)"
      ]
    },
    {
      "cell_type": "code",
      "metadata": {
        "id": "R5-fFxFsrowZ"
      },
      "source": [
        "from tensorflow.keras.models import Sequential, load_model\r\n",
        "from tensorflow.keras.layers import Dense, LSTM, Embedding\r\n",
        "from tensorflow.keras.layers import Dropout, MaxPooling1D, Conv1D\r\n",
        "from tensorflow.keras.preprocessing.sequence import pad_sequences\r\n",
        "from tensorflow.keras.utils import to_categorical\r\n",
        "from tensorflow.keras.callbacks import ModelCheckpoint, EarlyStopping"
      ],
      "execution_count": 9,
      "outputs": []
    },
    {
      "cell_type": "code",
      "metadata": {
        "colab": {
          "base_uri": "https://localhost:8080/"
        },
        "id": "SQ9vBcRXsvbp",
        "outputId": "9bc9eff7-8cf1-4b3f-82a0-c5bfb1abf43a"
      },
      "source": [
        "# 등장 빈도가 5,000번째까지의 단어들만 사용\r\n",
        "(X_train, y_train), (X_test, y_test) = \\\r\n",
        "    imdb.load_data(num_words=5000)"
      ],
      "execution_count": 10,
      "outputs": [
        {
          "output_type": "stream",
          "text": [
            "<string>:6: VisibleDeprecationWarning: Creating an ndarray from ragged nested sequences (which is a list-or-tuple of lists-or-tuples-or ndarrays with different lengths or shapes) is deprecated. If you meant to do this, you must specify 'dtype=object' when creating the ndarray\n",
            "/usr/local/lib/python3.6/dist-packages/tensorflow/python/keras/datasets/imdb.py:159: VisibleDeprecationWarning: Creating an ndarray from ragged nested sequences (which is a list-or-tuple of lists-or-tuples-or ndarrays with different lengths or shapes) is deprecated. If you meant to do this, you must specify 'dtype=object' when creating the ndarray\n",
            "  x_train, y_train = np.array(xs[:idx]), np.array(labels[:idx])\n",
            "/usr/local/lib/python3.6/dist-packages/tensorflow/python/keras/datasets/imdb.py:160: VisibleDeprecationWarning: Creating an ndarray from ragged nested sequences (which is a list-or-tuple of lists-or-tuples-or ndarrays with different lengths or shapes) is deprecated. If you meant to do this, you must specify 'dtype=object' when creating the ndarray\n",
            "  x_test, y_test = np.array(xs[idx:]), np.array(labels[idx:])\n"
          ],
          "name": "stderr"
        }
      ]
    },
    {
      "cell_type": "code",
      "metadata": {
        "colab": {
          "base_uri": "https://localhost:8080/"
        },
        "id": "uUV5OtEus4BZ",
        "outputId": "4a4112e3-1855-4f76-b3a7-2144fd102ef4"
      },
      "source": [
        "X_train.shape, X_test.shape"
      ],
      "execution_count": 11,
      "outputs": [
        {
          "output_type": "execute_result",
          "data": {
            "text/plain": [
              "((25000,), (25000,))"
            ]
          },
          "metadata": {
            "tags": []
          },
          "execution_count": 11
        }
      ]
    },
    {
      "cell_type": "code",
      "metadata": {
        "id": "xQgUl0LYutJw"
      },
      "source": [
        "# 모델의 입력으로 사용하는 모든 뉴스 기사의 길이를 동일하게 500으로 맞춤\n",
        "max_len = 500\n",
        "X_train = pad_sequences(X_train, maxlen=max_len)\n",
        "X_test = pad_sequences(X_test, maxlen=max_len)"
      ],
      "execution_count": 12,
      "outputs": []
    },
    {
      "cell_type": "markdown",
      "metadata": {
        "id": "o_7J1vfuuo2x"
      },
      "source": [
        "#### X_test의 10000개의 데이터를 검증셋으로, 나머지는 테스트셋으로\r\n"
      ]
    },
    {
      "cell_type": "code",
      "metadata": {
        "id": "OzZdT7lBua2F"
      },
      "source": [
        "from sklearn.model_selection import train_test_split\r\n",
        "\r\n",
        "X_val, X_test, y_val, y_test = \\\r\n",
        "    train_test_split(X_test, y_test, stratify=y_test, test_size=0.6, random_state=seed)"
      ],
      "execution_count": 13,
      "outputs": []
    },
    {
      "cell_type": "code",
      "metadata": {
        "colab": {
          "base_uri": "https://localhost:8080/"
        },
        "id": "NpwbxpXhuoqt",
        "outputId": "3bc8c20c-c649-4be7-f97d-93eeafae54f7"
      },
      "source": [
        "# 데이터 확인하기\r\n",
        "category = np.max(y_train) + 1\r\n",
        "print(category, '카테고리')\r\n",
        "print(len(X_train), '학습용 데이터 셋')\r\n",
        "print(len(X_val), '검증용 데이터 셋')\r\n",
        "print(len(X_test), '테스트용 데이터 셋')"
      ],
      "execution_count": 14,
      "outputs": [
        {
          "output_type": "stream",
          "text": [
            "2 카테고리\n",
            "25000 학습용 데이터 셋\n",
            "10000 검증용 데이터 셋\n",
            "15000 테스트용 데이터 셋\n"
          ],
          "name": "stdout"
        }
      ]
    },
    {
      "cell_type": "code",
      "metadata": {
        "colab": {
          "base_uri": "https://localhost:8080/"
        },
        "id": "h-XMC6Nwu4rh",
        "outputId": "a19fdc25-0331-4179-cd28-e34f9e58d0ef"
      },
      "source": [
        "# LSTM 모델\r\n",
        "model = Sequential()\r\n",
        "model.add(Embedding(5000, 120))\r\n",
        "model.add(Dropout(0.5))\r\n",
        "model.add(Conv1D(64, 5, padding='valid', activation='relu', strides=1))\r\n",
        "model.add(MaxPooling1D(pool_size=4))\r\n",
        "model.add(LSTM(60))\r\n",
        "model.add(Dense(1, activation='sigmoid'))\r\n",
        "model.summary()"
      ],
      "execution_count": 16,
      "outputs": [
        {
          "output_type": "stream",
          "text": [
            "Model: \"sequential_1\"\n",
            "_________________________________________________________________\n",
            "Layer (type)                 Output Shape              Param #   \n",
            "=================================================================\n",
            "embedding_1 (Embedding)      (None, None, 120)         600000    \n",
            "_________________________________________________________________\n",
            "dropout_1 (Dropout)          (None, None, 120)         0         \n",
            "_________________________________________________________________\n",
            "conv1d_1 (Conv1D)            (None, None, 64)          38464     \n",
            "_________________________________________________________________\n",
            "max_pooling1d (MaxPooling1D) (None, None, 64)          0         \n",
            "_________________________________________________________________\n",
            "lstm (LSTM)                  (None, 60)                30000     \n",
            "_________________________________________________________________\n",
            "dense (Dense)                (None, 1)                 61        \n",
            "=================================================================\n",
            "Total params: 668,525\n",
            "Trainable params: 668,525\n",
            "Non-trainable params: 0\n",
            "_________________________________________________________________\n"
          ],
          "name": "stdout"
        }
      ]
    },
    {
      "cell_type": "code",
      "metadata": {
        "id": "5eUmGQRAvCZV"
      },
      "source": [
        "model.compile(optimizer='adam', \r\n",
        "              loss='binary_crossentropy', \r\n",
        "              metrics=['accuracy'])"
      ],
      "execution_count": 17,
      "outputs": []
    },
    {
      "cell_type": "code",
      "metadata": {
        "id": "4tMPsfwwve2i"
      },
      "source": [
        "# Callback 함수 정의 - Best model, Early stopping\r\n",
        "es = EarlyStopping(monitor='val_loss', mode='min', verbose=1, patience=10)\r\n",
        "mc = ModelCheckpoint('model/imdb_best_model.h5', monitor='val_loss', \r\n",
        "                      verbose=1, save_best_only=True)"
      ],
      "execution_count": 18,
      "outputs": []
    },
    {
      "cell_type": "code",
      "metadata": {
        "colab": {
          "base_uri": "https://localhost:8080/"
        },
        "id": "l2mT9T2evvn6",
        "outputId": "689ca327-f5a3-426c-e70b-9aa41aea6427"
      },
      "source": [
        "# 모델의 실행\r\n",
        "history = model.fit(X_train, y_train, batch_size=200, epochs=50, \r\n",
        "                    validation_data=(X_val, y_val), verbose=2,\r\n",
        "                    callbacks=[mc, es])"
      ],
      "execution_count": 19,
      "outputs": [
        {
          "output_type": "stream",
          "text": [
            "Epoch 1/50\n",
            "125/125 - 10s - loss: 0.4598 - accuracy: 0.7709 - val_loss: 0.3345 - val_accuracy: 0.8550\n",
            "\n",
            "Epoch 00001: val_loss improved from inf to 0.33446, saving model to model/imdb_best_model.h5\n",
            "Epoch 2/50\n",
            "125/125 - 7s - loss: 0.2470 - accuracy: 0.9023 - val_loss: 0.2706 - val_accuracy: 0.8887\n",
            "\n",
            "Epoch 00002: val_loss improved from 0.33446 to 0.27055, saving model to model/imdb_best_model.h5\n",
            "Epoch 3/50\n",
            "125/125 - 7s - loss: 0.2039 - accuracy: 0.9234 - val_loss: 0.2946 - val_accuracy: 0.8803\n",
            "\n",
            "Epoch 00003: val_loss did not improve from 0.27055\n",
            "Epoch 4/50\n",
            "125/125 - 7s - loss: 0.1777 - accuracy: 0.9330 - val_loss: 0.2827 - val_accuracy: 0.8864\n",
            "\n",
            "Epoch 00004: val_loss did not improve from 0.27055\n",
            "Epoch 5/50\n",
            "125/125 - 7s - loss: 0.1501 - accuracy: 0.9439 - val_loss: 0.3103 - val_accuracy: 0.8839\n",
            "\n",
            "Epoch 00005: val_loss did not improve from 0.27055\n",
            "Epoch 6/50\n",
            "125/125 - 7s - loss: 0.1285 - accuracy: 0.9536 - val_loss: 0.3140 - val_accuracy: 0.8853\n",
            "\n",
            "Epoch 00006: val_loss did not improve from 0.27055\n",
            "Epoch 7/50\n",
            "125/125 - 7s - loss: 0.1069 - accuracy: 0.9634 - val_loss: 0.3231 - val_accuracy: 0.8827\n",
            "\n",
            "Epoch 00007: val_loss did not improve from 0.27055\n",
            "Epoch 8/50\n",
            "125/125 - 7s - loss: 0.1010 - accuracy: 0.9652 - val_loss: 0.3686 - val_accuracy: 0.8713\n",
            "\n",
            "Epoch 00008: val_loss did not improve from 0.27055\n",
            "Epoch 9/50\n",
            "125/125 - 7s - loss: 0.0892 - accuracy: 0.9690 - val_loss: 0.3666 - val_accuracy: 0.8791\n",
            "\n",
            "Epoch 00009: val_loss did not improve from 0.27055\n",
            "Epoch 10/50\n",
            "125/125 - 7s - loss: 0.0713 - accuracy: 0.9768 - val_loss: 0.3917 - val_accuracy: 0.8804\n",
            "\n",
            "Epoch 00010: val_loss did not improve from 0.27055\n",
            "Epoch 11/50\n",
            "125/125 - 7s - loss: 0.0606 - accuracy: 0.9809 - val_loss: 0.4021 - val_accuracy: 0.8683\n",
            "\n",
            "Epoch 00011: val_loss did not improve from 0.27055\n",
            "Epoch 12/50\n",
            "125/125 - 7s - loss: 0.0590 - accuracy: 0.9808 - val_loss: 0.4141 - val_accuracy: 0.8798\n",
            "\n",
            "Epoch 00012: val_loss did not improve from 0.27055\n",
            "Epoch 00012: early stopping\n"
          ],
          "name": "stdout"
        }
      ]
    },
    {
      "cell_type": "code",
      "metadata": {
        "id": "mhb4LPfFv6Mh"
      },
      "source": [
        "best_model = load_model('model/imdb_best_model.h5')"
      ],
      "execution_count": 20,
      "outputs": []
    },
    {
      "cell_type": "code",
      "metadata": {
        "colab": {
          "base_uri": "https://localhost:8080/"
        },
        "id": "25Ign1opwEoB",
        "outputId": "7076eca4-a11d-4c36-e775-4e07ff785f3b"
      },
      "source": [
        "# 테스트 정확도\r\n",
        "print(f\"\\n 테스트 정확도: {best_model.evaluate(X_test, y_test, verbose=2)[1]}\")"
      ],
      "execution_count": 21,
      "outputs": [
        {
          "output_type": "stream",
          "text": [
            "469/469 - 2s - loss: 0.2755 - accuracy: 0.8821\n",
            "\n",
            " 테스트 정확도: 0.8821333050727844\n"
          ],
          "name": "stdout"
        }
      ]
    },
    {
      "cell_type": "code",
      "metadata": {
        "id": "NEnIPjzgwQij"
      },
      "source": [
        "# 테스트셋\r\n",
        "y_vloss = history.history['val_loss']\r\n",
        "y_vacc = history.history['val_accuracy']\r\n",
        "# 학습셋\r\n",
        "y_loss = history.history['loss']\r\n",
        "y_acc = history.history['accuracy']"
      ],
      "execution_count": 22,
      "outputs": []
    },
    {
      "cell_type": "code",
      "metadata": {
        "colab": {
          "base_uri": "https://localhost:8080/",
          "height": 497
        },
        "id": "yiGzYKhszK3r",
        "outputId": "b7896ff8-5715-4471-8e04-f53b1b701502"
      },
      "source": [
        "import matplotlib.pyplot as plt\r\n",
        "%matplotlib inline\r\n",
        "x_len = np.arange(1, len(y_loss)+1)\r\n",
        "fig, ax0 = plt.subplots(figsize=(10,8))\r\n",
        "ax1 = ax0.twinx()\r\n",
        "ax0.plot(x_len, y_loss, c=\"blue\", label='Trainset_loss')\r\n",
        "ax0.plot(x_len, y_vloss, c=\"red\", label='Testset_loss')\r\n",
        "ax0.set_ylabel('loss')\r\n",
        "ax1.plot(x_len, y_acc, c=\"darkgreen\", label='Trainset_acc')\r\n",
        "ax1.plot(x_len, y_vacc, c=\"magenta\", label='Testset_acc')\r\n",
        "ax1.set_ylabel('accuracy')\r\n",
        "ax0.set_xlabel('epoch')\r\n",
        "ax0.legend(loc='lower center')\r\n",
        "ax1.legend(loc='upper center')\r\n",
        "plt.grid()\r\n",
        "plt.show()"
      ],
      "execution_count": 23,
      "outputs": [
        {
          "output_type": "display_data",
          "data": {
            "image/png": "[encoded data removed]",
            "text/plain": [
              "<Figure size 720x576 with 2 Axes>"
            ]
          },
          "metadata": {
            "tags": [],
            "needs_background": "light"
          }
        }
      ]
    },
    {
      "cell_type": "code",
      "metadata": {
        "id": "jRAnYKvDzMPC"
      },
      "source": [
        " "
      ],
      "execution_count": 23,
      "outputs": []
    }
  ]
}