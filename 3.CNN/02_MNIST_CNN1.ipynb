{
  "nbformat": 4,
  "nbformat_minor": 0,
  "metadata": {
    "colab": {
      "name": "02_MNIST_CNN1.ipynb",
      "provenance": [],
      "collapsed_sections": []
    },
    "kernelspec": {
      "name": "python3",
      "display_name": "Python 3"
    },
    "accelerator": "GPU"
  },
  "cells": [
    {
      "cell_type": "markdown",
      "metadata": {
        "id": "mXGRce8HMHnV"
      },
      "source": [
        "# MNIST 손글씨 - Convolutional Neural Network ver.1\r\n",
        "- Conv2D 2개\r\n"
      ]
    },
    {
      "cell_type": "code",
      "metadata": {
        "id": "fF3CjbZxL2F5"
      },
      "source": [
        "import numpy as np\r\n",
        "import tensorflow as tf"
      ],
      "execution_count": 1,
      "outputs": []
    },
    {
      "cell_type": "code",
      "metadata": {
        "id": "K6QMxRthMGqo"
      },
      "source": [
        "# 실행할 때마다 같은 결과를 출력하기 위한 seed 값 설정\r\n",
        "seed = 2021\r\n",
        "np.random.seed(seed)\r\n",
        "tf.random.set_seed(seed)"
      ],
      "execution_count": 2,
      "outputs": []
    },
    {
      "cell_type": "markdown",
      "metadata": {
        "id": "49WUrXnCMbHV"
      },
      "source": [
        "### 데이터 전처리"
      ]
    },
    {
      "cell_type": "code",
      "metadata": {
        "colab": {
          "base_uri": "https://localhost:8080/"
        },
        "id": "AL9HDHgBMaIm",
        "outputId": "64f92e9d-6fbe-4947-b052-fce3a1827ca4"
      },
      "source": [
        "from tensorflow.keras.datasets import mnist\r\n",
        "(X_train, Y_class_train), (X_test, Y_class_test) = mnist.load_data()"
      ],
      "execution_count": 3,
      "outputs": [
        {
          "output_type": "stream",
          "text": [
            "Downloading data from https://storage.googleapis.com/tensorflow/tf-keras-datasets/mnist.npz\n",
            "11493376/11490434 [==============================] - 0s 0us/step\n"
          ],
          "name": "stdout"
        }
      ]
    },
    {
      "cell_type": "code",
      "metadata": {
        "colab": {
          "base_uri": "https://localhost:8080/",
          "height": 265
        },
        "id": "mSj_Ou1rNHJu",
        "outputId": "4c3b7445-bb6b-4c43-e1a8-e5df56b044e4"
      },
      "source": [
        "import matplotlib.pyplot as plt\r\n",
        "%matplotlib inline\r\n",
        "plt.imshow(X_train[0], cmap='Greys')\r\n",
        "plt.show()"
      ],
      "execution_count": 4,
      "outputs": [
        {
          "output_type": "display_data",
          "data": {
            "image/png": "[encoded data removed]",
            "text/plain": [
              "<Figure size 432x288 with 1 Axes>"
            ]
          },
          "metadata": {
            "tags": [],
            "needs_background": "light"
          }
        }
      ]
    },
    {
      "cell_type": "code",
      "metadata": {
        "colab": {
          "base_uri": "https://localhost:8080/"
        },
        "id": "fzEWPQNhM3tW",
        "outputId": "8e19262c-33d8-4d76-ddfd-551af013dd92"
      },
      "source": [
        "X_train = X_train.reshape(-1, 28, 28, 1)\r\n",
        "X_test = X_test.reshape(-1, 28, 28, 1)\r\n",
        "X_train.shape, X_test.shape"
      ],
      "execution_count": 5,
      "outputs": [
        {
          "output_type": "execute_result",
          "data": {
            "text/plain": [
              "((60000, 28, 28, 1), (10000, 28, 28, 1))"
            ]
          },
          "metadata": {
            "tags": []
          },
          "execution_count": 5
        }
      ]
    },
    {
      "cell_type": "code",
      "metadata": {
        "colab": {
          "base_uri": "https://localhost:8080/"
        },
        "id": "HqiZAo5INtjP",
        "outputId": "cf3223f2-5715-41d4-c270-49b229a7e271"
      },
      "source": [
        "# 0 ~ 1 사이의 값으로 정규화\r\n",
        "X_train = X_train / 255.0\r\n",
        "X_train.shape"
      ],
      "execution_count": 6,
      "outputs": [
        {
          "output_type": "execute_result",
          "data": {
            "text/plain": [
              "(60000, 28, 28, 1)"
            ]
          },
          "metadata": {
            "tags": []
          },
          "execution_count": 6
        }
      ]
    },
    {
      "cell_type": "code",
      "metadata": {
        "colab": {
          "base_uri": "https://localhost:8080/"
        },
        "id": "BrWvyCqAOrw5",
        "outputId": "9285fcac-2035-47bb-a876-13ec541a79d9"
      },
      "source": [
        "X_test = X_test / 255.0\r\n",
        "type(X_test[0,0])"
      ],
      "execution_count": 7,
      "outputs": [
        {
          "output_type": "execute_result",
          "data": {
            "text/plain": [
              "numpy.ndarray"
            ]
          },
          "metadata": {
            "tags": []
          },
          "execution_count": 7
        }
      ]
    },
    {
      "cell_type": "code",
      "metadata": {
        "colab": {
          "base_uri": "https://localhost:8080/"
        },
        "id": "pDJzxNzsOycH",
        "outputId": "f5011289-3728-4ccf-a1ed-0c289498fbe1"
      },
      "source": [
        "Y_class_train[0]"
      ],
      "execution_count": 8,
      "outputs": [
        {
          "output_type": "execute_result",
          "data": {
            "text/plain": [
              "5"
            ]
          },
          "metadata": {
            "tags": []
          },
          "execution_count": 8
        }
      ]
    },
    {
      "cell_type": "code",
      "metadata": {
        "colab": {
          "base_uri": "https://localhost:8080/"
        },
        "id": "kDfQv7RrPNKJ",
        "outputId": "9dde09a0-b324-4f31-c946-e39945c4cc72"
      },
      "source": [
        "# One hot encoding\r\n",
        "from tensorflow.keras.utils import to_categorical\r\n",
        "Y_train = to_categorical(Y_class_train, 10)\r\n",
        "Y_test = to_categorical(Y_class_test, 10)\r\n",
        "Y_train[0]"
      ],
      "execution_count": 9,
      "outputs": [
        {
          "output_type": "execute_result",
          "data": {
            "text/plain": [
              "array([0., 0., 0., 0., 0., 1., 0., 0., 0., 0.], dtype=float32)"
            ]
          },
          "metadata": {
            "tags": []
          },
          "execution_count": 9
        }
      ]
    },
    {
      "cell_type": "markdown",
      "metadata": {
        "id": "00_2TxYeQAnN"
      },
      "source": [
        "### 모델 정의, 설정, 학습"
      ]
    },
    {
      "cell_type": "code",
      "metadata": {
        "id": "bMupk9uUPcXP"
      },
      "source": [
        "from tensorflow.keras.models import Sequential\r\n",
        "from tensorflow.keras.layers import Dense, Flatten, Conv2D\r\n",
        "import os\r\n",
        "MODEL_DIR = './model/'\r\n",
        "if not os.path.exists(MODEL_DIR):\r\n",
        "  os.mkdir(MODEL_DIR)"
      ],
      "execution_count": 10,
      "outputs": []
    },
    {
      "cell_type": "code",
      "metadata": {
        "colab": {
          "base_uri": "https://localhost:8080/"
        },
        "id": "uNLw-vndRLET",
        "outputId": "b6746886-d623-4af1-efa5-3a99437579ea"
      },
      "source": [
        "model = Sequential([\r\n",
        "                    Conv2D(32, kernel_size=(3,3), input_shape=(28, 28, 1), activation='relu'),\r\n",
        "                    Conv2D(64, (3,3), activation='relu'),\r\n",
        "                    Flatten(),\r\n",
        "                    Dense(512, activation='relu'),\r\n",
        "                    Dense(10, activation='softmax')\r\n",
        "])\r\n",
        "model.summary()"
      ],
      "execution_count": 11,
      "outputs": [
        {
          "output_type": "stream",
          "text": [
            "Model: \"sequential\"\n",
            "_________________________________________________________________\n",
            "Layer (type)                 Output Shape              Param #   \n",
            "=================================================================\n",
            "conv2d (Conv2D)              (None, 26, 26, 32)        320       \n",
            "_________________________________________________________________\n",
            "conv2d_1 (Conv2D)            (None, 24, 24, 64)        18496     \n",
            "_________________________________________________________________\n",
            "flatten (Flatten)            (None, 36864)             0         \n",
            "_________________________________________________________________\n",
            "dense (Dense)                (None, 512)               18874880  \n",
            "_________________________________________________________________\n",
            "dense_1 (Dense)              (None, 10)                5130      \n",
            "=================================================================\n",
            "Total params: 18,898,826\n",
            "Trainable params: 18,898,826\n",
            "Non-trainable params: 0\n",
            "_________________________________________________________________\n"
          ],
          "name": "stdout"
        }
      ]
    },
    {
      "cell_type": "code",
      "metadata": {
        "id": "0x8CiKeMRiig"
      },
      "source": [
        "# 모델 실행환경 설정\r\n",
        "model.compile(loss='categorical_crossentropy', optimizer='adam', metrics=['accuracy'])"
      ],
      "execution_count": 12,
      "outputs": []
    },
    {
      "cell_type": "code",
      "metadata": {
        "id": "TAGR-ObcUrzB"
      },
      "source": [
        "# 모델 저장 조건 설정\r\n",
        "modelpath = MODEL_DIR + \"best{epoch:03d}-{val_loss:.4f}.hdf5\""
      ],
      "execution_count": 13,
      "outputs": []
    },
    {
      "cell_type": "code",
      "metadata": {
        "id": "FIbL0EGPUxI6"
      },
      "source": [
        "# 모델 최적화 설정\r\n",
        "from keras.callbacks import ModelCheckpoint, EarlyStopping\r\n",
        "checkpointer = ModelCheckpoint(filepath=modelpath, monitor='val_loss',\r\n",
        "                               verbose=1,save_best_only=True)\r\n",
        "early_stopping = EarlyStopping(monitor='val_loss', patience=10)"
      ],
      "execution_count": 14,
      "outputs": []
    },
    {
      "cell_type": "code",
      "metadata": {
        "colab": {
          "base_uri": "https://localhost:8080/"
        },
        "id": "CZIDU9mpVDT6",
        "outputId": "f744c7f2-cdfd-4c77-def1-002b4fabda65"
      },
      "source": [
        "# 모델 실행\r\n",
        "history = model.fit(X_train, Y_train, validation_split=0.2,\r\n",
        "                    epochs=30, batch_size=200, verbose=0,\r\n",
        "                    callbacks=[checkpointer, early_stopping])"
      ],
      "execution_count": 15,
      "outputs": [
        {
          "output_type": "stream",
          "text": [
            "\n",
            "Epoch 00001: val_loss improved from inf to 0.05063, saving model to ./model/best001-0.0506.hdf5\n",
            "\n",
            "Epoch 00002: val_loss did not improve from 0.05063\n",
            "\n",
            "Epoch 00003: val_loss improved from 0.05063 to 0.04568, saving model to ./model/best003-0.0457.hdf5\n",
            "\n",
            "Epoch 00004: val_loss did not improve from 0.04568\n",
            "\n",
            "Epoch 00005: val_loss did not improve from 0.04568\n",
            "\n",
            "Epoch 00006: val_loss did not improve from 0.04568\n",
            "\n",
            "Epoch 00007: val_loss did not improve from 0.04568\n",
            "\n",
            "Epoch 00008: val_loss did not improve from 0.04568\n",
            "\n",
            "Epoch 00009: val_loss did not improve from 0.04568\n",
            "\n",
            "Epoch 00010: val_loss did not improve from 0.04568\n",
            "\n",
            "Epoch 00011: val_loss did not improve from 0.04568\n",
            "\n",
            "Epoch 00012: val_loss did not improve from 0.04568\n",
            "\n",
            "Epoch 00013: val_loss did not improve from 0.04568\n"
          ],
          "name": "stdout"
        }
      ]
    },
    {
      "cell_type": "code",
      "metadata": {
        "id": "-r4O1apEVhRM"
      },
      "source": [
        "from tensorflow.keras.models import load_model\r\n",
        "best_model = load_model('./model/best003-0.0457.hdf5')"
      ],
      "execution_count": 17,
      "outputs": []
    },
    {
      "cell_type": "code",
      "metadata": {
        "colab": {
          "base_uri": "https://localhost:8080/"
        },
        "id": "Yx8VlawOWRjj",
        "outputId": "cc5e391e-bb60-4f1d-cb83-2b59ca81171b"
      },
      "source": [
        "acc = best_model.evaluate(X_test, Y_test, verbose=2)[1]\r\n",
        "print(f\"\\n Test Accuracy: {acc:.4f}\")"
      ],
      "execution_count": 18,
      "outputs": [
        {
          "output_type": "stream",
          "text": [
            "313/313 - 1s - loss: 0.0350 - accuracy: 0.9879\n",
            "\n",
            " Test Accuracy: 0.9879\n"
          ],
          "name": "stdout"
        }
      ]
    },
    {
      "cell_type": "code",
      "metadata": {
        "id": "TteXWb8jWpLU"
      },
      "source": [
        "y_vloss = history.history['val_loss']\r\n",
        "y_loss = history.history['loss']"
      ],
      "execution_count": 19,
      "outputs": []
    },
    {
      "cell_type": "code",
      "metadata": {
        "colab": {
          "base_uri": "https://localhost:8080/",
          "height": 388
        },
        "id": "ZAVnn5wHXaCD",
        "outputId": "9aca85d4-3dff-4562-8749-83f48f4d4779"
      },
      "source": [
        "x_len = np.arange(1, len(y_loss)+1)\r\n",
        "plt.figure(figsize=(8,6))\r\n",
        "plt.plot(x_len, y_vloss, marker='.', c='red', label='Validationset_loss')\r\n",
        "plt.plot(x_len, y_loss, marker='.', c='blue', label='Trainset_loss')\r\n",
        "\r\n",
        "plt.legend(loc='upper right')\r\n",
        "plt.grid()\r\n",
        "plt.xlabel('epoch')\r\n",
        "plt.ylabel('loss')\r\n",
        "plt.show()"
      ],
      "execution_count": 20,
      "outputs": [
        {
          "output_type": "display_data",
          "data": {
            "image/png": "[encoded data removed]",
            "text/plain": [
              "<Figure size 576x432 with 1 Axes>"
            ]
          },
          "metadata": {
            "tags": [],
            "needs_background": "light"
          }
        }
      ]
    },
    {
      "cell_type": "code",
      "metadata": {
        "id": "LLZRtXKTYKlQ"
      },
      "source": [
        ""
      ],
      "execution_count": 20,
      "outputs": []
    }
  ]
}