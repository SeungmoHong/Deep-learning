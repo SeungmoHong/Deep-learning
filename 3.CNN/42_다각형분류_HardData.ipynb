{
  "nbformat": 4,
  "nbformat_minor": 0,
  "metadata": {
    "colab": {
      "name": "42_다각형분류_HardData.ipynb",
      "provenance": [],
      "collapsed_sections": []
    },
    "kernelspec": {
      "name": "python3",
      "display_name": "Python 3"
    }
  },
  "cells": [
    {
      "cell_type": "markdown",
      "metadata": {
        "id": "aV82lIsVb2S3"
      },
      "source": [
        "# 원, 삼각형, 사각형 구분하기"
      ]
    },
    {
      "cell_type": "markdown",
      "metadata": {
        "id": "1VdkiGN5c89O"
      },
      "source": [
        "### 2. 어려운 테스트 문제를 기존 CNN 모델로 푸는 경우 "
      ]
    },
    {
      "cell_type": "code",
      "metadata": {
        "colab": {
          "base_uri": "https://localhost:8080/"
        },
        "id": "5FeYbWy5k6xe",
        "outputId": "6a56bfe8-b615-43ca-eed3-285fabe387e6"
      },
      "source": [
        "!unzip -qq hard_handwriting_shape.zip -d hard_handwriting_shape"
      ],
      "execution_count": 1,
      "outputs": [
        {
          "output_type": "stream",
          "text": [
            "replace hard_handwriting_shape/test/circle/circle021.png? [y]es, [n]o, [A]ll, [N]one, [r]ename: "
          ],
          "name": "stdout"
        }
      ]
    },
    {
      "cell_type": "code",
      "metadata": {
        "id": "tombLaTAc39u"
      },
      "source": [
        "import numpy as np\r\n",
        "import tensorflow as tf\r\n",
        "from tensorflow.keras.models import Sequential\r\n",
        "from tensorflow.keras.layers import Dense, Flatten, Conv2D, Dropout, MaxPooling2D\r\n",
        "from tensorflow.keras.preprocessing.image import ImageDataGenerator"
      ],
      "execution_count": 2,
      "outputs": []
    },
    {
      "cell_type": "code",
      "metadata": {
        "id": "kGKhh6rrd5U5"
      },
      "source": [
        "# 실행할 때마다 같은 결과를 출력하기 위한 seed 값 설정\r\n",
        "seed = 2021\r\n",
        "np.random.seed(seed)\r\n",
        "tf.random.set_seed(seed)"
      ],
      "execution_count": 3,
      "outputs": []
    },
    {
      "cell_type": "markdown",
      "metadata": {
        "id": "uGccE-NYeFC1"
      },
      "source": [
        "### 데이터셋 생성하기"
      ]
    },
    {
      "cell_type": "code",
      "metadata": {
        "colab": {
          "base_uri": "https://localhost:8080/"
        },
        "id": "eEJBUaM2d8q_",
        "outputId": "da60dd98-812a-4d77-8593-483592633b58"
      },
      "source": [
        "train_datagen = ImageDataGenerator(rescale=1./255)\r\n",
        "train_generator = train_datagen.flow_from_directory(\r\n",
        "    'hard_handwriting_shape/train',\r\n",
        "    target_size = (24,24),\r\n",
        "    batch_size = 3,\r\n",
        "    class_mode='categorical'\r\n",
        ")"
      ],
      "execution_count": 4,
      "outputs": [
        {
          "output_type": "stream",
          "text": [
            "Found 45 images belonging to 3 classes.\n"
          ],
          "name": "stdout"
        }
      ]
    },
    {
      "cell_type": "code",
      "metadata": {
        "colab": {
          "base_uri": "https://localhost:8080/"
        },
        "id": "2AQLA3E7eb6N",
        "outputId": "eff1bcb4-79a8-44a0-e260-4746ba6c7743"
      },
      "source": [
        "!ls handwriting_shape/train"
      ],
      "execution_count": 5,
      "outputs": [
        {
          "output_type": "stream",
          "text": [
            "ls: cannot access 'handwriting_shape/train': No such file or directory\n"
          ],
          "name": "stdout"
        }
      ]
    },
    {
      "cell_type": "code",
      "metadata": {
        "colab": {
          "base_uri": "https://localhost:8080/"
        },
        "id": "UScBf8zwejwO",
        "outputId": "9332ecd5-122c-4ad5-d03e-3e24041f0327"
      },
      "source": [
        "test_datagen = ImageDataGenerator(rescale=1./255)\r\n",
        "test_generator = test_datagen.flow_from_directory(\r\n",
        "    'hard_handwriting_shape/test',\r\n",
        "    target_size = (24,24),\r\n",
        "    batch_size = 3,\r\n",
        "    class_mode='categorical'\r\n",
        ")"
      ],
      "execution_count": 6,
      "outputs": [
        {
          "output_type": "stream",
          "text": [
            "Found 15 images belonging to 3 classes.\n"
          ],
          "name": "stdout"
        }
      ]
    },
    {
      "cell_type": "code",
      "metadata": {
        "colab": {
          "base_uri": "https://localhost:8080/"
        },
        "id": "meW3HMbQersg",
        "outputId": "cd6689b9-cbb1-482f-d1a8-0d10e3bebcf0"
      },
      "source": [
        "train_generator.labels"
      ],
      "execution_count": 7,
      "outputs": [
        {
          "output_type": "execute_result",
          "data": {
            "text/plain": [
              "array([0, 0, 0, 0, 0, 0, 0, 0, 0, 0, 0, 0, 0, 0, 0, 1, 1, 1, 1, 1, 1, 1,\n",
              "       1, 1, 1, 1, 1, 1, 1, 1, 2, 2, 2, 2, 2, 2, 2, 2, 2, 2, 2, 2, 2, 2,\n",
              "       2], dtype=int32)"
            ]
          },
          "metadata": {
            "tags": []
          },
          "execution_count": 7
        }
      ]
    },
    {
      "cell_type": "code",
      "metadata": {
        "colab": {
          "base_uri": "https://localhost:8080/",
          "height": 35
        },
        "id": "qXh9MMQae1JP",
        "outputId": "a1ab952f-c3c2-4834-bd4d-713208c89670"
      },
      "source": [
        "train_generator.filenames[0]"
      ],
      "execution_count": 8,
      "outputs": [
        {
          "output_type": "execute_result",
          "data": {
            "application/vnd.google.colaboratory.intrinsic+json": {
              "type": "string"
            },
            "text/plain": [
              "'circle/circle001.png'"
            ]
          },
          "metadata": {
            "tags": []
          },
          "execution_count": 8
        }
      ]
    },
    {
      "cell_type": "markdown",
      "metadata": {
        "id": "NLdsvoGifV0B"
      },
      "source": [
        "### 모델 정의/ 설정 / 학습"
      ]
    },
    {
      "cell_type": "code",
      "metadata": {
        "colab": {
          "base_uri": "https://localhost:8080/"
        },
        "id": "z-T50B4Ie8se",
        "outputId": "f0b61116-08ec-4bf8-8b62-91698374fd81"
      },
      "source": [
        "model = Sequential()\r\n",
        "model.add(Conv2D(32, kernel_size=(3, 3),\r\n",
        "                 activation='relu', input_shape=(24,24,3)))\r\n",
        "model.add(Conv2D(64, (3, 3), activation='relu'))\r\n",
        "model.add(MaxPooling2D(pool_size=(2, 2)))\r\n",
        "model.add(Flatten())\r\n",
        "model.add(Dense(128, activation='relu'))\r\n",
        "model.add(Dense(3, activation='softmax'))\r\n",
        "model.summary()"
      ],
      "execution_count": 9,
      "outputs": [
        {
          "output_type": "stream",
          "text": [
            "Model: \"sequential\"\n",
            "_________________________________________________________________\n",
            "Layer (type)                 Output Shape              Param #   \n",
            "=================================================================\n",
            "conv2d (Conv2D)              (None, 22, 22, 32)        896       \n",
            "_________________________________________________________________\n",
            "conv2d_1 (Conv2D)            (None, 20, 20, 64)        18496     \n",
            "_________________________________________________________________\n",
            "max_pooling2d (MaxPooling2D) (None, 10, 10, 64)        0         \n",
            "_________________________________________________________________\n",
            "flatten (Flatten)            (None, 6400)              0         \n",
            "_________________________________________________________________\n",
            "dense (Dense)                (None, 128)               819328    \n",
            "_________________________________________________________________\n",
            "dense_1 (Dense)              (None, 3)                 387       \n",
            "=================================================================\n",
            "Total params: 839,107\n",
            "Trainable params: 839,107\n",
            "Non-trainable params: 0\n",
            "_________________________________________________________________\n"
          ],
          "name": "stdout"
        }
      ]
    },
    {
      "cell_type": "code",
      "metadata": {
        "id": "PSCEtzELf3hR"
      },
      "source": [
        "model.compile(loss='categorical_crossentropy', \r\n",
        "              optimizer='adam', metrics=['accuracy'])"
      ],
      "execution_count": 10,
      "outputs": []
    },
    {
      "cell_type": "markdown",
      "metadata": {
        "id": "n0kd-cQwgjZJ"
      },
      "source": [
        "### 모델 학습시키기\r\n",
        " - 첫번째 인자 : 훈련데이터셋을 제공할 제네레이터를 지정. 본 예제에서는 앞서 생성한 train_generator으로 지정.\r\n",
        "- steps_per_epoch : 한 epoch에 사용한 스텝 수를 지정. 총 45개의 훈련 샘플이 있고 배치사이즈가 3이므로 15 스텝으로 지정.\r\n",
        "- epochs : 전체 훈련 데이터셋에 대해 학습 반복 횟수를 지정. 200번을 반복적으로 학습.\r\n",
        "- validation_data : 검증데이터셋을 제공할 제네레이터를 지정. 본 예제에서는 앞서 생성한 validation_generator으로 지정.\r\n",
        "- validation_steps : 한 epoch 종료 시 마다 검증할 때 사용되는 검증 스텝 수를 지정. 홍 15개의 검증 샘플이 있고 배치사이즈가 3이므로 5 스텝으로 지정."
      ]
    },
    {
      "cell_type": "code",
      "metadata": {
        "colab": {
          "base_uri": "https://localhost:8080/"
        },
        "id": "fLmWpgM-gh1W",
        "outputId": "2f10a3b1-acab-4476-cd69-67e910a93ffd"
      },
      "source": [
        "model.fit_generator(\r\n",
        "        train_generator,\r\n",
        "        steps_per_epoch=15,\r\n",
        "        epochs=200,\r\n",
        "        validation_data=test_generator,\r\n",
        "        validation_steps=5)"
      ],
      "execution_count": 11,
      "outputs": [
        {
          "output_type": "stream",
          "text": [
            "Epoch 1/200\n"
          ],
          "name": "stdout"
        },
        {
          "output_type": "stream",
          "text": [
            "/usr/local/lib/python3.6/dist-packages/tensorflow/python/keras/engine/training.py:1844: UserWarning: `Model.fit_generator` is deprecated and will be removed in a future version. Please use `Model.fit`, which supports generators.\n",
            "  warnings.warn('`Model.fit_generator` is deprecated and '\n"
          ],
          "name": "stderr"
        },
        {
          "output_type": "stream",
          "text": [
            "15/15 [==============================] - 1s 56ms/step - loss: 1.2127 - accuracy: 0.3780 - val_loss: 1.9713 - val_accuracy: 0.3333\n",
            "Epoch 2/200\n",
            "15/15 [==============================] - 0s 22ms/step - loss: 0.2160 - accuracy: 0.8648 - val_loss: 2.8047 - val_accuracy: 0.3333\n",
            "Epoch 3/200\n",
            "15/15 [==============================] - 0s 23ms/step - loss: 0.0275 - accuracy: 1.0000 - val_loss: 4.0520 - val_accuracy: 0.3333\n",
            "Epoch 4/200\n",
            "15/15 [==============================] - 0s 25ms/step - loss: 0.0016 - accuracy: 1.0000 - val_loss: 4.9003 - val_accuracy: 0.3333\n",
            "Epoch 5/200\n",
            "15/15 [==============================] - 0s 22ms/step - loss: 3.3036e-04 - accuracy: 1.0000 - val_loss: 5.1594 - val_accuracy: 0.3333\n",
            "Epoch 6/200\n",
            "15/15 [==============================] - 0s 22ms/step - loss: 3.7895e-04 - accuracy: 1.0000 - val_loss: 5.2778 - val_accuracy: 0.3333\n",
            "Epoch 7/200\n",
            "15/15 [==============================] - 0s 23ms/step - loss: 1.5415e-04 - accuracy: 1.0000 - val_loss: 5.3617 - val_accuracy: 0.3333\n",
            "Epoch 8/200\n",
            "15/15 [==============================] - 0s 23ms/step - loss: 1.9308e-04 - accuracy: 1.0000 - val_loss: 5.4498 - val_accuracy: 0.3333\n",
            "Epoch 9/200\n",
            "15/15 [==============================] - 0s 23ms/step - loss: 1.4173e-04 - accuracy: 1.0000 - val_loss: 5.5312 - val_accuracy: 0.3333\n",
            "Epoch 10/200\n",
            "15/15 [==============================] - 0s 24ms/step - loss: 9.8107e-05 - accuracy: 1.0000 - val_loss: 5.5988 - val_accuracy: 0.3333\n",
            "Epoch 11/200\n",
            "15/15 [==============================] - 0s 23ms/step - loss: 8.3529e-05 - accuracy: 1.0000 - val_loss: 5.6331 - val_accuracy: 0.3333\n",
            "Epoch 12/200\n",
            "15/15 [==============================] - 0s 23ms/step - loss: 6.4568e-05 - accuracy: 1.0000 - val_loss: 5.6950 - val_accuracy: 0.3333\n",
            "Epoch 13/200\n",
            "15/15 [==============================] - 0s 22ms/step - loss: 5.3671e-05 - accuracy: 1.0000 - val_loss: 5.7593 - val_accuracy: 0.3333\n",
            "Epoch 14/200\n",
            "15/15 [==============================] - 0s 23ms/step - loss: 3.9882e-05 - accuracy: 1.0000 - val_loss: 5.8080 - val_accuracy: 0.3333\n",
            "Epoch 15/200\n",
            "15/15 [==============================] - 0s 23ms/step - loss: 3.1231e-05 - accuracy: 1.0000 - val_loss: 5.8680 - val_accuracy: 0.3333\n",
            "Epoch 16/200\n",
            "15/15 [==============================] - 0s 23ms/step - loss: 2.0334e-05 - accuracy: 1.0000 - val_loss: 5.9287 - val_accuracy: 0.3333\n",
            "Epoch 17/200\n",
            "15/15 [==============================] - 0s 24ms/step - loss: 2.0018e-05 - accuracy: 1.0000 - val_loss: 6.0034 - val_accuracy: 0.3333\n",
            "Epoch 18/200\n",
            "15/15 [==============================] - 0s 23ms/step - loss: 1.7033e-05 - accuracy: 1.0000 - val_loss: 6.0731 - val_accuracy: 0.3333\n",
            "Epoch 19/200\n",
            "15/15 [==============================] - 0s 23ms/step - loss: 1.2633e-05 - accuracy: 1.0000 - val_loss: 6.0923 - val_accuracy: 0.3333\n",
            "Epoch 20/200\n",
            "15/15 [==============================] - 0s 23ms/step - loss: 1.4479e-05 - accuracy: 1.0000 - val_loss: 6.1129 - val_accuracy: 0.3333\n",
            "Epoch 21/200\n",
            "15/15 [==============================] - 0s 23ms/step - loss: 1.4878e-05 - accuracy: 1.0000 - val_loss: 6.1631 - val_accuracy: 0.3333\n",
            "Epoch 22/200\n",
            "15/15 [==============================] - 0s 23ms/step - loss: 6.6545e-06 - accuracy: 1.0000 - val_loss: 6.2090 - val_accuracy: 0.3333\n",
            "Epoch 23/200\n",
            "15/15 [==============================] - 0s 23ms/step - loss: 8.4273e-06 - accuracy: 1.0000 - val_loss: 6.2497 - val_accuracy: 0.3333\n",
            "Epoch 24/200\n",
            "15/15 [==============================] - 0s 23ms/step - loss: 6.9088e-06 - accuracy: 1.0000 - val_loss: 6.2882 - val_accuracy: 0.3333\n",
            "Epoch 25/200\n",
            "15/15 [==============================] - 0s 22ms/step - loss: 6.5688e-06 - accuracy: 1.0000 - val_loss: 6.3369 - val_accuracy: 0.3333\n",
            "Epoch 26/200\n",
            "15/15 [==============================] - 0s 24ms/step - loss: 6.2471e-06 - accuracy: 1.0000 - val_loss: 6.3437 - val_accuracy: 0.3333\n",
            "Epoch 27/200\n",
            "15/15 [==============================] - 0s 23ms/step - loss: 5.2288e-06 - accuracy: 1.0000 - val_loss: 6.3780 - val_accuracy: 0.3333\n",
            "Epoch 28/200\n",
            "15/15 [==============================] - 0s 23ms/step - loss: 4.1632e-06 - accuracy: 1.0000 - val_loss: 6.4214 - val_accuracy: 0.3333\n",
            "Epoch 29/200\n",
            "15/15 [==============================] - 0s 23ms/step - loss: 4.2089e-06 - accuracy: 1.0000 - val_loss: 6.4346 - val_accuracy: 0.3333\n",
            "Epoch 30/200\n",
            "15/15 [==============================] - 0s 23ms/step - loss: 2.9008e-06 - accuracy: 1.0000 - val_loss: 6.4652 - val_accuracy: 0.3333\n",
            "Epoch 31/200\n",
            "15/15 [==============================] - 0s 22ms/step - loss: 3.9982e-06 - accuracy: 1.0000 - val_loss: 6.5016 - val_accuracy: 0.3333\n",
            "Epoch 32/200\n",
            "15/15 [==============================] - 0s 23ms/step - loss: 2.7764e-06 - accuracy: 1.0000 - val_loss: 6.5195 - val_accuracy: 0.3333\n",
            "Epoch 33/200\n",
            "15/15 [==============================] - 0s 23ms/step - loss: 2.3224e-06 - accuracy: 1.0000 - val_loss: 6.5555 - val_accuracy: 0.3333\n",
            "Epoch 34/200\n",
            "15/15 [==============================] - 0s 24ms/step - loss: 3.0647e-06 - accuracy: 1.0000 - val_loss: 6.5739 - val_accuracy: 0.3333\n",
            "Epoch 35/200\n",
            "15/15 [==============================] - 0s 30ms/step - loss: 1.9276e-06 - accuracy: 1.0000 - val_loss: 6.5956 - val_accuracy: 0.3333\n",
            "Epoch 36/200\n",
            "15/15 [==============================] - 0s 22ms/step - loss: 1.9147e-06 - accuracy: 1.0000 - val_loss: 6.6163 - val_accuracy: 0.3333\n",
            "Epoch 37/200\n",
            "15/15 [==============================] - 0s 23ms/step - loss: 2.2395e-06 - accuracy: 1.0000 - val_loss: 6.6444 - val_accuracy: 0.3333\n",
            "Epoch 38/200\n",
            "15/15 [==============================] - 0s 22ms/step - loss: 3.2664e-06 - accuracy: 1.0000 - val_loss: 6.6612 - val_accuracy: 0.3333\n",
            "Epoch 39/200\n",
            "15/15 [==============================] - 0s 23ms/step - loss: 2.0423e-06 - accuracy: 1.0000 - val_loss: 6.6802 - val_accuracy: 0.3333\n",
            "Epoch 40/200\n",
            "15/15 [==============================] - 0s 23ms/step - loss: 1.9237e-06 - accuracy: 1.0000 - val_loss: 6.6931 - val_accuracy: 0.3333\n",
            "Epoch 41/200\n",
            "15/15 [==============================] - 0s 25ms/step - loss: 1.6865e-06 - accuracy: 1.0000 - val_loss: 6.7215 - val_accuracy: 0.3333\n",
            "Epoch 42/200\n",
            "15/15 [==============================] - 0s 23ms/step - loss: 1.8156e-06 - accuracy: 1.0000 - val_loss: 6.7434 - val_accuracy: 0.3333\n",
            "Epoch 43/200\n",
            "15/15 [==============================] - 0s 23ms/step - loss: 1.2724e-06 - accuracy: 1.0000 - val_loss: 6.7616 - val_accuracy: 0.3333\n",
            "Epoch 44/200\n",
            "15/15 [==============================] - 0s 23ms/step - loss: 1.2135e-06 - accuracy: 1.0000 - val_loss: 6.7776 - val_accuracy: 0.3333\n",
            "Epoch 45/200\n",
            "15/15 [==============================] - 0s 23ms/step - loss: 1.8033e-06 - accuracy: 1.0000 - val_loss: 6.7976 - val_accuracy: 0.3333\n",
            "Epoch 46/200\n",
            "15/15 [==============================] - 0s 22ms/step - loss: 9.1325e-07 - accuracy: 1.0000 - val_loss: 6.8178 - val_accuracy: 0.3333\n",
            "Epoch 47/200\n",
            "15/15 [==============================] - 0s 22ms/step - loss: 1.6092e-06 - accuracy: 1.0000 - val_loss: 6.8404 - val_accuracy: 0.3333\n",
            "Epoch 48/200\n",
            "15/15 [==============================] - 0s 23ms/step - loss: 1.1970e-06 - accuracy: 1.0000 - val_loss: 6.8542 - val_accuracy: 0.3333\n",
            "Epoch 49/200\n",
            "15/15 [==============================] - 0s 23ms/step - loss: 1.0006e-06 - accuracy: 1.0000 - val_loss: 6.8589 - val_accuracy: 0.3333\n",
            "Epoch 50/200\n",
            "15/15 [==============================] - 0s 24ms/step - loss: 1.0719e-06 - accuracy: 1.0000 - val_loss: 6.8892 - val_accuracy: 0.3333\n",
            "Epoch 51/200\n",
            "15/15 [==============================] - 0s 23ms/step - loss: 1.6637e-06 - accuracy: 1.0000 - val_loss: 6.9022 - val_accuracy: 0.3333\n",
            "Epoch 52/200\n",
            "15/15 [==============================] - 0s 23ms/step - loss: 1.4148e-06 - accuracy: 1.0000 - val_loss: 6.9232 - val_accuracy: 0.3333\n",
            "Epoch 53/200\n",
            "15/15 [==============================] - 0s 24ms/step - loss: 8.6432e-07 - accuracy: 1.0000 - val_loss: 6.9388 - val_accuracy: 0.3333\n",
            "Epoch 54/200\n",
            "15/15 [==============================] - 0s 23ms/step - loss: 9.0979e-07 - accuracy: 1.0000 - val_loss: 6.9598 - val_accuracy: 0.3333\n",
            "Epoch 55/200\n",
            "15/15 [==============================] - 0s 23ms/step - loss: 6.7424e-07 - accuracy: 1.0000 - val_loss: 6.9643 - val_accuracy: 0.3333\n",
            "Epoch 56/200\n",
            "15/15 [==============================] - 0s 23ms/step - loss: 9.8654e-07 - accuracy: 1.0000 - val_loss: 6.9761 - val_accuracy: 0.3333\n",
            "Epoch 57/200\n",
            "15/15 [==============================] - 0s 25ms/step - loss: 7.7524e-07 - accuracy: 1.0000 - val_loss: 7.0048 - val_accuracy: 0.3333\n",
            "Epoch 58/200\n",
            "15/15 [==============================] - 0s 23ms/step - loss: 9.4181e-07 - accuracy: 1.0000 - val_loss: 7.0203 - val_accuracy: 0.3333\n",
            "Epoch 59/200\n",
            "15/15 [==============================] - 0s 23ms/step - loss: 7.8235e-07 - accuracy: 1.0000 - val_loss: 7.0340 - val_accuracy: 0.3333\n",
            "Epoch 60/200\n",
            "15/15 [==============================] - 0s 24ms/step - loss: 1.0541e-06 - accuracy: 1.0000 - val_loss: 7.0555 - val_accuracy: 0.3333\n",
            "Epoch 61/200\n",
            "15/15 [==============================] - 0s 23ms/step - loss: 5.7805e-07 - accuracy: 1.0000 - val_loss: 7.0689 - val_accuracy: 0.3333\n",
            "Epoch 62/200\n",
            "15/15 [==============================] - 0s 24ms/step - loss: 5.5192e-07 - accuracy: 1.0000 - val_loss: 7.0836 - val_accuracy: 0.3333\n",
            "Epoch 63/200\n",
            "15/15 [==============================] - 0s 23ms/step - loss: 6.8884e-07 - accuracy: 1.0000 - val_loss: 7.0890 - val_accuracy: 0.3333\n",
            "Epoch 64/200\n",
            "15/15 [==============================] - 0s 24ms/step - loss: 9.1334e-07 - accuracy: 1.0000 - val_loss: 7.1086 - val_accuracy: 0.3333\n",
            "Epoch 65/200\n",
            "15/15 [==============================] - 0s 23ms/step - loss: 7.2131e-07 - accuracy: 1.0000 - val_loss: 7.1260 - val_accuracy: 0.3333\n",
            "Epoch 66/200\n",
            "15/15 [==============================] - 0s 23ms/step - loss: 4.9490e-07 - accuracy: 1.0000 - val_loss: 7.1384 - val_accuracy: 0.3333\n",
            "Epoch 67/200\n",
            "15/15 [==============================] - 0s 23ms/step - loss: 5.2871e-07 - accuracy: 1.0000 - val_loss: 7.1449 - val_accuracy: 0.3333\n",
            "Epoch 68/200\n",
            "15/15 [==============================] - 0s 24ms/step - loss: 5.4139e-07 - accuracy: 1.0000 - val_loss: 7.1648 - val_accuracy: 0.3333\n",
            "Epoch 69/200\n",
            "15/15 [==============================] - 0s 24ms/step - loss: 6.4329e-07 - accuracy: 1.0000 - val_loss: 7.1817 - val_accuracy: 0.3333\n",
            "Epoch 70/200\n",
            "15/15 [==============================] - 0s 24ms/step - loss: 5.3828e-07 - accuracy: 1.0000 - val_loss: 7.1893 - val_accuracy: 0.3333\n",
            "Epoch 71/200\n",
            "15/15 [==============================] - 0s 24ms/step - loss: 7.4161e-07 - accuracy: 1.0000 - val_loss: 7.2024 - val_accuracy: 0.3333\n",
            "Epoch 72/200\n",
            "15/15 [==============================] - 0s 25ms/step - loss: 4.9052e-07 - accuracy: 1.0000 - val_loss: 7.2181 - val_accuracy: 0.3333\n",
            "Epoch 73/200\n",
            "15/15 [==============================] - 0s 22ms/step - loss: 4.5352e-07 - accuracy: 1.0000 - val_loss: 7.2226 - val_accuracy: 0.3333\n",
            "Epoch 74/200\n",
            "15/15 [==============================] - 0s 24ms/step - loss: 5.9978e-07 - accuracy: 1.0000 - val_loss: 7.2430 - val_accuracy: 0.3333\n",
            "Epoch 75/200\n",
            "15/15 [==============================] - 0s 23ms/step - loss: 4.4804e-07 - accuracy: 1.0000 - val_loss: 7.2575 - val_accuracy: 0.3333\n",
            "Epoch 76/200\n",
            "15/15 [==============================] - 0s 31ms/step - loss: 6.5887e-07 - accuracy: 1.0000 - val_loss: 7.2674 - val_accuracy: 0.3333\n",
            "Epoch 77/200\n",
            "15/15 [==============================] - 0s 26ms/step - loss: 4.0750e-07 - accuracy: 1.0000 - val_loss: 7.2858 - val_accuracy: 0.3333\n",
            "Epoch 78/200\n",
            "15/15 [==============================] - 0s 23ms/step - loss: 4.2714e-07 - accuracy: 1.0000 - val_loss: 7.2948 - val_accuracy: 0.3333\n",
            "Epoch 79/200\n",
            "15/15 [==============================] - 0s 23ms/step - loss: 3.6471e-07 - accuracy: 1.0000 - val_loss: 7.3044 - val_accuracy: 0.3333\n",
            "Epoch 80/200\n",
            "15/15 [==============================] - 0s 25ms/step - loss: 4.2436e-07 - accuracy: 1.0000 - val_loss: 7.3202 - val_accuracy: 0.3333\n",
            "Epoch 81/200\n",
            "15/15 [==============================] - 0s 24ms/step - loss: 3.6062e-07 - accuracy: 1.0000 - val_loss: 7.3308 - val_accuracy: 0.3333\n",
            "Epoch 82/200\n",
            "15/15 [==============================] - 0s 23ms/step - loss: 3.1627e-07 - accuracy: 1.0000 - val_loss: 7.3391 - val_accuracy: 0.3333\n",
            "Epoch 83/200\n",
            "15/15 [==============================] - 0s 24ms/step - loss: 4.9803e-07 - accuracy: 1.0000 - val_loss: 7.3557 - val_accuracy: 0.3333\n",
            "Epoch 84/200\n",
            "15/15 [==============================] - 0s 24ms/step - loss: 3.4427e-07 - accuracy: 1.0000 - val_loss: 7.3609 - val_accuracy: 0.3333\n",
            "Epoch 85/200\n",
            "15/15 [==============================] - 0s 27ms/step - loss: 4.3875e-07 - accuracy: 1.0000 - val_loss: 7.3726 - val_accuracy: 0.3333\n",
            "Epoch 86/200\n",
            "15/15 [==============================] - 0s 25ms/step - loss: 2.9585e-07 - accuracy: 1.0000 - val_loss: 7.3853 - val_accuracy: 0.3333\n",
            "Epoch 87/200\n",
            "15/15 [==============================] - 0s 23ms/step - loss: 3.0740e-07 - accuracy: 1.0000 - val_loss: 7.3991 - val_accuracy: 0.3333\n",
            "Epoch 88/200\n",
            "15/15 [==============================] - 0s 24ms/step - loss: 3.5170e-07 - accuracy: 1.0000 - val_loss: 7.4084 - val_accuracy: 0.3333\n",
            "Epoch 89/200\n",
            "15/15 [==============================] - 0s 24ms/step - loss: 3.4527e-07 - accuracy: 1.0000 - val_loss: 7.4203 - val_accuracy: 0.3333\n",
            "Epoch 90/200\n",
            "15/15 [==============================] - 0s 24ms/step - loss: 2.8888e-07 - accuracy: 1.0000 - val_loss: 7.4321 - val_accuracy: 0.3333\n",
            "Epoch 91/200\n",
            "15/15 [==============================] - 0s 25ms/step - loss: 2.6599e-07 - accuracy: 1.0000 - val_loss: 7.4398 - val_accuracy: 0.3333\n",
            "Epoch 92/200\n",
            "15/15 [==============================] - 0s 23ms/step - loss: 2.5949e-07 - accuracy: 1.0000 - val_loss: 7.4549 - val_accuracy: 0.3333\n",
            "Epoch 93/200\n",
            "15/15 [==============================] - 0s 24ms/step - loss: 2.7938e-07 - accuracy: 1.0000 - val_loss: 7.4660 - val_accuracy: 0.3333\n",
            "Epoch 94/200\n",
            "15/15 [==============================] - 0s 24ms/step - loss: 3.8896e-07 - accuracy: 1.0000 - val_loss: 7.4791 - val_accuracy: 0.3333\n",
            "Epoch 95/200\n",
            "15/15 [==============================] - 0s 22ms/step - loss: 2.3206e-07 - accuracy: 1.0000 - val_loss: 7.4847 - val_accuracy: 0.3333\n",
            "Epoch 96/200\n",
            "15/15 [==============================] - 0s 25ms/step - loss: 2.1574e-07 - accuracy: 1.0000 - val_loss: 7.4970 - val_accuracy: 0.3333\n",
            "Epoch 97/200\n",
            "15/15 [==============================] - 0s 25ms/step - loss: 2.9177e-07 - accuracy: 1.0000 - val_loss: 7.5078 - val_accuracy: 0.3333\n",
            "Epoch 98/200\n",
            "15/15 [==============================] - 0s 24ms/step - loss: 2.2463e-07 - accuracy: 1.0000 - val_loss: 7.5155 - val_accuracy: 0.3333\n",
            "Epoch 99/200\n",
            "15/15 [==============================] - 0s 24ms/step - loss: 2.2875e-07 - accuracy: 1.0000 - val_loss: 7.5247 - val_accuracy: 0.3333\n",
            "Epoch 100/200\n",
            "15/15 [==============================] - 0s 23ms/step - loss: 2.0226e-07 - accuracy: 1.0000 - val_loss: 7.5306 - val_accuracy: 0.3333\n",
            "Epoch 101/200\n",
            "15/15 [==============================] - 0s 24ms/step - loss: 3.1722e-07 - accuracy: 1.0000 - val_loss: 7.5359 - val_accuracy: 0.3333\n",
            "Epoch 102/200\n",
            "15/15 [==============================] - 0s 23ms/step - loss: 1.6845e-07 - accuracy: 1.0000 - val_loss: 7.5405 - val_accuracy: 0.3333\n",
            "Epoch 103/200\n",
            "15/15 [==============================] - 0s 24ms/step - loss: 3.1148e-07 - accuracy: 1.0000 - val_loss: 7.5551 - val_accuracy: 0.3333\n",
            "Epoch 104/200\n",
            "15/15 [==============================] - 0s 23ms/step - loss: 1.4360e-07 - accuracy: 1.0000 - val_loss: 7.5591 - val_accuracy: 0.3333\n",
            "Epoch 105/200\n",
            "15/15 [==============================] - 0s 24ms/step - loss: 1.4654e-07 - accuracy: 1.0000 - val_loss: 7.5671 - val_accuracy: 0.3333\n",
            "Epoch 106/200\n",
            "15/15 [==============================] - 0s 24ms/step - loss: 3.1743e-07 - accuracy: 1.0000 - val_loss: 7.5710 - val_accuracy: 0.3333\n",
            "Epoch 107/200\n",
            "15/15 [==============================] - 0s 24ms/step - loss: 1.6489e-07 - accuracy: 1.0000 - val_loss: 7.5806 - val_accuracy: 0.3333\n",
            "Epoch 108/200\n",
            "15/15 [==============================] - 0s 23ms/step - loss: 1.3261e-07 - accuracy: 1.0000 - val_loss: 7.5825 - val_accuracy: 0.3333\n",
            "Epoch 109/200\n",
            "15/15 [==============================] - 0s 25ms/step - loss: 1.5015e-07 - accuracy: 1.0000 - val_loss: 7.5959 - val_accuracy: 0.3333\n",
            "Epoch 110/200\n",
            "15/15 [==============================] - 0s 24ms/step - loss: 2.5623e-07 - accuracy: 1.0000 - val_loss: 7.6013 - val_accuracy: 0.3333\n",
            "Epoch 111/200\n",
            "15/15 [==============================] - 0s 24ms/step - loss: 1.7864e-07 - accuracy: 1.0000 - val_loss: 7.6051 - val_accuracy: 0.3333\n",
            "Epoch 112/200\n",
            "15/15 [==============================] - 0s 26ms/step - loss: 1.2474e-07 - accuracy: 1.0000 - val_loss: 7.6132 - val_accuracy: 0.3333\n",
            "Epoch 113/200\n",
            "15/15 [==============================] - 0s 23ms/step - loss: 2.8450e-07 - accuracy: 1.0000 - val_loss: 7.6171 - val_accuracy: 0.3333\n",
            "Epoch 114/200\n",
            "15/15 [==============================] - 0s 24ms/step - loss: 1.7073e-07 - accuracy: 1.0000 - val_loss: 7.6246 - val_accuracy: 0.3333\n",
            "Epoch 115/200\n",
            "15/15 [==============================] - 0s 23ms/step - loss: 1.4494e-07 - accuracy: 1.0000 - val_loss: 7.6337 - val_accuracy: 0.3333\n",
            "Epoch 116/200\n",
            "15/15 [==============================] - 0s 25ms/step - loss: 1.4893e-07 - accuracy: 1.0000 - val_loss: 7.6470 - val_accuracy: 0.3333\n",
            "Epoch 117/200\n",
            "15/15 [==============================] - 0s 24ms/step - loss: 1.4783e-07 - accuracy: 1.0000 - val_loss: 7.6514 - val_accuracy: 0.3333\n",
            "Epoch 118/200\n",
            "15/15 [==============================] - 0s 24ms/step - loss: 1.3553e-07 - accuracy: 1.0000 - val_loss: 7.6603 - val_accuracy: 0.3333\n",
            "Epoch 119/200\n",
            "15/15 [==============================] - 0s 24ms/step - loss: 9.0060e-08 - accuracy: 1.0000 - val_loss: 7.6678 - val_accuracy: 0.3333\n",
            "Epoch 120/200\n",
            "15/15 [==============================] - 0s 25ms/step - loss: 2.3210e-07 - accuracy: 1.0000 - val_loss: 7.6696 - val_accuracy: 0.3333\n",
            "Epoch 121/200\n",
            "15/15 [==============================] - 0s 23ms/step - loss: 1.7628e-07 - accuracy: 1.0000 - val_loss: 7.6775 - val_accuracy: 0.3333\n",
            "Epoch 122/200\n",
            "15/15 [==============================] - 0s 24ms/step - loss: 1.2919e-07 - accuracy: 1.0000 - val_loss: 7.6843 - val_accuracy: 0.3333\n",
            "Epoch 123/200\n",
            "15/15 [==============================] - 0s 25ms/step - loss: 2.1584e-07 - accuracy: 1.0000 - val_loss: 7.6908 - val_accuracy: 0.3333\n",
            "Epoch 124/200\n",
            "15/15 [==============================] - 0s 24ms/step - loss: 1.8561e-07 - accuracy: 1.0000 - val_loss: 7.7016 - val_accuracy: 0.3333\n",
            "Epoch 125/200\n",
            "15/15 [==============================] - 0s 24ms/step - loss: 1.2120e-07 - accuracy: 1.0000 - val_loss: 7.7081 - val_accuracy: 0.3333\n",
            "Epoch 126/200\n",
            "15/15 [==============================] - 0s 24ms/step - loss: 1.5201e-07 - accuracy: 1.0000 - val_loss: 7.7174 - val_accuracy: 0.3333\n",
            "Epoch 127/200\n",
            "15/15 [==============================] - 0s 24ms/step - loss: 1.2470e-07 - accuracy: 1.0000 - val_loss: 7.7237 - val_accuracy: 0.3333\n",
            "Epoch 128/200\n",
            "15/15 [==============================] - 0s 31ms/step - loss: 1.7706e-07 - accuracy: 1.0000 - val_loss: 7.7259 - val_accuracy: 0.3333\n",
            "Epoch 129/200\n",
            "15/15 [==============================] - 0s 25ms/step - loss: 1.3608e-07 - accuracy: 1.0000 - val_loss: 7.7350 - val_accuracy: 0.3333\n",
            "Epoch 130/200\n",
            "15/15 [==============================] - 0s 24ms/step - loss: 1.0785e-07 - accuracy: 1.0000 - val_loss: 7.7473 - val_accuracy: 0.3333\n",
            "Epoch 131/200\n",
            "15/15 [==============================] - 0s 23ms/step - loss: 1.2885e-07 - accuracy: 1.0000 - val_loss: 7.7520 - val_accuracy: 0.3333\n",
            "Epoch 132/200\n",
            "15/15 [==============================] - 0s 24ms/step - loss: 1.2521e-07 - accuracy: 1.0000 - val_loss: 7.7594 - val_accuracy: 0.3333\n",
            "Epoch 133/200\n",
            "15/15 [==============================] - 0s 26ms/step - loss: 1.2894e-07 - accuracy: 1.0000 - val_loss: 7.7636 - val_accuracy: 0.3333\n",
            "Epoch 134/200\n",
            "15/15 [==============================] - 0s 23ms/step - loss: 1.6564e-07 - accuracy: 1.0000 - val_loss: 7.7744 - val_accuracy: 0.3333\n",
            "Epoch 135/200\n",
            "15/15 [==============================] - 0s 24ms/step - loss: 9.5948e-08 - accuracy: 1.0000 - val_loss: 7.7809 - val_accuracy: 0.3333\n",
            "Epoch 136/200\n",
            "15/15 [==============================] - 0s 23ms/step - loss: 1.2080e-07 - accuracy: 1.0000 - val_loss: 7.7897 - val_accuracy: 0.3333\n",
            "Epoch 137/200\n",
            "15/15 [==============================] - 0s 25ms/step - loss: 1.1137e-07 - accuracy: 1.0000 - val_loss: 7.7990 - val_accuracy: 0.3333\n",
            "Epoch 138/200\n",
            "15/15 [==============================] - 0s 24ms/step - loss: 1.2923e-07 - accuracy: 1.0000 - val_loss: 7.8019 - val_accuracy: 0.3333\n",
            "Epoch 139/200\n",
            "15/15 [==============================] - 0s 25ms/step - loss: 9.5680e-08 - accuracy: 1.0000 - val_loss: 7.8113 - val_accuracy: 0.3333\n",
            "Epoch 140/200\n",
            "15/15 [==============================] - 0s 23ms/step - loss: 1.6314e-07 - accuracy: 1.0000 - val_loss: 7.8129 - val_accuracy: 0.3333\n",
            "Epoch 141/200\n",
            "15/15 [==============================] - 0s 25ms/step - loss: 1.0160e-07 - accuracy: 1.0000 - val_loss: 7.8182 - val_accuracy: 0.3333\n",
            "Epoch 142/200\n",
            "15/15 [==============================] - 0s 24ms/step - loss: 7.2469e-08 - accuracy: 1.0000 - val_loss: 7.8265 - val_accuracy: 0.3333\n",
            "Epoch 143/200\n",
            "15/15 [==============================] - 0s 24ms/step - loss: 1.1459e-07 - accuracy: 1.0000 - val_loss: 7.8318 - val_accuracy: 0.3333\n",
            "Epoch 144/200\n",
            "15/15 [==============================] - 0s 24ms/step - loss: 1.0910e-07 - accuracy: 1.0000 - val_loss: 7.8354 - val_accuracy: 0.3333\n",
            "Epoch 145/200\n",
            "15/15 [==============================] - 0s 25ms/step - loss: 1.5324e-07 - accuracy: 1.0000 - val_loss: 7.8373 - val_accuracy: 0.3333\n",
            "Epoch 146/200\n",
            "15/15 [==============================] - 0s 24ms/step - loss: 9.7011e-08 - accuracy: 1.0000 - val_loss: 7.8436 - val_accuracy: 0.3333\n",
            "Epoch 147/200\n",
            "15/15 [==============================] - 0s 27ms/step - loss: 7.9441e-08 - accuracy: 1.0000 - val_loss: 7.8463 - val_accuracy: 0.3333\n",
            "Epoch 148/200\n",
            "15/15 [==============================] - 0s 25ms/step - loss: 1.1091e-07 - accuracy: 1.0000 - val_loss: 7.8510 - val_accuracy: 0.3333\n",
            "Epoch 149/200\n",
            "15/15 [==============================] - 0s 24ms/step - loss: 7.0627e-08 - accuracy: 1.0000 - val_loss: 7.8507 - val_accuracy: 0.3333\n",
            "Epoch 150/200\n",
            "15/15 [==============================] - 0s 25ms/step - loss: 8.6682e-08 - accuracy: 1.0000 - val_loss: 7.8590 - val_accuracy: 0.3333\n",
            "Epoch 151/200\n",
            "15/15 [==============================] - 0s 25ms/step - loss: 7.1644e-08 - accuracy: 1.0000 - val_loss: 7.8619 - val_accuracy: 0.3333\n",
            "Epoch 152/200\n",
            "15/15 [==============================] - 0s 25ms/step - loss: 1.0253e-07 - accuracy: 1.0000 - val_loss: 7.8689 - val_accuracy: 0.3333\n",
            "Epoch 153/200\n",
            "15/15 [==============================] - 0s 24ms/step - loss: 9.4914e-08 - accuracy: 1.0000 - val_loss: 7.8700 - val_accuracy: 0.3333\n",
            "Epoch 154/200\n",
            "15/15 [==============================] - 0s 25ms/step - loss: 6.6306e-08 - accuracy: 1.0000 - val_loss: 7.8752 - val_accuracy: 0.3333\n",
            "Epoch 155/200\n",
            "15/15 [==============================] - 0s 24ms/step - loss: 7.4478e-08 - accuracy: 1.0000 - val_loss: 7.8784 - val_accuracy: 0.3333\n",
            "Epoch 156/200\n",
            "15/15 [==============================] - 0s 25ms/step - loss: 8.6809e-08 - accuracy: 1.0000 - val_loss: 7.8817 - val_accuracy: 0.3333\n",
            "Epoch 157/200\n",
            "15/15 [==============================] - 0s 23ms/step - loss: 5.4241e-08 - accuracy: 1.0000 - val_loss: 7.8873 - val_accuracy: 0.3333\n",
            "Epoch 158/200\n",
            "15/15 [==============================] - 0s 24ms/step - loss: 7.5564e-08 - accuracy: 1.0000 - val_loss: 7.8928 - val_accuracy: 0.3333\n",
            "Epoch 159/200\n",
            "15/15 [==============================] - 0s 25ms/step - loss: 5.0009e-08 - accuracy: 1.0000 - val_loss: 7.8975 - val_accuracy: 0.3333\n",
            "Epoch 160/200\n",
            "15/15 [==============================] - 0s 26ms/step - loss: 7.0310e-08 - accuracy: 1.0000 - val_loss: 7.9008 - val_accuracy: 0.3333\n",
            "Epoch 161/200\n",
            "15/15 [==============================] - 0s 26ms/step - loss: 5.3810e-08 - accuracy: 1.0000 - val_loss: 7.9054 - val_accuracy: 0.3333\n",
            "Epoch 162/200\n",
            "15/15 [==============================] - 0s 27ms/step - loss: 6.8257e-08 - accuracy: 1.0000 - val_loss: 7.9128 - val_accuracy: 0.3333\n",
            "Epoch 163/200\n",
            "15/15 [==============================] - 0s 24ms/step - loss: 5.4415e-08 - accuracy: 1.0000 - val_loss: 7.9136 - val_accuracy: 0.3333\n",
            "Epoch 164/200\n",
            "15/15 [==============================] - 0s 25ms/step - loss: 8.0432e-08 - accuracy: 1.0000 - val_loss: 7.9178 - val_accuracy: 0.3333\n",
            "Epoch 165/200\n",
            "15/15 [==============================] - 0s 24ms/step - loss: 8.5277e-08 - accuracy: 1.0000 - val_loss: 7.9226 - val_accuracy: 0.3333\n",
            "Epoch 166/200\n",
            "15/15 [==============================] - 0s 28ms/step - loss: 5.9310e-08 - accuracy: 1.0000 - val_loss: 7.9273 - val_accuracy: 0.3333\n",
            "Epoch 167/200\n",
            "15/15 [==============================] - 0s 23ms/step - loss: 6.9609e-08 - accuracy: 1.0000 - val_loss: 7.9331 - val_accuracy: 0.3333\n",
            "Epoch 168/200\n",
            "15/15 [==============================] - 0s 27ms/step - loss: 6.3035e-08 - accuracy: 1.0000 - val_loss: 7.9350 - val_accuracy: 0.3333\n",
            "Epoch 169/200\n",
            "15/15 [==============================] - 0s 26ms/step - loss: 6.1943e-08 - accuracy: 1.0000 - val_loss: 7.9399 - val_accuracy: 0.3333\n",
            "Epoch 170/200\n",
            "15/15 [==============================] - 0s 33ms/step - loss: 5.6720e-08 - accuracy: 1.0000 - val_loss: 7.9409 - val_accuracy: 0.3333\n",
            "Epoch 171/200\n",
            "15/15 [==============================] - 0s 26ms/step - loss: 7.9043e-08 - accuracy: 1.0000 - val_loss: 7.9440 - val_accuracy: 0.3333\n",
            "Epoch 172/200\n",
            "15/15 [==============================] - 0s 26ms/step - loss: 8.3391e-08 - accuracy: 1.0000 - val_loss: 7.9499 - val_accuracy: 0.3333\n",
            "Epoch 173/200\n",
            "15/15 [==============================] - 0s 25ms/step - loss: 6.0628e-08 - accuracy: 1.0000 - val_loss: 7.9531 - val_accuracy: 0.3333\n",
            "Epoch 174/200\n",
            "15/15 [==============================] - 0s 26ms/step - loss: 3.5918e-08 - accuracy: 1.0000 - val_loss: 7.9578 - val_accuracy: 0.3333\n",
            "Epoch 175/200\n",
            "15/15 [==============================] - 0s 25ms/step - loss: 4.8740e-08 - accuracy: 1.0000 - val_loss: 7.9572 - val_accuracy: 0.3333\n",
            "Epoch 176/200\n",
            "15/15 [==============================] - 0s 27ms/step - loss: 7.5407e-08 - accuracy: 1.0000 - val_loss: 7.9626 - val_accuracy: 0.3333\n",
            "Epoch 177/200\n",
            "15/15 [==============================] - 0s 25ms/step - loss: 4.9291e-08 - accuracy: 1.0000 - val_loss: 7.9688 - val_accuracy: 0.3333\n",
            "Epoch 178/200\n",
            "15/15 [==============================] - 0s 26ms/step - loss: 6.3633e-08 - accuracy: 1.0000 - val_loss: 7.9690 - val_accuracy: 0.3333\n",
            "Epoch 179/200\n",
            "15/15 [==============================] - 0s 25ms/step - loss: 6.7292e-08 - accuracy: 1.0000 - val_loss: 7.9709 - val_accuracy: 0.3333\n",
            "Epoch 180/200\n",
            "15/15 [==============================] - 0s 26ms/step - loss: 4.0749e-08 - accuracy: 1.0000 - val_loss: 7.9766 - val_accuracy: 0.3333\n",
            "Epoch 181/200\n",
            "15/15 [==============================] - 0s 25ms/step - loss: 6.6376e-08 - accuracy: 1.0000 - val_loss: 7.9784 - val_accuracy: 0.3333\n",
            "Epoch 182/200\n",
            "15/15 [==============================] - 0s 25ms/step - loss: 6.1910e-08 - accuracy: 1.0000 - val_loss: 7.9823 - val_accuracy: 0.3333\n",
            "Epoch 183/200\n",
            "15/15 [==============================] - 0s 24ms/step - loss: 6.1907e-08 - accuracy: 1.0000 - val_loss: 7.9869 - val_accuracy: 0.3333\n",
            "Epoch 184/200\n",
            "15/15 [==============================] - 0s 24ms/step - loss: 5.1767e-08 - accuracy: 1.0000 - val_loss: 7.9905 - val_accuracy: 0.3333\n",
            "Epoch 185/200\n",
            "15/15 [==============================] - 0s 24ms/step - loss: 5.9713e-08 - accuracy: 1.0000 - val_loss: 7.9936 - val_accuracy: 0.3333\n",
            "Epoch 186/200\n",
            "15/15 [==============================] - 0s 25ms/step - loss: 5.8351e-08 - accuracy: 1.0000 - val_loss: 7.9960 - val_accuracy: 0.3333\n",
            "Epoch 187/200\n",
            "15/15 [==============================] - 0s 24ms/step - loss: 4.5711e-08 - accuracy: 1.0000 - val_loss: 8.0013 - val_accuracy: 0.3333\n",
            "Epoch 188/200\n",
            "15/15 [==============================] - 0s 25ms/step - loss: 4.5230e-08 - accuracy: 1.0000 - val_loss: 8.0054 - val_accuracy: 0.3333\n",
            "Epoch 189/200\n",
            "15/15 [==============================] - 0s 24ms/step - loss: 4.5263e-08 - accuracy: 1.0000 - val_loss: 8.0090 - val_accuracy: 0.3333\n",
            "Epoch 190/200\n",
            "15/15 [==============================] - 0s 24ms/step - loss: 3.9766e-08 - accuracy: 1.0000 - val_loss: 8.0099 - val_accuracy: 0.3333\n",
            "Epoch 191/200\n",
            "15/15 [==============================] - 0s 27ms/step - loss: 6.6741e-08 - accuracy: 1.0000 - val_loss: 8.0132 - val_accuracy: 0.3333\n",
            "Epoch 192/200\n",
            "15/15 [==============================] - 0s 24ms/step - loss: 7.8318e-08 - accuracy: 1.0000 - val_loss: 8.0196 - val_accuracy: 0.3333\n",
            "Epoch 193/200\n",
            "15/15 [==============================] - 0s 25ms/step - loss: 3.3899e-08 - accuracy: 1.0000 - val_loss: 8.0201 - val_accuracy: 0.3333\n",
            "Epoch 194/200\n",
            "15/15 [==============================] - 0s 26ms/step - loss: 4.5077e-08 - accuracy: 1.0000 - val_loss: 8.0232 - val_accuracy: 0.3333\n",
            "Epoch 195/200\n",
            "15/15 [==============================] - 0s 25ms/step - loss: 7.2335e-08 - accuracy: 1.0000 - val_loss: 8.0299 - val_accuracy: 0.3333\n",
            "Epoch 196/200\n",
            "15/15 [==============================] - 0s 25ms/step - loss: 5.2061e-08 - accuracy: 1.0000 - val_loss: 8.0325 - val_accuracy: 0.3333\n",
            "Epoch 197/200\n",
            "15/15 [==============================] - 0s 25ms/step - loss: 4.9397e-08 - accuracy: 1.0000 - val_loss: 8.0356 - val_accuracy: 0.3333\n",
            "Epoch 198/200\n",
            "15/15 [==============================] - 0s 24ms/step - loss: 4.4368e-08 - accuracy: 1.0000 - val_loss: 8.0405 - val_accuracy: 0.3333\n",
            "Epoch 199/200\n",
            "15/15 [==============================] - 0s 25ms/step - loss: 4.6555e-08 - accuracy: 1.0000 - val_loss: 8.0433 - val_accuracy: 0.3333\n",
            "Epoch 200/200\n",
            "15/15 [==============================] - 0s 24ms/step - loss: 4.9950e-08 - accuracy: 1.0000 - val_loss: 8.0460 - val_accuracy: 0.3333\n"
          ],
          "name": "stdout"
        },
        {
          "output_type": "execute_result",
          "data": {
            "text/plain": [
              "<tensorflow.python.keras.callbacks.History at 0x7f381cef3da0>"
            ]
          },
          "metadata": {
            "tags": []
          },
          "execution_count": 11
        }
      ]
    },
    {
      "cell_type": "markdown",
      "metadata": {
        "id": "spR8Jo8_hdR2"
      },
      "source": [
        "### 모델 평가"
      ]
    },
    {
      "cell_type": "code",
      "metadata": {
        "colab": {
          "base_uri": "https://localhost:8080/"
        },
        "id": "6dYjQQlHhZue",
        "outputId": "6e0f3842-d72c-408b-eae5-1516037c6323"
      },
      "source": [
        "print(\"-- Evaluate --\")\r\n",
        "scores = model.evaluate_generator(test_generator, steps=5)\r\n",
        "print(\"%s: %.2f%%\" %(model.metrics_names[1], scores[1]*100))"
      ],
      "execution_count": 12,
      "outputs": [
        {
          "output_type": "stream",
          "text": [
            "-- Evaluate --\n",
            "accuracy: 33.33%\n"
          ],
          "name": "stdout"
        },
        {
          "output_type": "stream",
          "text": [
            "/usr/local/lib/python3.6/dist-packages/tensorflow/python/keras/engine/training.py:1877: UserWarning: `Model.evaluate_generator` is deprecated and will be removed in a future version. Please use `Model.evaluate`, which supports generators.\n",
            "  warnings.warn('`Model.evaluate_generator` is deprecated and '\n"
          ],
          "name": "stderr"
        }
      ]
    },
    {
      "cell_type": "code",
      "metadata": {
        "id": "2UdTmR1Thlwf"
      },
      "source": [
        ""
      ],
      "execution_count": 12,
      "outputs": []
    }
  ]
}