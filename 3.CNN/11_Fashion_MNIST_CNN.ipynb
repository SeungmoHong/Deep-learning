{
  "nbformat": 4,
  "nbformat_minor": 0,
  "metadata": {
    "colab": {
      "name": "11_Fashion_MNIST_DNN.ipynb",
      "provenance": [],
      "collapsed_sections": []
    },
    "kernelspec": {
      "name": "python3",
      "display_name": "Python 3"
    }
  },
  "cells": [
    {
      "cell_type": "markdown",
      "metadata": {
        "id": "mXGRce8HMHnV"
      },
      "source": [
        "# Fashion MNIST - Neural Network"
      ]
    },
    {
      "cell_type": "code",
      "metadata": {
        "id": "fF3CjbZxL2F5"
      },
      "source": [
        "import numpy as np\r\n",
        "import tensorflow as tf"
      ],
      "execution_count": 7,
      "outputs": []
    },
    {
      "cell_type": "code",
      "metadata": {
        "id": "K6QMxRthMGqo"
      },
      "source": [
        "# 실행할 때마다 같은 결과를 출력하기 위한 seed 값 설정\r\n",
        "seed = 2021\r\n",
        "np.random.seed(seed)\r\n",
        "tf.random.set_seed(seed)"
      ],
      "execution_count": 8,
      "outputs": []
    },
    {
      "cell_type": "markdown",
      "metadata": {
        "id": "49WUrXnCMbHV"
      },
      "source": [
        "### 데이터 전처리"
      ]
    },
    {
      "cell_type": "code",
      "metadata": {
        "id": "AL9HDHgBMaIm",
        "colab": {
          "base_uri": "https://localhost:8080/"
        },
        "outputId": "2620a215-cc5f-483b-e421-b14d6dea9488"
      },
      "source": [
        "from tensorflow.keras.datasets import fashion_mnist\r\n",
        "(X_train, Y_class_train), (X_test, Y_class_test) = fashion_mnist.load_data()"
      ],
      "execution_count": 9,
      "outputs": [
        {
          "output_type": "stream",
          "text": [
            "Downloading data from https://storage.googleapis.com/tensorflow/tf-keras-datasets/train-labels-idx1-ubyte.gz\n",
            "32768/29515 [=================================] - 0s 0us/step\n",
            "Downloading data from https://storage.googleapis.com/tensorflow/tf-keras-datasets/train-images-idx3-ubyte.gz\n",
            "26427392/26421880 [==============================] - 0s 0us/step\n",
            "Downloading data from https://storage.googleapis.com/tensorflow/tf-keras-datasets/t10k-labels-idx1-ubyte.gz\n",
            "8192/5148 [===============================================] - 0s 0us/step\n",
            "Downloading data from https://storage.googleapis.com/tensorflow/tf-keras-datasets/t10k-images-idx3-ubyte.gz\n",
            "4423680/4422102 [==============================] - 0s 0us/step\n"
          ],
          "name": "stdout"
        }
      ]
    },
    {
      "cell_type": "code",
      "metadata": {
        "colab": {
          "base_uri": "https://localhost:8080/"
        },
        "id": "fzEWPQNhM3tW",
        "outputId": "89d748cd-8080-4f6c-9ae9-8669b01cff9a"
      },
      "source": [
        "X_train.shape, X_test.shape"
      ],
      "execution_count": 10,
      "outputs": [
        {
          "output_type": "execute_result",
          "data": {
            "text/plain": [
              "((60000, 28, 28), (10000, 28, 28))"
            ]
          },
          "metadata": {
            "tags": []
          },
          "execution_count": 10
        }
      ]
    },
    {
      "cell_type": "code",
      "metadata": {
        "id": "jnpKYL6Z_vMN"
      },
      "source": [
        "class_names = ['T-shirt/top', 'Trouser', 'Pullover', 'Dress', 'Coat',\r\n",
        "               'Sandal', 'Shirt', 'Sneaker', 'Bag', 'Ankle boot']"
      ],
      "execution_count": 11,
      "outputs": []
    },
    {
      "cell_type": "code",
      "metadata": {
        "colab": {
          "base_uri": "https://localhost:8080/",
          "height": 265
        },
        "id": "mSj_Ou1rNHJu",
        "outputId": "dd02a221-cb0c-464d-80c5-5f93b0e37949"
      },
      "source": [
        "import matplotlib.pyplot as plt\r\n",
        "%matplotlib inline\r\n",
        "plt.imshow(X_train[0], cmap='Greys')\r\n",
        "plt.show()"
      ],
      "execution_count": 12,
      "outputs": [
        {
          "output_type": "display_data",
          "data": {
            "image/png": "[encoded data removed]",
            "text/plain": [
              "<Figure size 432x288 with 1 Axes>"
            ]
          },
          "metadata": {
            "tags": [],
            "needs_background": "light"
          }
        }
      ]
    },
    {
      "cell_type": "code",
      "metadata": {
        "colab": {
          "base_uri": "https://localhost:8080/"
        },
        "id": "WbUoUIgoNVP3",
        "outputId": "1ce8121b-36bb-4156-fd24-e333668e6a3d"
      },
      "source": [
        "import sys\r\n",
        "for x in X_train[0]:\r\n",
        "  for i in x:\r\n",
        "      sys.stdout.write(f'{i:3d}')\r\n",
        "  sys.stdout.write('\\n')"
      ],
      "execution_count": 13,
      "outputs": [
        {
          "output_type": "stream",
          "text": [
            "  0  0  0  0  0  0  0  0  0  0  0  0  0  0  0  0  0  0  0  0  0  0  0  0  0  0  0  0\n",
            "  0  0  0  0  0  0  0  0  0  0  0  0  0  0  0  0  0  0  0  0  0  0  0  0  0  0  0  0\n",
            "  0  0  0  0  0  0  0  0  0  0  0  0  0  0  0  0  0  0  0  0  0  0  0  0  0  0  0  0\n",
            "  0  0  0  0  0  0  0  0  0  0  0  0  1  0  0 13 73  0  0  1  4  0  0  0  0  1  1  0\n",
            "  0  0  0  0  0  0  0  0  0  0  0  0  3  0 36136127 62 54  0  0  0  1  3  4  0  0  3\n",
            "  0  0  0  0  0  0  0  0  0  0  0  0  6  0102204176134144123 23  0  0  0  0 12 10  0\n",
            "  0  0  0  0  0  0  0  0  0  0  0  0  0  0155236207178107156161109 64 23 77130 72 15\n",
            "  0  0  0  0  0  0  0  0  0  0  0  1  0 69207223218216216163127121122146141 88172 66\n",
            "  0  0  0  0  0  0  0  0  0  1  1  1  0200232232233229223223215213164127123196229  0\n",
            "  0  0  0  0  0  0  0  0  0  0  0  0  0183225216223228235227224222224221223245173  0\n",
            "  0  0  0  0  0  0  0  0  0  0  0  0  0193228218213198180212210211213223220243202  0\n",
            "  0  0  0  0  0  0  0  0  0  1  3  0 12219220212218192169227208218224212226197209 52\n",
            "  0  0  0  0  0  0  0  0  0  0  6  0 99244222220218203198221215213222220245119167 56\n",
            "  0  0  0  0  0  0  0  0  0  4  0  0 55236228230228240232213218223234217217209 92  0\n",
            "  0  0  1  4  6  7  2  0  0  0  0  0237226217223222219222221216223229215218255 77  0\n",
            "  0  3  0  0  0  0  0  0  0 62145204228207213221218208211218224223219215224244159  0\n",
            "  0  0  0  0 18 44 82107189228220222217226200205211230224234176188250248233238215  0\n",
            "  0 57187208224221224208204214208209200159245193206223255255221234221211220232246  0\n",
            "  3202228224221211211214205205205220240 80150255229221188154191210204209222228225  0\n",
            " 98233198210222229229234249220194215217241 65 73106117168219221215217223223224229 29\n",
            " 75204212204193205211225216185197206198213240195227245239223218212209222220221230 67\n",
            " 48203183194213197185190194192202214219221220236225216199206186181177172181205206115\n",
            "  0122219193179171183196204210213207211210200196194191195191198192176156167177210 92\n",
            "  0  0 74189212191175172175181185188189188193198204209210210211188188194192216170  0\n",
            "  2  0  0  0 66200222237239242246243244221220193191179182182181176166168 99 58  0  0\n",
            "  0  0  0  0  0  0  0 40 61 44 72 41 35  0  0  0  0  0  0  0  0  0  0  0  0  0  0  0\n",
            "  0  0  0  0  0  0  0  0  0  0  0  0  0  0  0  0  0  0  0  0  0  0  0  0  0  0  0  0\n",
            "  0  0  0  0  0  0  0  0  0  0  0  0  0  0  0  0  0  0  0  0  0  0  0  0  0  0  0  0\n"
          ],
          "name": "stdout"
        }
      ]
    },
    {
      "cell_type": "code",
      "metadata": {
        "colab": {
          "base_uri": "https://localhost:8080/"
        },
        "id": "HqiZAo5INtjP",
        "outputId": "c0c53dfb-dc0d-4c02-920f-82196040c5f6"
      },
      "source": [
        "# 0 ~ 1 사이의 값으로 정규화\r\n",
        "X_train = X_train.reshape(-1, 784)\r\n",
        "X_train = X_train / 255\r\n",
        "X_train.shape"
      ],
      "execution_count": 14,
      "outputs": [
        {
          "output_type": "execute_result",
          "data": {
            "text/plain": [
              "(60000, 784)"
            ]
          },
          "metadata": {
            "tags": []
          },
          "execution_count": 14
        }
      ]
    },
    {
      "cell_type": "code",
      "metadata": {
        "colab": {
          "base_uri": "https://localhost:8080/"
        },
        "id": "BrWvyCqAOrw5",
        "outputId": "22e82a24-c97e-4196-b70a-700b050ed0a6"
      },
      "source": [
        "X_test = X_test.reshape(-1, 784)\r\n",
        "X_test = X_test / 255\r\n",
        "type(X_test[0,0])"
      ],
      "execution_count": 15,
      "outputs": [
        {
          "output_type": "execute_result",
          "data": {
            "text/plain": [
              "numpy.float64"
            ]
          },
          "metadata": {
            "tags": []
          },
          "execution_count": 15
        }
      ]
    },
    {
      "cell_type": "code",
      "metadata": {
        "colab": {
          "base_uri": "https://localhost:8080/",
          "height": 35
        },
        "id": "pDJzxNzsOycH",
        "outputId": "ba16a98b-a25d-43c9-9b0b-95760ecd4cc6"
      },
      "source": [
        "class_names[Y_class_train[0]]"
      ],
      "execution_count": 16,
      "outputs": [
        {
          "output_type": "execute_result",
          "data": {
            "application/vnd.google.colaboratory.intrinsic+json": {
              "type": "string"
            },
            "text/plain": [
              "'Ankle boot'"
            ]
          },
          "metadata": {
            "tags": []
          },
          "execution_count": 16
        }
      ]
    },
    {
      "cell_type": "code",
      "metadata": {
        "colab": {
          "base_uri": "https://localhost:8080/"
        },
        "id": "kDfQv7RrPNKJ",
        "outputId": "1e2da974-3649-4af5-daf1-272d30931cca"
      },
      "source": [
        "# One hot encoding\r\n",
        "from tensorflow.keras.utils import to_categorical\r\n",
        "Y_train = to_categorical(Y_class_train, 10)\r\n",
        "Y_test = to_categorical(Y_class_test, 10)\r\n",
        "Y_train[0]"
      ],
      "execution_count": 17,
      "outputs": [
        {
          "output_type": "execute_result",
          "data": {
            "text/plain": [
              "array([0., 0., 0., 0., 0., 0., 0., 0., 0., 1.], dtype=float32)"
            ]
          },
          "metadata": {
            "tags": []
          },
          "execution_count": 17
        }
      ]
    },
    {
      "cell_type": "markdown",
      "metadata": {
        "id": "00_2TxYeQAnN"
      },
      "source": [
        "### 모델 정의, 설정, 학습"
      ]
    },
    {
      "cell_type": "code",
      "metadata": {
        "id": "bMupk9uUPcXP"
      },
      "source": [
        "from tensorflow.keras.models import Sequential\r\n",
        "from tensorflow.keras.layers import Dense\r\n",
        "import os\r\n",
        "MODEL_DIR = './model/'\r\n",
        "if not os.path.exists(MODEL_DIR):\r\n",
        "  os.mkdir(MODEL_DIR)"
      ],
      "execution_count": 18,
      "outputs": []
    },
    {
      "cell_type": "code",
      "metadata": {
        "colab": {
          "base_uri": "https://localhost:8080/"
        },
        "id": "uNLw-vndRLET",
        "outputId": "f13f671f-7427-494c-ee21-9056f4e1e485"
      },
      "source": [
        "model = Sequential([\r\n",
        "                    Dense(512, input_dim=784, activation='relu'),\r\n",
        "                    Dense(10, activation='softmax')\r\n",
        "])\r\n",
        "model.summary()"
      ],
      "execution_count": 19,
      "outputs": [
        {
          "output_type": "stream",
          "text": [
            "Model: \"sequential_1\"\n",
            "_________________________________________________________________\n",
            "Layer (type)                 Output Shape              Param #   \n",
            "=================================================================\n",
            "dense_2 (Dense)              (None, 512)               401920    \n",
            "_________________________________________________________________\n",
            "dense_3 (Dense)              (None, 10)                5130      \n",
            "=================================================================\n",
            "Total params: 407,050\n",
            "Trainable params: 407,050\n",
            "Non-trainable params: 0\n",
            "_________________________________________________________________\n"
          ],
          "name": "stdout"
        }
      ]
    },
    {
      "cell_type": "code",
      "metadata": {
        "id": "0x8CiKeMRiig"
      },
      "source": [
        "# 모델 실행환경 설정\r\n",
        "model.compile(loss='categorical_crossentropy', optimizer='adam', metrics=['accuracy'])"
      ],
      "execution_count": 20,
      "outputs": []
    },
    {
      "cell_type": "code",
      "metadata": {
        "id": "TAGR-ObcUrzB"
      },
      "source": [
        "# 모델 저장 조건 설정\r\n",
        "modelpath = MODEL_DIR + \"best{epoch:03d}-{val_loss:.4f}.hdf5\""
      ],
      "execution_count": 21,
      "outputs": []
    },
    {
      "cell_type": "code",
      "metadata": {
        "id": "FIbL0EGPUxI6"
      },
      "source": [
        "# 모델 최적화 설정\r\n",
        "from keras.callbacks import ModelCheckpoint, EarlyStopping\r\n",
        "checkpointer = ModelCheckpoint(filepath=modelpath, monitor='val_loss',\r\n",
        "                               verbose=1,save_best_only=True)\r\n",
        "early_stopping = EarlyStopping(monitor='val_loss', patience=10)"
      ],
      "execution_count": 22,
      "outputs": []
    },
    {
      "cell_type": "code",
      "metadata": {
        "colab": {
          "base_uri": "https://localhost:8080/"
        },
        "id": "CZIDU9mpVDT6",
        "outputId": "76d62489-f441-4bf8-ee2f-9866e2795f8a"
      },
      "source": [
        "# 모델 실행\r\n",
        "history = model.fit(X_train, Y_train, validation_split=0.2,\r\n",
        "                    epochs=30, batch_size=200, verbose=0,\r\n",
        "                    callbacks=[checkpointer, early_stopping])"
      ],
      "execution_count": 23,
      "outputs": [
        {
          "output_type": "stream",
          "text": [
            "\n",
            "Epoch 00001: val_loss improved from inf to 0.43495, saving model to ./model/best001-0.4349.hdf5\n",
            "\n",
            "Epoch 00002: val_loss improved from 0.43495 to 0.38010, saving model to ./model/best002-0.3801.hdf5\n",
            "\n",
            "Epoch 00003: val_loss improved from 0.38010 to 0.37758, saving model to ./model/best003-0.3776.hdf5\n",
            "\n",
            "Epoch 00004: val_loss improved from 0.37758 to 0.33831, saving model to ./model/best004-0.3383.hdf5\n",
            "\n",
            "Epoch 00005: val_loss did not improve from 0.33831\n",
            "\n",
            "Epoch 00006: val_loss improved from 0.33831 to 0.32659, saving model to ./model/best006-0.3266.hdf5\n",
            "\n",
            "Epoch 00007: val_loss improved from 0.32659 to 0.32477, saving model to ./model/best007-0.3248.hdf5\n",
            "\n",
            "Epoch 00008: val_loss did not improve from 0.32477\n",
            "\n",
            "Epoch 00009: val_loss did not improve from 0.32477\n",
            "\n",
            "Epoch 00010: val_loss improved from 0.32477 to 0.30540, saving model to ./model/best010-0.3054.hdf5\n",
            "\n",
            "Epoch 00011: val_loss did not improve from 0.30540\n",
            "\n",
            "Epoch 00012: val_loss did not improve from 0.30540\n",
            "\n",
            "Epoch 00013: val_loss did not improve from 0.30540\n",
            "\n",
            "Epoch 00014: val_loss did not improve from 0.30540\n",
            "\n",
            "Epoch 00015: val_loss did not improve from 0.30540\n",
            "\n",
            "Epoch 00016: val_loss did not improve from 0.30540\n",
            "\n",
            "Epoch 00017: val_loss did not improve from 0.30540\n",
            "\n",
            "Epoch 00018: val_loss did not improve from 0.30540\n",
            "\n",
            "Epoch 00019: val_loss improved from 0.30540 to 0.29803, saving model to ./model/best019-0.2980.hdf5\n",
            "\n",
            "Epoch 00020: val_loss did not improve from 0.29803\n",
            "\n",
            "Epoch 00021: val_loss did not improve from 0.29803\n",
            "\n",
            "Epoch 00022: val_loss did not improve from 0.29803\n",
            "\n",
            "Epoch 00023: val_loss did not improve from 0.29803\n",
            "\n",
            "Epoch 00024: val_loss did not improve from 0.29803\n",
            "\n",
            "Epoch 00025: val_loss did not improve from 0.29803\n",
            "\n",
            "Epoch 00026: val_loss did not improve from 0.29803\n",
            "\n",
            "Epoch 00027: val_loss did not improve from 0.29803\n",
            "\n",
            "Epoch 00028: val_loss did not improve from 0.29803\n",
            "\n",
            "Epoch 00029: val_loss did not improve from 0.29803\n"
          ],
          "name": "stdout"
        }
      ]
    },
    {
      "cell_type": "code",
      "metadata": {
        "id": "-r4O1apEVhRM"
      },
      "source": [
        "from tensorflow.keras.models import load_model\r\n",
        "best_model = load_model('./model/best019-0.2980.hdf5')"
      ],
      "execution_count": 25,
      "outputs": []
    },
    {
      "cell_type": "code",
      "metadata": {
        "colab": {
          "base_uri": "https://localhost:8080/"
        },
        "id": "Yx8VlawOWRjj",
        "outputId": "ac7730bf-aa04-48c1-a100-c70952e8e59a"
      },
      "source": [
        "acc = best_model.evaluate(X_test, Y_test, verbose=2)[1]\r\n",
        "print(f\"\\n Test Accuracy: {acc:.4f}\")"
      ],
      "execution_count": 26,
      "outputs": [
        {
          "output_type": "stream",
          "text": [
            "313/313 - 1s - loss: 0.3215 - accuracy: 0.8906\n",
            "\n",
            " Test Accuracy: 0.8906\n"
          ],
          "name": "stdout"
        }
      ]
    },
    {
      "cell_type": "code",
      "metadata": {
        "id": "TteXWb8jWpLU"
      },
      "source": [
        "y_vloss = history.history['val_loss']\r\n",
        "y_loss = history.history['loss']"
      ],
      "execution_count": 27,
      "outputs": []
    },
    {
      "cell_type": "code",
      "metadata": {
        "colab": {
          "base_uri": "https://localhost:8080/",
          "height": 388
        },
        "id": "ZAVnn5wHXaCD",
        "outputId": "0d47eb55-3cb1-4d6d-968d-c3731d0c458f"
      },
      "source": [
        "x_len = np.arange(1, len(y_loss)+1)\r\n",
        "plt.figure(figsize=(8,6))\r\n",
        "plt.plot(x_len, y_vloss, marker='.', c='red', label='Validationset_loss')\r\n",
        "plt.plot(x_len, y_loss, marker='.', c='blue', label='Trainset_loss')\r\n",
        "\r\n",
        "plt.legend(loc='upper right')\r\n",
        "plt.grid()\r\n",
        "plt.xlabel('epoch')\r\n",
        "plt.ylabel('loss')\r\n",
        "plt.show()"
      ],
      "execution_count": 28,
      "outputs": [
        {
          "output_type": "display_data",
          "data": {
            "image/png": "[encoded data removed]",
            "text/plain": [
              "<Figure size 576x432 with 1 Axes>"
            ]
          },
          "metadata": {
            "tags": [],
            "needs_background": "light"
          }
        }
      ]
    },
    {
      "cell_type": "code",
      "metadata": {
        "id": "LLZRtXKTYKlQ"
      },
      "source": [
        ""
      ],
      "execution_count": null,
      "outputs": []
    }
  ]
}